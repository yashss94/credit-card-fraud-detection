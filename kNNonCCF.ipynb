{
  "nbformat": 4,
  "nbformat_minor": 0,
  "metadata": {
    "colab": {
      "name": "kNNonCCF.ipynb",
      "provenance": [],
      "collapsed_sections": []
    },
    "kernelspec": {
      "name": "python3",
      "display_name": "Python 3"
    }
  },
  "cells": [
    {
      "cell_type": "markdown",
      "metadata": {
        "id": "4eTB8uWS0m_U",
        "colab_type": "text"
      },
      "source": [
        "# Credit Card Fraud Detection using k-Nearest Neighbors"
      ]
    },
    {
      "cell_type": "markdown",
      "metadata": {
        "id": "7DcHig6t0e3v",
        "colab_type": "text"
      },
      "source": [
        "## Exploratory Data Analysis on Credit Card Fraud Dataset\n",
        "\n",
        "The dataset contains credit card transactions over 2 days by European cardholders. Almost all predictors (features) have been anonymized for obvious reasons. There is a need to understand the data before it can be worked upon.\n",
        "\n"
      ]
    },
    {
      "cell_type": "markdown",
      "metadata": {
        "id": "2dLsFEwIZ1A4",
        "colab_type": "text"
      },
      "source": [
        "### 1. Import Data"
      ]
    },
    {
      "cell_type": "code",
      "metadata": {
        "id": "-VGJtt8___lG",
        "colab_type": "code",
        "colab": {}
      },
      "source": [
        "# author: Shamli Singh"
      ],
      "execution_count": 0,
      "outputs": []
    },
    {
      "cell_type": "code",
      "metadata": {
        "id": "EVj8ExbyWgKt",
        "colab_type": "code",
        "outputId": "342e139f-da60-407b-dde9-ebb3dc79eb67",
        "colab": {
          "base_uri": "https://localhost:8080/",
          "height": 70
        }
      },
      "source": [
        "# import basic libraries\n",
        "import numpy as np\n",
        "import scipy as sp\n",
        "import pandas as pd\n",
        "import matplotlib as mpl\n",
        "import matplotlib.pyplot as plt\n",
        "import seaborn as sns"
      ],
      "execution_count": 1,
      "outputs": [
        {
          "output_type": "stream",
          "text": [
            "/usr/local/lib/python3.6/dist-packages/statsmodels/tools/_testing.py:19: FutureWarning: pandas.util.testing is deprecated. Use the functions in the public API at pandas.testing instead.\n",
            "  import pandas.util.testing as tm\n"
          ],
          "name": "stderr"
        }
      ]
    },
    {
      "cell_type": "code",
      "metadata": {
        "id": "KgfYxZgXYQoF",
        "colab_type": "code",
        "outputId": "45fa2b37-ed85-4aa1-b0ad-aef45f8e8168",
        "colab": {
          "base_uri": "https://localhost:8080/",
          "height": 34
        }
      },
      "source": [
        "# import dataset\n",
        "from google.colab import drive\n",
        "drive.mount('/content/drive')"
      ],
      "execution_count": 2,
      "outputs": [
        {
          "output_type": "stream",
          "text": [
            "Drive already mounted at /content/drive; to attempt to forcibly remount, call drive.mount(\"/content/drive\", force_remount=True).\n"
          ],
          "name": "stdout"
        }
      ]
    },
    {
      "cell_type": "code",
      "metadata": {
        "id": "6mCwb1-fZKxa",
        "colab_type": "code",
        "colab": {}
      },
      "source": [
        "# store dataset to pandas dataframe\n",
        "path = \"/content/drive/My Drive/CS 271/Project/Data/creditcardfraud/creditcard.csv\"\n",
        "data = pd.read_csv(path)"
      ],
      "execution_count": 0,
      "outputs": []
    },
    {
      "cell_type": "code",
      "metadata": {
        "id": "aIHIMK_5dcR9",
        "colab_type": "code",
        "outputId": "78047572-13b8-461b-b479-0fe50f2a50a6",
        "colab": {
          "base_uri": "https://localhost:8080/",
          "height": 215
        }
      },
      "source": [
        "# get to know the data\n",
        "data.sample(5)"
      ],
      "execution_count": 4,
      "outputs": [
        {
          "output_type": "execute_result",
          "data": {
            "text/html": [
              "<div>\n",
              "<style scoped>\n",
              "    .dataframe tbody tr th:only-of-type {\n",
              "        vertical-align: middle;\n",
              "    }\n",
              "\n",
              "    .dataframe tbody tr th {\n",
              "        vertical-align: top;\n",
              "    }\n",
              "\n",
              "    .dataframe thead th {\n",
              "        text-align: right;\n",
              "    }\n",
              "</style>\n",
              "<table border=\"1\" class=\"dataframe\">\n",
              "  <thead>\n",
              "    <tr style=\"text-align: right;\">\n",
              "      <th></th>\n",
              "      <th>Time</th>\n",
              "      <th>V1</th>\n",
              "      <th>V2</th>\n",
              "      <th>V3</th>\n",
              "      <th>V4</th>\n",
              "      <th>V5</th>\n",
              "      <th>V6</th>\n",
              "      <th>V7</th>\n",
              "      <th>V8</th>\n",
              "      <th>V9</th>\n",
              "      <th>V10</th>\n",
              "      <th>V11</th>\n",
              "      <th>V12</th>\n",
              "      <th>V13</th>\n",
              "      <th>V14</th>\n",
              "      <th>V15</th>\n",
              "      <th>V16</th>\n",
              "      <th>V17</th>\n",
              "      <th>V18</th>\n",
              "      <th>V19</th>\n",
              "      <th>V20</th>\n",
              "      <th>V21</th>\n",
              "      <th>V22</th>\n",
              "      <th>V23</th>\n",
              "      <th>V24</th>\n",
              "      <th>V25</th>\n",
              "      <th>V26</th>\n",
              "      <th>V27</th>\n",
              "      <th>V28</th>\n",
              "      <th>Amount</th>\n",
              "      <th>Class</th>\n",
              "    </tr>\n",
              "  </thead>\n",
              "  <tbody>\n",
              "    <tr>\n",
              "      <th>264901</th>\n",
              "      <td>161647.0</td>\n",
              "      <td>2.062174</td>\n",
              "      <td>0.059165</td>\n",
              "      <td>-1.720997</td>\n",
              "      <td>0.428217</td>\n",
              "      <td>0.325334</td>\n",
              "      <td>-0.838759</td>\n",
              "      <td>0.089363</td>\n",
              "      <td>-0.142847</td>\n",
              "      <td>0.676194</td>\n",
              "      <td>-0.351067</td>\n",
              "      <td>-0.705024</td>\n",
              "      <td>-0.476907</td>\n",
              "      <td>-1.168305</td>\n",
              "      <td>-0.593427</td>\n",
              "      <td>0.385327</td>\n",
              "      <td>0.308474</td>\n",
              "      <td>0.608471</td>\n",
              "      <td>-0.253935</td>\n",
              "      <td>-0.019892</td>\n",
              "      <td>-0.239979</td>\n",
              "      <td>-0.370825</td>\n",
              "      <td>-1.017357</td>\n",
              "      <td>0.363513</td>\n",
              "      <td>0.475057</td>\n",
              "      <td>-0.318035</td>\n",
              "      <td>0.179340</td>\n",
              "      <td>-0.067636</td>\n",
              "      <td>-0.033275</td>\n",
              "      <td>2.49</td>\n",
              "      <td>0</td>\n",
              "    </tr>\n",
              "    <tr>\n",
              "      <th>221669</th>\n",
              "      <td>142652.0</td>\n",
              "      <td>-0.447491</td>\n",
              "      <td>0.042820</td>\n",
              "      <td>1.155978</td>\n",
              "      <td>-0.556050</td>\n",
              "      <td>-1.589706</td>\n",
              "      <td>2.210078</td>\n",
              "      <td>3.770266</td>\n",
              "      <td>-1.795128</td>\n",
              "      <td>0.448046</td>\n",
              "      <td>1.458105</td>\n",
              "      <td>-1.571867</td>\n",
              "      <td>-1.550705</td>\n",
              "      <td>-1.156615</td>\n",
              "      <td>-1.893045</td>\n",
              "      <td>-1.423487</td>\n",
              "      <td>-2.513832</td>\n",
              "      <td>-0.505774</td>\n",
              "      <td>1.234988</td>\n",
              "      <td>-0.962550</td>\n",
              "      <td>-0.836474</td>\n",
              "      <td>-0.532340</td>\n",
              "      <td>0.741105</td>\n",
              "      <td>-0.833609</td>\n",
              "      <td>0.644005</td>\n",
              "      <td>0.295405</td>\n",
              "      <td>-0.468947</td>\n",
              "      <td>-1.052344</td>\n",
              "      <td>-1.442305</td>\n",
              "      <td>508.28</td>\n",
              "      <td>0</td>\n",
              "    </tr>\n",
              "    <tr>\n",
              "      <th>119280</th>\n",
              "      <td>75393.0</td>\n",
              "      <td>-1.447423</td>\n",
              "      <td>1.644109</td>\n",
              "      <td>0.651114</td>\n",
              "      <td>-0.472409</td>\n",
              "      <td>0.269761</td>\n",
              "      <td>-0.312991</td>\n",
              "      <td>0.709396</td>\n",
              "      <td>-0.091531</td>\n",
              "      <td>0.586889</td>\n",
              "      <td>1.352510</td>\n",
              "      <td>0.913444</td>\n",
              "      <td>-0.176608</td>\n",
              "      <td>-0.803586</td>\n",
              "      <td>-0.656685</td>\n",
              "      <td>0.461748</td>\n",
              "      <td>0.643583</td>\n",
              "      <td>-0.597825</td>\n",
              "      <td>0.587291</td>\n",
              "      <td>0.365227</td>\n",
              "      <td>0.574506</td>\n",
              "      <td>-0.429562</td>\n",
              "      <td>-0.830271</td>\n",
              "      <td>-0.013161</td>\n",
              "      <td>-0.450259</td>\n",
              "      <td>0.047624</td>\n",
              "      <td>0.069313</td>\n",
              "      <td>0.240182</td>\n",
              "      <td>0.106291</td>\n",
              "      <td>9.84</td>\n",
              "      <td>0</td>\n",
              "    </tr>\n",
              "    <tr>\n",
              "      <th>45718</th>\n",
              "      <td>42469.0</td>\n",
              "      <td>-1.982802</td>\n",
              "      <td>-0.066287</td>\n",
              "      <td>1.726109</td>\n",
              "      <td>-2.434436</td>\n",
              "      <td>-0.841375</td>\n",
              "      <td>-1.323436</td>\n",
              "      <td>-0.442325</td>\n",
              "      <td>0.631218</td>\n",
              "      <td>1.752330</td>\n",
              "      <td>-1.670364</td>\n",
              "      <td>-1.057194</td>\n",
              "      <td>-0.335387</td>\n",
              "      <td>-1.790753</td>\n",
              "      <td>0.156740</td>\n",
              "      <td>0.785180</td>\n",
              "      <td>0.046762</td>\n",
              "      <td>-0.162972</td>\n",
              "      <td>0.497870</td>\n",
              "      <td>-0.147815</td>\n",
              "      <td>-0.099850</td>\n",
              "      <td>0.080280</td>\n",
              "      <td>0.441723</td>\n",
              "      <td>0.062928</td>\n",
              "      <td>0.384577</td>\n",
              "      <td>0.718023</td>\n",
              "      <td>0.027021</td>\n",
              "      <td>0.322982</td>\n",
              "      <td>0.068921</td>\n",
              "      <td>5.00</td>\n",
              "      <td>0</td>\n",
              "    </tr>\n",
              "    <tr>\n",
              "      <th>189922</th>\n",
              "      <td>128612.0</td>\n",
              "      <td>-2.334753</td>\n",
              "      <td>2.410573</td>\n",
              "      <td>-3.152297</td>\n",
              "      <td>-0.047362</td>\n",
              "      <td>-0.088721</td>\n",
              "      <td>-0.447415</td>\n",
              "      <td>-0.567663</td>\n",
              "      <td>1.415079</td>\n",
              "      <td>0.062499</td>\n",
              "      <td>-1.085613</td>\n",
              "      <td>0.236191</td>\n",
              "      <td>0.918429</td>\n",
              "      <td>0.000884</td>\n",
              "      <td>-1.145384</td>\n",
              "      <td>-1.034218</td>\n",
              "      <td>0.708604</td>\n",
              "      <td>1.844649</td>\n",
              "      <td>1.388996</td>\n",
              "      <td>0.602720</td>\n",
              "      <td>-0.553715</td>\n",
              "      <td>0.154995</td>\n",
              "      <td>-0.171054</td>\n",
              "      <td>0.060831</td>\n",
              "      <td>0.008591</td>\n",
              "      <td>-0.066902</td>\n",
              "      <td>-0.423668</td>\n",
              "      <td>-1.463622</td>\n",
              "      <td>-0.092754</td>\n",
              "      <td>15.00</td>\n",
              "      <td>0</td>\n",
              "    </tr>\n",
              "  </tbody>\n",
              "</table>\n",
              "</div>"
            ],
            "text/plain": [
              "            Time        V1        V2  ...       V28  Amount  Class\n",
              "264901  161647.0  2.062174  0.059165  ... -0.033275    2.49      0\n",
              "221669  142652.0 -0.447491  0.042820  ... -1.442305  508.28      0\n",
              "119280   75393.0 -1.447423  1.644109  ...  0.106291    9.84      0\n",
              "45718    42469.0 -1.982802 -0.066287  ...  0.068921    5.00      0\n",
              "189922  128612.0 -2.334753  2.410573  ... -0.092754   15.00      0\n",
              "\n",
              "[5 rows x 31 columns]"
            ]
          },
          "metadata": {
            "tags": []
          },
          "execution_count": 4
        }
      ]
    },
    {
      "cell_type": "code",
      "metadata": {
        "id": "wgOI_ch2d1OL",
        "colab_type": "code",
        "outputId": "391068db-df4c-43eb-9389-b5b074aa8016",
        "colab": {
          "base_uri": "https://localhost:8080/",
          "height": 34
        }
      },
      "source": [
        "print(data.shape)"
      ],
      "execution_count": 5,
      "outputs": [
        {
          "output_type": "stream",
          "text": [
            "(284807, 31)\n"
          ],
          "name": "stdout"
        }
      ]
    },
    {
      "cell_type": "code",
      "metadata": {
        "id": "kWIk_yCjd_Qh",
        "colab_type": "code",
        "outputId": "9b593c9c-28ef-44fa-cf9c-6892bb68a899",
        "colab": {
          "base_uri": "https://localhost:8080/",
          "height": 202
        }
      },
      "source": [
        "print(data.describe())"
      ],
      "execution_count": 6,
      "outputs": [
        {
          "output_type": "stream",
          "text": [
            "                Time            V1  ...         Amount          Class\n",
            "count  284807.000000  2.848070e+05  ...  284807.000000  284807.000000\n",
            "mean    94813.859575  3.919560e-15  ...      88.349619       0.001727\n",
            "std     47488.145955  1.958696e+00  ...     250.120109       0.041527\n",
            "min         0.000000 -5.640751e+01  ...       0.000000       0.000000\n",
            "25%     54201.500000 -9.203734e-01  ...       5.600000       0.000000\n",
            "50%     84692.000000  1.810880e-02  ...      22.000000       0.000000\n",
            "75%    139320.500000  1.315642e+00  ...      77.165000       0.000000\n",
            "max    172792.000000  2.454930e+00  ...   25691.160000       1.000000\n",
            "\n",
            "[8 rows x 31 columns]\n"
          ],
          "name": "stdout"
        }
      ]
    },
    {
      "cell_type": "markdown",
      "metadata": {
        "id": "guVhhYGneSYA",
        "colab_type": "text"
      },
      "source": [
        "### 2. Verify the imbalance"
      ]
    },
    {
      "cell_type": "code",
      "metadata": {
        "id": "WjGINwmNeHVH",
        "colab_type": "code",
        "outputId": "9e500d24-a04c-4980-af3a-040880f4a949",
        "colab": {
          "base_uri": "https://localhost:8080/",
          "height": 50
        }
      },
      "source": [
        "frauds = data[data['Class'] == 1]\n",
        "valids = data[data['Class'] == 0]\n",
        "fraction = len(frauds) / float(len(valids))\n",
        "print(\"Fraud cases are {}% of total {} cases\".format(fraction*100, len(frauds)+len(valids)))\n",
        "print(\"Fraud cases = {}, Valid transactions = {}\".format(len(frauds), len(valids)))"
      ],
      "execution_count": 7,
      "outputs": [
        {
          "output_type": "stream",
          "text": [
            "Fraud cases are 0.17304750013189596% of total 284807 cases\n",
            "Fraud cases = 492, Valid transactions = 284315\n"
          ],
          "name": "stdout"
        }
      ]
    },
    {
      "cell_type": "markdown",
      "metadata": {
        "id": "H9MlfoO8mC5c",
        "colab_type": "text"
      },
      "source": [
        "### 3. Learn about the data\n"
      ]
    },
    {
      "cell_type": "code",
      "metadata": {
        "id": "x6BWmFglgF4x",
        "colab_type": "code",
        "outputId": "bf097024-1f98-48bd-e70a-e9ba2ff1b767",
        "colab": {
          "base_uri": "https://localhost:8080/",
          "height": 655
        }
      },
      "source": [
        "data.info()"
      ],
      "execution_count": 8,
      "outputs": [
        {
          "output_type": "stream",
          "text": [
            "<class 'pandas.core.frame.DataFrame'>\n",
            "RangeIndex: 284807 entries, 0 to 284806\n",
            "Data columns (total 31 columns):\n",
            " #   Column  Non-Null Count   Dtype  \n",
            "---  ------  --------------   -----  \n",
            " 0   Time    284807 non-null  float64\n",
            " 1   V1      284807 non-null  float64\n",
            " 2   V2      284807 non-null  float64\n",
            " 3   V3      284807 non-null  float64\n",
            " 4   V4      284807 non-null  float64\n",
            " 5   V5      284807 non-null  float64\n",
            " 6   V6      284807 non-null  float64\n",
            " 7   V7      284807 non-null  float64\n",
            " 8   V8      284807 non-null  float64\n",
            " 9   V9      284807 non-null  float64\n",
            " 10  V10     284807 non-null  float64\n",
            " 11  V11     284807 non-null  float64\n",
            " 12  V12     284807 non-null  float64\n",
            " 13  V13     284807 non-null  float64\n",
            " 14  V14     284807 non-null  float64\n",
            " 15  V15     284807 non-null  float64\n",
            " 16  V16     284807 non-null  float64\n",
            " 17  V17     284807 non-null  float64\n",
            " 18  V18     284807 non-null  float64\n",
            " 19  V19     284807 non-null  float64\n",
            " 20  V20     284807 non-null  float64\n",
            " 21  V21     284807 non-null  float64\n",
            " 22  V22     284807 non-null  float64\n",
            " 23  V23     284807 non-null  float64\n",
            " 24  V24     284807 non-null  float64\n",
            " 25  V25     284807 non-null  float64\n",
            " 26  V26     284807 non-null  float64\n",
            " 27  V27     284807 non-null  float64\n",
            " 28  V28     284807 non-null  float64\n",
            " 29  Amount  284807 non-null  float64\n",
            " 30  Class   284807 non-null  int64  \n",
            "dtypes: float64(30), int64(1)\n",
            "memory usage: 67.4 MB\n"
          ],
          "name": "stdout"
        }
      ]
    },
    {
      "cell_type": "code",
      "metadata": {
        "id": "IBYXgiQimNQv",
        "colab_type": "code",
        "outputId": "02aa7d3c-1390-44d0-baec-1eec83317f34",
        "colab": {
          "base_uri": "https://localhost:8080/",
          "height": 34
        }
      },
      "source": [
        "# check if any variables are missing data\n",
        "data.isnull().any().any()"
      ],
      "execution_count": 9,
      "outputs": [
        {
          "output_type": "execute_result",
          "data": {
            "text/plain": [
              "False"
            ]
          },
          "metadata": {
            "tags": []
          },
          "execution_count": 9
        }
      ]
    },
    {
      "cell_type": "code",
      "metadata": {
        "id": "J7KPVxygmYQH",
        "colab_type": "code",
        "outputId": "6a737c6f-9e8d-4dd7-b1b8-2fcf1bab38cb",
        "colab": {
          "base_uri": "https://localhost:8080/",
          "height": 168
        }
      },
      "source": [
        "# check amounts of valid/invalid transactions\n",
        "valids.Amount.describe()"
      ],
      "execution_count": 10,
      "outputs": [
        {
          "output_type": "execute_result",
          "data": {
            "text/plain": [
              "count    284315.000000\n",
              "mean         88.291022\n",
              "std         250.105092\n",
              "min           0.000000\n",
              "25%           5.650000\n",
              "50%          22.000000\n",
              "75%          77.050000\n",
              "max       25691.160000\n",
              "Name: Amount, dtype: float64"
            ]
          },
          "metadata": {
            "tags": []
          },
          "execution_count": 10
        }
      ]
    },
    {
      "cell_type": "markdown",
      "metadata": {
        "id": "qgWb36Btoyyf",
        "colab_type": "text"
      },
      "source": [
        "The average transaction is around USD 88.29, while the maximum transaction is of USD 25,691.16. It is important to check the distribution of the transactions. At this time, we can assume that the odd larger transactions could be fraudulent."
      ]
    },
    {
      "cell_type": "code",
      "metadata": {
        "id": "9mN59EAIu3w6",
        "colab_type": "code",
        "outputId": "c3969b4e-066a-4d4c-9585-d90a8bc8c4de",
        "colab": {
          "base_uri": "https://localhost:8080/",
          "height": 530
        }
      },
      "source": [
        "# check the distribution of amount feature\n",
        "plt.figure(figsize=(10, 8))\n",
        "plt.title('Distribution of Amount feature')\n",
        "sns.distplot(data.Amount)"
      ],
      "execution_count": 11,
      "outputs": [
        {
          "output_type": "execute_result",
          "data": {
            "text/plain": [
              "<matplotlib.axes._subplots.AxesSubplot at 0x7ff3ca360ba8>"
            ]
          },
          "metadata": {
            "tags": []
          },
          "execution_count": 11
        },
        {
          "output_type": "display_data",
          "data": {
            "image/png": "[encoded data removed]",
            "text/plain": [
              "<Figure size 720x576 with 1 Axes>"
            ]
          },
          "metadata": {
            "tags": [],
            "needs_background": "light"
          }
        }
      ]
    },
    {
      "cell_type": "markdown",
      "metadata": {
        "id": "4z80j7DFwoPU",
        "colab_type": "text"
      },
      "source": [
        "As visible in the plot, the distribution is heavily right-skewed, meaning we can definitely assume that the maximum genuine transactions have low amount."
      ]
    },
    {
      "cell_type": "markdown",
      "metadata": {
        "id": "qRYqpacyzW0C",
        "colab_type": "text"
      },
      "source": [
        "### 4. Correlation matrix\n",
        "Correlation matrix gives a graphical idea of how features are correlate with each other. It can be visualized as a heatmap that can help us deciding which features will be most relevant for prediction."
      ]
    },
    {
      "cell_type": "code",
      "metadata": {
        "id": "6I1nAlrKzUVd",
        "colab_type": "code",
        "outputId": "78aa20ed-741f-4a34-9b43-183f821af990",
        "colab": {
          "base_uri": "https://localhost:8080/",
          "height": 582
        }
      },
      "source": [
        "corr_matrix = data.corr()\n",
        "plt.figure(figsize=(12, 9))\n",
        "plt.title('Correlation matrix for features')\n",
        "# plot the matrix as a heatmap\n",
        "sns.heatmap(corr_matrix, vmax=0.8, cmap='YlGnBu', square=True)\n",
        "plt.show()"
      ],
      "execution_count": 12,
      "outputs": [
        {
          "output_type": "display_data",
          "data": {
            "image/png": "[encoded data removed]",
            "text/plain": [
              "<Figure size 864x648 with 2 Axes>"
            ]
          },
          "metadata": {
            "tags": [],
            "needs_background": "light"
          }
        }
      ]
    },
    {
      "cell_type": "markdown",
      "metadata": {
        "id": "TxiEVd8x1okt",
        "colab_type": "text"
      },
      "source": [
        "We see that the strongest color is seen along the diagonal, which means the features are highly correlated with themselves; this is an ideal case. Most of the features do not correlate to each other. Some features do have either positive or negative correlations. e.g. features *V2*, *V5*, *V1* and *V3* are highest negatively correlated (in descending order) with the feature *Amount*. Whereas *V7*, *V20* and *V6* are the highest positively correlated (in descending order) features with *Amount*.\n",
        "\n",
        "It is important to note that the correlation is low for so many features. This could be because the features are principal components as the data was prepared using PCA."
      ]
    },
    {
      "cell_type": "markdown",
      "metadata": {
        "id": "6S7chASwXfss",
        "colab_type": "text"
      },
      "source": [
        "### 5. Experiments using k-Nearest Neighbors\n",
        "\n",
        "We need to determine the value of *k* before running a model. The default value to start from is 5\n",
        "\n",
        "\n"
      ]
    },
    {
      "cell_type": "markdown",
      "metadata": {
        "id": "5B76jsolJTRF",
        "colab_type": "text"
      },
      "source": [
        "#### a. Basic kNN classifier with default *k=5*"
      ]
    },
    {
      "cell_type": "code",
      "metadata": {
        "id": "R3MVI_7DWubo",
        "colab_type": "code",
        "colab": {}
      },
      "source": [
        "# separate features and output of the dataset\n",
        "X = data.drop(labels='Class', axis=1)   # the features\n",
        "Y = data.loc[:, 'Class']    # the classification\n",
        "\n",
        "# library imports\n",
        "from sklearn.model_selection import train_test_split\n",
        "from sklearn.metrics import classification_report, accuracy_score, balanced_accuracy_score, precision_score, recall_score, roc_auc_score, f1_score\n",
        "from sklearn.metrics import confusion_matrix, roc_curve, precision_recall_curve, plot_roc_curve, plot_precision_recall_curve, plot_confusion_matrix\n",
        "import datetime as dt"
      ],
      "execution_count": 0,
      "outputs": []
    },
    {
      "cell_type": "code",
      "metadata": {
        "id": "WoCCjMiOFwSj",
        "colab_type": "code",
        "colab": {
          "base_uri": "https://localhost:8080/",
          "height": 1000
        },
        "outputId": "dc26f219-9092-4058-d8c9-71ed6602b47a"
      },
      "source": [
        "from sklearn.neighbors import KNeighborsClassifier\n",
        "\n",
        "accuracy = []\n",
        "precision = []\n",
        "recall = []\n",
        "auc = []\n",
        "f1 = []\n",
        "balanced = []\n",
        "conf_mat = []\n",
        "roc = []\n",
        "pr = []\n",
        "neighbors = [5, 10, 15, 20, 25, 50]\n",
        "models = []\n",
        "\n",
        "for n in neighbors:\n",
        "    X_train, X_test, Y_train, Y_test = train_test_split(X, Y, test_size=0.2, random_state=4, stratify=Y)\n",
        "    knn = KNeighborsClassifier(n_neighbors=n, p=2)  # p=2 for Euclidean distance\n",
        "    # train\n",
        "    knn.fit(X_train, Y_train)\n",
        "    # test\n",
        "    Y_pred = knn.predict(X_test)\n",
        "    models.append(knn)\n",
        "    print(\"kNN with k = {}\".format(n))\n",
        "    print(classification_report(Y_test, Y_pred))\n",
        "    # score\n",
        "    accuracy.append(accuracy_score(Y_test, Y_pred))\n",
        "    precision.append(precision_score(Y_test, Y_pred))\n",
        "    recall.append(recall_score(Y_test, Y_pred))\n",
        "    auc.append(roc_auc_score(Y_test, Y_pred))\n",
        "    balanced.append(balanced_accuracy_score(Y_test, Y_pred))\n",
        "    f1.append(f1_score(Y_test, Y_pred))\n",
        "    fpr, tpr, _ = roc_curve(Y_test, Y_pred)\n",
        "    roc.append([fpr, tpr])\n",
        "    p, r, _ = precision_recall_curve(Y_test, Y_pred)\n",
        "    pr.append([p, r])\n",
        "    conf_mat.append(confusion_matrix(Y_test, Y_pred))   # for confusion matrix later\n",
        "    print(conf_mat)\n",
        "    print(\"----------\")"
      ],
      "execution_count": 23,
      "outputs": [
        {
          "output_type": "stream",
          "text": [
            "kNN with k = 5\n",
            "              precision    recall  f1-score   support\n",
            "\n",
            "           0       1.00      1.00      1.00     56864\n",
            "           1       1.00      0.07      0.13        98\n",
            "\n",
            "    accuracy                           1.00     56962\n",
            "   macro avg       1.00      0.54      0.57     56962\n",
            "weighted avg       1.00      1.00      1.00     56962\n",
            "\n",
            "[array([[56864,     0],\n",
            "       [   91,     7]])]\n",
            "----------\n",
            "kNN with k = 10\n",
            "              precision    recall  f1-score   support\n",
            "\n",
            "           0       1.00      1.00      1.00     56864\n",
            "           1       1.00      0.01      0.02        98\n",
            "\n",
            "    accuracy                           1.00     56962\n",
            "   macro avg       1.00      0.51      0.51     56962\n",
            "weighted avg       1.00      1.00      1.00     56962\n",
            "\n",
            "[array([[56864,     0],\n",
            "       [   91,     7]]), array([[56864,     0],\n",
            "       [   97,     1]])]\n",
            "----------\n",
            "kNN with k = 15\n",
            "              precision    recall  f1-score   support\n",
            "\n",
            "           0       1.00      1.00      1.00     56864\n",
            "           1       1.00      0.03      0.06        98\n",
            "\n",
            "    accuracy                           1.00     56962\n",
            "   macro avg       1.00      0.52      0.53     56962\n",
            "weighted avg       1.00      1.00      1.00     56962\n",
            "\n",
            "[array([[56864,     0],\n",
            "       [   91,     7]]), array([[56864,     0],\n",
            "       [   97,     1]]), array([[56864,     0],\n",
            "       [   95,     3]])]\n",
            "----------\n",
            "kNN with k = 20\n",
            "              precision    recall  f1-score   support\n",
            "\n",
            "           0       1.00      1.00      1.00     56864\n",
            "           1       0.00      0.00      0.00        98\n",
            "\n",
            "    accuracy                           1.00     56962\n",
            "   macro avg       0.50      0.50      0.50     56962\n",
            "weighted avg       1.00      1.00      1.00     56962\n",
            "\n"
          ],
          "name": "stdout"
        },
        {
          "output_type": "stream",
          "text": [
            "/usr/local/lib/python3.6/dist-packages/sklearn/metrics/_classification.py:1272: UndefinedMetricWarning: Precision and F-score are ill-defined and being set to 0.0 in labels with no predicted samples. Use `zero_division` parameter to control this behavior.\n",
            "  _warn_prf(average, modifier, msg_start, len(result))\n",
            "/usr/local/lib/python3.6/dist-packages/sklearn/metrics/_classification.py:1272: UndefinedMetricWarning: Precision is ill-defined and being set to 0.0 due to no predicted samples. Use `zero_division` parameter to control this behavior.\n",
            "  _warn_prf(average, modifier, msg_start, len(result))\n"
          ],
          "name": "stderr"
        },
        {
          "output_type": "stream",
          "text": [
            "[array([[56864,     0],\n",
            "       [   91,     7]]), array([[56864,     0],\n",
            "       [   97,     1]]), array([[56864,     0],\n",
            "       [   95,     3]]), array([[56864,     0],\n",
            "       [   98,     0]])]\n",
            "----------\n",
            "kNN with k = 25\n",
            "              precision    recall  f1-score   support\n",
            "\n",
            "           0       1.00      1.00      1.00     56864\n",
            "           1       0.00      0.00      0.00        98\n",
            "\n",
            "    accuracy                           1.00     56962\n",
            "   macro avg       0.50      0.50      0.50     56962\n",
            "weighted avg       1.00      1.00      1.00     56962\n",
            "\n"
          ],
          "name": "stdout"
        },
        {
          "output_type": "stream",
          "text": [
            "/usr/local/lib/python3.6/dist-packages/sklearn/metrics/_classification.py:1272: UndefinedMetricWarning: Precision and F-score are ill-defined and being set to 0.0 in labels with no predicted samples. Use `zero_division` parameter to control this behavior.\n",
            "  _warn_prf(average, modifier, msg_start, len(result))\n",
            "/usr/local/lib/python3.6/dist-packages/sklearn/metrics/_classification.py:1272: UndefinedMetricWarning: Precision is ill-defined and being set to 0.0 due to no predicted samples. Use `zero_division` parameter to control this behavior.\n",
            "  _warn_prf(average, modifier, msg_start, len(result))\n"
          ],
          "name": "stderr"
        },
        {
          "output_type": "stream",
          "text": [
            "[array([[56864,     0],\n",
            "       [   91,     7]]), array([[56864,     0],\n",
            "       [   97,     1]]), array([[56864,     0],\n",
            "       [   95,     3]]), array([[56864,     0],\n",
            "       [   98,     0]]), array([[56864,     0],\n",
            "       [   98,     0]])]\n",
            "----------\n",
            "kNN with k = 50\n",
            "              precision    recall  f1-score   support\n",
            "\n",
            "           0       1.00      1.00      1.00     56864\n",
            "           1       0.00      0.00      0.00        98\n",
            "\n",
            "    accuracy                           1.00     56962\n",
            "   macro avg       0.50      0.50      0.50     56962\n",
            "weighted avg       1.00      1.00      1.00     56962\n",
            "\n"
          ],
          "name": "stdout"
        },
        {
          "output_type": "stream",
          "text": [
            "/usr/local/lib/python3.6/dist-packages/sklearn/metrics/_classification.py:1272: UndefinedMetricWarning: Precision and F-score are ill-defined and being set to 0.0 in labels with no predicted samples. Use `zero_division` parameter to control this behavior.\n",
            "  _warn_prf(average, modifier, msg_start, len(result))\n",
            "/usr/local/lib/python3.6/dist-packages/sklearn/metrics/_classification.py:1272: UndefinedMetricWarning: Precision is ill-defined and being set to 0.0 due to no predicted samples. Use `zero_division` parameter to control this behavior.\n",
            "  _warn_prf(average, modifier, msg_start, len(result))\n"
          ],
          "name": "stderr"
        },
        {
          "output_type": "stream",
          "text": [
            "[array([[56864,     0],\n",
            "       [   91,     7]]), array([[56864,     0],\n",
            "       [   97,     1]]), array([[56864,     0],\n",
            "       [   95,     3]]), array([[56864,     0],\n",
            "       [   98,     0]]), array([[56864,     0],\n",
            "       [   98,     0]]), array([[56864,     0],\n",
            "       [   98,     0]])]\n",
            "----------\n"
          ],
          "name": "stdout"
        }
      ]
    },
    {
      "cell_type": "code",
      "metadata": {
        "id": "4UQZ9285Hupq",
        "colab_type": "code",
        "colab": {
          "base_uri": "https://localhost:8080/",
          "height": 823
        },
        "outputId": "5523a49c-09b9-43d5-9fe0-6f305027e747"
      },
      "source": [
        "# display results\n",
        "for i in range(len(neighbors)):\n",
        "    print(\"Basic k-Nearest Neighbors Classifier with k = {}\".format(neighbors[i]))\n",
        "    print(\"Accuracy score = {}\".format(accuracy[i]))\n",
        "    print(\"Precision score = {}\".format(precision[i]))\n",
        "    print(\"Recall score = {}\".format(recall[i]))\n",
        "    print(\"AUC score = {}\".format(auc[i]))\n",
        "    print(\"Balanced accuracy score = {}\".format(balanced[i]))\n",
        "    print(\"F1 score = {}\".format(f1[i]))\n",
        "    print(\"----------\")"
      ],
      "execution_count": 24,
      "outputs": [
        {
          "output_type": "stream",
          "text": [
            "Basic k-Nearest Neighbors Classifier with k = 5\n",
            "Accuracy score = 0.9984024437344194\n",
            "Precision score = 1.0\n",
            "Recall score = 0.07142857142857142\n",
            "AUC score = 0.5357142857142857\n",
            "Balanced accuracy score = 0.5357142857142857\n",
            "F1 score = 0.13333333333333333\n",
            "----------\n",
            "Basic k-Nearest Neighbors Classifier with k = 10\n",
            "Accuracy score = 0.9982971103542713\n",
            "Precision score = 1.0\n",
            "Recall score = 0.01020408163265306\n",
            "AUC score = 0.5051020408163265\n",
            "Balanced accuracy score = 0.5051020408163265\n",
            "F1 score = 0.020202020202020204\n",
            "----------\n",
            "Basic k-Nearest Neighbors Classifier with k = 15\n",
            "Accuracy score = 0.9983322214809873\n",
            "Precision score = 1.0\n",
            "Recall score = 0.030612244897959183\n",
            "AUC score = 0.5153061224489796\n",
            "Balanced accuracy score = 0.5153061224489796\n",
            "F1 score = 0.05940594059405941\n",
            "----------\n",
            "Basic k-Nearest Neighbors Classifier with k = 20\n",
            "Accuracy score = 0.9982795547909132\n",
            "Precision score = 0.0\n",
            "Recall score = 0.0\n",
            "AUC score = 0.5\n",
            "Balanced accuracy score = 0.5\n",
            "F1 score = 0.0\n",
            "----------\n",
            "Basic k-Nearest Neighbors Classifier with k = 25\n",
            "Accuracy score = 0.9982795547909132\n",
            "Precision score = 0.0\n",
            "Recall score = 0.0\n",
            "AUC score = 0.5\n",
            "Balanced accuracy score = 0.5\n",
            "F1 score = 0.0\n",
            "----------\n",
            "Basic k-Nearest Neighbors Classifier with k = 50\n",
            "Accuracy score = 0.9982795547909132\n",
            "Precision score = 0.0\n",
            "Recall score = 0.0\n",
            "AUC score = 0.5\n",
            "Balanced accuracy score = 0.5\n",
            "F1 score = 0.0\n",
            "----------\n"
          ],
          "name": "stdout"
        }
      ]
    },
    {
      "cell_type": "code",
      "metadata": {
        "id": "eMXrU_7lUy_Z",
        "colab_type": "code",
        "colab": {
          "base_uri": "https://localhost:8080/",
          "height": 369
        },
        "outputId": "4c9f14c7-9b6b-41a3-f730-24ea8f35d471"
      },
      "source": [
        "# plot for better visualization\n",
        "x = np.arange(len(neighbors))\n",
        "width = 0.1\n",
        "opacity = 0.8\n",
        "# fig, ax = plt.subplots()\n",
        "\n",
        "# vertical bar graph\n",
        "plt.figure(figsize=(15, 5))\n",
        "bar1 = plt.bar(x, accuracy, width, alpha=opacity, label='Accuracy')\n",
        "bar2 = plt.bar(x+width, precision, width, alpha=opacity, label='Precision')\n",
        "bar3 = plt.bar(x+(2*width), recall, width, alpha=opacity, label='Recall')\n",
        "bar4 = plt.bar(x+(3*width), auc, width, alpha=opacity, label='AUC-ROC')\n",
        "bar5 = plt.bar(x+(4*width), balanced, width, alpha=opacity, label='Balanced accuracy')\n",
        "bar5 = plt.bar(x+(5*width), f1, width, alpha=opacity, label='F1 score')\n",
        "\n",
        "plt.xlabel('Split %')\n",
        "plt.ylabel('Scores')\n",
        "plt.title('Scores vs K for k-NN Classifier')\n",
        "plt.xticks(x+width, neighbors)\n",
        "plt.legend(bbox_to_anchor=(1.0, 1.0), loc='upper left')\n",
        "\n",
        "plt.tight_layout()\n",
        "plt.show()"
      ],
      "execution_count": 25,
      "outputs": [
        {
          "output_type": "display_data",
          "data": {
            "image/png": "[encoded data removed]",
            "text/plain": [
              "<Figure size 1080x360 with 1 Axes>"
            ]
          },
          "metadata": {
            "tags": [],
            "needs_background": "light"
          }
        }
      ]
    },
    {
      "cell_type": "markdown",
      "metadata": {
        "id": "w9AK8gJRe3-g",
        "colab_type": "text"
      },
      "source": [
        "We tried all multiples of 5 from 5 to 50 as our *k*. In terms of the scores and precision, 5, 10 and 15 seem to work well."
      ]
    },
    {
      "cell_type": "code",
      "metadata": {
        "id": "zq4GvRoT0e15",
        "colab_type": "code",
        "colab": {
          "base_uri": "https://localhost:8080/",
          "height": 541
        },
        "outputId": "b90685ef-1b58-44e5-c05f-e6b1958a225d"
      },
      "source": [
        "# plot curves\n",
        "# using existing model of k=5 from previous code snippet\n",
        "# roc curve\n",
        "X_train, X_test, Y_train, Y_test = train_test_split(X, Y, test_size=0.2, random_state=42, stratify=Y)\n",
        "plot_roc_curve(models[0], X_test, Y_test, name='ROC for basic kNN with k=5')\n",
        "plt.show()\n",
        "# pr curve\n",
        "plot_precision_recall_curve(models[0], X_test, Y_test, name='PR for basic kNN with k=5')\n",
        "plt.show()"
      ],
      "execution_count": 39,
      "outputs": [
        {
          "output_type": "display_data",
          "data": {
            "image/png": "[encoded data removed]",
            "text/plain": [
              "<Figure size 432x288 with 1 Axes>"
            ]
          },
          "metadata": {
            "tags": [],
            "needs_background": "light"
          }
        },
        {
          "output_type": "display_data",
          "data": {
            "image/png": "[encoded data removed]",
            "text/plain": [
              "<Figure size 432x288 with 1 Axes>"
            ]
          },
          "metadata": {
            "tags": [],
            "needs_background": "light"
          }
        }
      ]
    },
    {
      "cell_type": "markdown",
      "metadata": {
        "id": "NhY1bcO5fOS5",
        "colab_type": "text"
      },
      "source": [
        "For our k=5, the accuracy and AUC-ROC are good at 99.8% and 0.95 respectively, but AUC-PR and balanced accuracy are abysmal at 0.48 and 53.5% respectively."
      ]
    },
    {
      "cell_type": "markdown",
      "metadata": {
        "id": "fVyTv-gWJh-8",
        "colab_type": "text"
      },
      "source": [
        "#### b. Using grid search for optimal value of *k*\n",
        "We try grid search on the data to find an optimal value of k. Note that this works using cross-validation technique, and the score obtained is the mean of the accuracies of each fold in the cross-validation."
      ]
    },
    {
      "cell_type": "markdown",
      "metadata": {
        "id": "Jto_8CwsS40f",
        "colab_type": "text"
      },
      "source": [
        "##### i. Using *k=50*"
      ]
    },
    {
      "cell_type": "code",
      "metadata": {
        "id": "-mAteiTkJnON",
        "colab_type": "code",
        "colab": {
          "base_uri": "https://localhost:8080/",
          "height": 185
        },
        "outputId": "adfe7aac-4f01-4807-c786-b84c3dd9f65c"
      },
      "source": [
        "# import\n",
        "from sklearn.model_selection import GridSearchCV\n",
        "\n",
        "# dictionary of possible values to try for k\n",
        "grid = {'n_neighbors': np.arange(5, 50, 5)}\n",
        "\n",
        "gknn = KNeighborsClassifier()\n",
        "knn_gscv = GridSearchCV(gknn, grid, cv=5)\n",
        "# train\n",
        "knn_gscv.fit(X, Y)"
      ],
      "execution_count": 27,
      "outputs": [
        {
          "output_type": "execute_result",
          "data": {
            "text/plain": [
              "GridSearchCV(cv=5, error_score=nan,\n",
              "             estimator=KNeighborsClassifier(algorithm='auto', leaf_size=30,\n",
              "                                            metric='minkowski',\n",
              "                                            metric_params=None, n_jobs=None,\n",
              "                                            n_neighbors=5, p=2,\n",
              "                                            weights='uniform'),\n",
              "             iid='deprecated', n_jobs=None,\n",
              "             param_grid={'n_neighbors': array([ 5, 10, 15, 20, 25, 30, 35, 40, 45])},\n",
              "             pre_dispatch='2*n_jobs', refit=True, return_train_score=False,\n",
              "             scoring=None, verbose=0)"
            ]
          },
          "metadata": {
            "tags": []
          },
          "execution_count": 27
        }
      ]
    },
    {
      "cell_type": "code",
      "metadata": {
        "id": "LFzn7gOZlLb7",
        "colab_type": "code",
        "colab": {
          "base_uri": "https://localhost:8080/",
          "height": 34
        },
        "outputId": "d0e13261-452f-4717-cfff-147989033f78"
      },
      "source": [
        "#check top performing n_neighbors value\n",
        "knn_gscv.best_params_"
      ],
      "execution_count": 28,
      "outputs": [
        {
          "output_type": "execute_result",
          "data": {
            "text/plain": [
              "{'n_neighbors': 45}"
            ]
          },
          "metadata": {
            "tags": []
          },
          "execution_count": 28
        }
      ]
    },
    {
      "cell_type": "code",
      "metadata": {
        "id": "g8uJMe1HlSwB",
        "colab_type": "code",
        "colab": {
          "base_uri": "https://localhost:8080/",
          "height": 34
        },
        "outputId": "aeb2a203-3eb8-460d-f860-401fa496af56"
      },
      "source": [
        "#check mean score for the top performing value of n_neighbors\n",
        "knn_gscv.best_score_"
      ],
      "execution_count": 29,
      "outputs": [
        {
          "output_type": "execute_result",
          "data": {
            "text/plain": [
              "0.5849278721969732"
            ]
          },
          "metadata": {
            "tags": []
          },
          "execution_count": 29
        }
      ]
    },
    {
      "cell_type": "code",
      "metadata": {
        "id": "cTtt16eyWIWy",
        "colab_type": "code",
        "colab": {
          "base_uri": "https://localhost:8080/",
          "height": 541
        },
        "outputId": "105cb261-ac43-4a7c-8868-da945ebd8425"
      },
      "source": [
        "X_train, X_test, Y_train, Y_test = train_test_split(X, Y, test_size=0.2, random_state=42, stratify=Y)\n",
        "# roc curve\n",
        "plot_roc_curve(models[5], X_test, Y_test, name='ROC for basic kNN with k=50')\n",
        "plt.show()\n",
        "# pr curve\n",
        "plot_precision_recall_curve(models[5], X_test, Y_test, name='PR for basic kNN with k=50')\n",
        "plt.show()"
      ],
      "execution_count": 49,
      "outputs": [
        {
          "output_type": "display_data",
          "data": {
            "image/png": "[encoded data removed]",
            "text/plain": [
              "<Figure size 432x288 with 1 Axes>"
            ]
          },
          "metadata": {
            "tags": [],
            "needs_background": "light"
          }
        },
        {
          "output_type": "display_data",
          "data": {
            "image/png": "[encoded data removed]",
            "text/plain": [
              "<Figure size 432x288 with 1 Axes>"
            ]
          },
          "metadata": {
            "tags": [],
            "needs_background": "light"
          }
        }
      ]
    },
    {
      "cell_type": "markdown",
      "metadata": {
        "id": "6s_cw9Odg11L",
        "colab_type": "text"
      },
      "source": [
        "For our *k=50*, similar to k=5, the accuracy and AUC-ROC are good at 99.8% and 0.94 respectively, but AUC-PR and balanced accuracy are really bad at 0.1 and 50% respectively."
      ]
    },
    {
      "cell_type": "markdown",
      "metadata": {
        "id": "vfjGgtDpSlTh",
        "colab_type": "text"
      },
      "source": [
        "##### ii. Using *k=100*"
      ]
    },
    {
      "cell_type": "code",
      "metadata": {
        "id": "mS4KqqTkllxP",
        "colab_type": "code",
        "colab": {
          "base_uri": "https://localhost:8080/",
          "height": 185
        },
        "outputId": "7be36661-bf62-49b1-d875-a9ea4b1573b0"
      },
      "source": [
        "# dictionary of new possible values to try for k, since last code snippet says k=45 is good\n",
        "grid = {'n_neighbors': np.arange(50, 101, 10)}\n",
        "\n",
        "gknn = KNeighborsClassifier()\n",
        "knn_gscv = GridSearchCV(gknn, grid, cv=5)\n",
        "# train\n",
        "knn_gscv.fit(X, Y)"
      ],
      "execution_count": 30,
      "outputs": [
        {
          "output_type": "execute_result",
          "data": {
            "text/plain": [
              "GridSearchCV(cv=5, error_score=nan,\n",
              "             estimator=KNeighborsClassifier(algorithm='auto', leaf_size=30,\n",
              "                                            metric='minkowski',\n",
              "                                            metric_params=None, n_jobs=None,\n",
              "                                            n_neighbors=5, p=2,\n",
              "                                            weights='uniform'),\n",
              "             iid='deprecated', n_jobs=None,\n",
              "             param_grid={'n_neighbors': array([ 50,  60,  70,  80,  90, 100])},\n",
              "             pre_dispatch='2*n_jobs', refit=True, return_train_score=False,\n",
              "             scoring=None, verbose=0)"
            ]
          },
          "metadata": {
            "tags": []
          },
          "execution_count": 30
        }
      ]
    },
    {
      "cell_type": "code",
      "metadata": {
        "id": "AcVf4PRkxZak",
        "colab_type": "code",
        "colab": {
          "base_uri": "https://localhost:8080/",
          "height": 34
        },
        "outputId": "5445ba07-0a45-4f37-c675-a43b87be1183"
      },
      "source": [
        "#check top performing n_neighbors value again\n",
        "knn_gscv.best_params_"
      ],
      "execution_count": 31,
      "outputs": [
        {
          "output_type": "execute_result",
          "data": {
            "text/plain": [
              "{'n_neighbors': 100}"
            ]
          },
          "metadata": {
            "tags": []
          },
          "execution_count": 31
        }
      ]
    },
    {
      "cell_type": "code",
      "metadata": {
        "id": "zzEWyUROxel6",
        "colab_type": "code",
        "colab": {
          "base_uri": "https://localhost:8080/",
          "height": 34
        },
        "outputId": "05ef4076-da7f-4c26-f83e-ddfacea3b81b"
      },
      "source": [
        "#check mean score for the top performing value of n_neighbors again\n",
        "knn_gscv.best_score_"
      ],
      "execution_count": 32,
      "outputs": [
        {
          "output_type": "execute_result",
          "data": {
            "text/plain": [
              "0.7926225762451468"
            ]
          },
          "metadata": {
            "tags": []
          },
          "execution_count": 32
        }
      ]
    },
    {
      "cell_type": "markdown",
      "metadata": {
        "id": "6RY4lCEqhKVZ",
        "colab_type": "text"
      },
      "source": [
        "Here our accuracy score has decreased from earlier 99.8%"
      ]
    },
    {
      "cell_type": "code",
      "metadata": {
        "id": "WTvf72nmUHDK",
        "colab_type": "code",
        "colab": {
          "base_uri": "https://localhost:8080/",
          "height": 423
        },
        "outputId": "fc37ea7c-6aa6-4050-c47b-722d4806206e"
      },
      "source": [
        "X_train, X_test, Y_train, Y_test = train_test_split(X, Y, test_size=0.2, random_state=4, stratify=Y)\n",
        "knn = KNeighborsClassifier(n_neighbors=100, p=2)  # p=2 for Euclidean distance\n",
        "# train\n",
        "knn.fit(X_train, Y_train)\n",
        "# test\n",
        "Y_pred = knn.predict(X_test)\n",
        "models.append(knn)\n",
        "print(\"kNN with k = {}\".format(100))\n",
        "print(classification_report(Y_test, Y_pred))\n",
        "# score\n",
        "accuracy.append(accuracy_score(Y_test, Y_pred))\n",
        "precision.append(precision_score(Y_test, Y_pred))\n",
        "recall.append(recall_score(Y_test, Y_pred))\n",
        "auc.append(roc_auc_score(Y_test, Y_pred))\n",
        "balanced.append(balanced_accuracy_score(Y_test, Y_pred))\n",
        "f1.append(f1_score(Y_test, Y_pred))\n",
        "fpr, tpr, _ = roc_curve(Y_test, Y_pred)\n",
        "roc.append([fpr, tpr])\n",
        "p, r, _ = precision_recall_curve(Y_test, Y_pred)\n",
        "pr.append([p, r])\n",
        "conf_mat.append(confusion_matrix(Y_test, Y_pred))   # for confusion matrix later\n",
        "print(conf_mat)\n",
        "print(\"----------\")"
      ],
      "execution_count": 46,
      "outputs": [
        {
          "output_type": "stream",
          "text": [
            "kNN with k = 100\n",
            "              precision    recall  f1-score   support\n",
            "\n",
            "           0       1.00      1.00      1.00     56864\n",
            "           1       0.00      0.00      0.00        98\n",
            "\n",
            "    accuracy                           1.00     56962\n",
            "   macro avg       0.50      0.50      0.50     56962\n",
            "weighted avg       1.00      1.00      1.00     56962\n",
            "\n"
          ],
          "name": "stdout"
        },
        {
          "output_type": "stream",
          "text": [
            "/usr/local/lib/python3.6/dist-packages/sklearn/metrics/_classification.py:1272: UndefinedMetricWarning: Precision and F-score are ill-defined and being set to 0.0 in labels with no predicted samples. Use `zero_division` parameter to control this behavior.\n",
            "  _warn_prf(average, modifier, msg_start, len(result))\n",
            "/usr/local/lib/python3.6/dist-packages/sklearn/metrics/_classification.py:1272: UndefinedMetricWarning: Precision is ill-defined and being set to 0.0 due to no predicted samples. Use `zero_division` parameter to control this behavior.\n",
            "  _warn_prf(average, modifier, msg_start, len(result))\n"
          ],
          "name": "stderr"
        },
        {
          "output_type": "stream",
          "text": [
            "[array([[56864,     0],\n",
            "       [   91,     7]]), array([[56864,     0],\n",
            "       [   97,     1]]), array([[56864,     0],\n",
            "       [   95,     3]]), array([[56864,     0],\n",
            "       [   98,     0]]), array([[56864,     0],\n",
            "       [   98,     0]]), array([[56864,     0],\n",
            "       [   98,     0]]), array([[56864,     0],\n",
            "       [   98,     0]])]\n",
            "----------\n"
          ],
          "name": "stdout"
        }
      ]
    },
    {
      "cell_type": "code",
      "metadata": {
        "id": "iK5SFyRyVgmW",
        "colab_type": "code",
        "colab": {
          "base_uri": "https://localhost:8080/",
          "height": 134
        },
        "outputId": "09a106b7-198a-492d-ff36-ab41bed1819e"
      },
      "source": [
        "print(\"Basic k-Nearest Neighbors Classifier with k = {}\".format(100))\n",
        "print(\"Accuracy score = {}\".format(accuracy[6]))\n",
        "print(\"Precision score = {}\".format(precision[6]))\n",
        "print(\"Recall score = {}\".format(recall[6]))\n",
        "print(\"AUC score = {}\".format(auc[6]))\n",
        "print(\"Balanced accuracy score = {}\".format(balanced[6]))\n",
        "print(\"F1 score = {}\".format(f1[6]))\n",
        "neighbors.append(100)"
      ],
      "execution_count": 47,
      "outputs": [
        {
          "output_type": "stream",
          "text": [
            "Basic k-Nearest Neighbors Classifier with k = 100\n",
            "Accuracy score = 0.9982795547909132\n",
            "Precision score = 0.0\n",
            "Recall score = 0.0\n",
            "AUC score = 0.5\n",
            "Balanced accuracy score = 0.5\n",
            "F1 score = 0.0\n"
          ],
          "name": "stdout"
        }
      ]
    },
    {
      "cell_type": "code",
      "metadata": {
        "id": "-MH_Y7OnV60a",
        "colab_type": "code",
        "colab": {
          "base_uri": "https://localhost:8080/",
          "height": 541
        },
        "outputId": "0288713d-830b-43df-c835-e6874df6770a"
      },
      "source": [
        "plot_roc_curve(models[6], X_test, Y_test, name='ROC for basic kNN with k=100')\n",
        "plt.show()\n",
        "# pr curve\n",
        "plot_precision_recall_curve(models[6], X_test, Y_test, name='PR for basic kNN with k=100')\n",
        "plt.show()"
      ],
      "execution_count": 48,
      "outputs": [
        {
          "output_type": "display_data",
          "data": {
            "image/png": "[encoded data removed]",
            "text/plain": [
              "<Figure size 432x288 with 1 Axes>"
            ]
          },
          "metadata": {
            "tags": [],
            "needs_background": "light"
          }
        },
        {
          "output_type": "display_data",
          "data": {
            "image/png": "[encoded data removed]",
            "text/plain": [
              "<Figure size 432x288 with 1 Axes>"
            ]
          },
          "metadata": {
            "tags": [],
            "needs_background": "light"
          }
        }
      ]
    },
    {
      "cell_type": "markdown",
      "metadata": {
        "id": "XE1zlgvShV6K",
        "colab_type": "text"
      },
      "source": [
        "For our *k=100*, just like k=50, the accuracy is good at 99.8%. We see a dip in AUC-ROC to 0.74, but AUC-PR and balanced accuracy are horrible bad at 0.07 and again 50% respectively."
      ]
    },
    {
      "cell_type": "markdown",
      "metadata": {
        "id": "tyA5d-16Brpr",
        "colab_type": "text"
      },
      "source": [
        "##### iii. Using *k=150*"
      ]
    },
    {
      "cell_type": "code",
      "metadata": {
        "id": "670q3hbGxoNg",
        "colab_type": "code",
        "colab": {
          "base_uri": "https://localhost:8080/",
          "height": 185
        },
        "outputId": "4d50ee2e-2f17-48cf-b47b-3f1a115c9b02"
      },
      "source": [
        "# dictionary of new possible values as a last try for k, since last code snippet says k=100 is good\n",
        "grid = {'n_neighbors': np.arange(100, 251, 50)}\n",
        "\n",
        "gknn = KNeighborsClassifier()\n",
        "knn_gscv = GridSearchCV(gknn, grid, cv=5)\n",
        "# train\n",
        "knn_gscv.fit(X, Y)"
      ],
      "execution_count": 33,
      "outputs": [
        {
          "output_type": "execute_result",
          "data": {
            "text/plain": [
              "GridSearchCV(cv=5, error_score=nan,\n",
              "             estimator=KNeighborsClassifier(algorithm='auto', leaf_size=30,\n",
              "                                            metric='minkowski',\n",
              "                                            metric_params=None, n_jobs=None,\n",
              "                                            n_neighbors=5, p=2,\n",
              "                                            weights='uniform'),\n",
              "             iid='deprecated', n_jobs=None,\n",
              "             param_grid={'n_neighbors': array([100, 150, 200, 250])},\n",
              "             pre_dispatch='2*n_jobs', refit=True, return_train_score=False,\n",
              "             scoring=None, verbose=0)"
            ]
          },
          "metadata": {
            "tags": []
          },
          "execution_count": 33
        }
      ]
    },
    {
      "cell_type": "code",
      "metadata": {
        "id": "Y8Sa6tkM8VIj",
        "colab_type": "code",
        "colab": {
          "base_uri": "https://localhost:8080/",
          "height": 34
        },
        "outputId": "897bdce3-8dcc-454b-8c23-21b5928b6c56"
      },
      "source": [
        "#check top performing n_neighbors value once more\n",
        "knn_gscv.best_params_"
      ],
      "execution_count": 34,
      "outputs": [
        {
          "output_type": "execute_result",
          "data": {
            "text/plain": [
              "{'n_neighbors': 150}"
            ]
          },
          "metadata": {
            "tags": []
          },
          "execution_count": 34
        }
      ]
    },
    {
      "cell_type": "code",
      "metadata": {
        "id": "LG4MEJjo8ai_",
        "colab_type": "code",
        "colab": {
          "base_uri": "https://localhost:8080/",
          "height": 34
        },
        "outputId": "3513a03c-3e72-4ceb-96a3-aafff1eac879"
      },
      "source": [
        "#check mean score for the top performing value of n_neighbors once more\n",
        "knn_gscv.best_score_"
      ],
      "execution_count": 35,
      "outputs": [
        {
          "output_type": "execute_result",
          "data": {
            "text/plain": [
              "0.9982725144432208"
            ]
          },
          "metadata": {
            "tags": []
          },
          "execution_count": 35
        }
      ]
    },
    {
      "cell_type": "markdown",
      "metadata": {
        "id": "0STuYe8N1a4N",
        "colab_type": "text"
      },
      "source": [
        "This last experiment clears up *k* for us a bit. We get a mean accuracy score of 99.8% for *k=150*, which is amazing after previous dip to 79% at k=100. So we will try out *k=150* too."
      ]
    },
    {
      "cell_type": "code",
      "metadata": {
        "id": "Q_t0gZmx14aC",
        "colab_type": "code",
        "colab": {
          "base_uri": "https://localhost:8080/",
          "height": 306
        },
        "outputId": "f690afd9-35e4-49ec-f560-054ea3081338"
      },
      "source": [
        "# o: optimal\n",
        "X_o_train, X_o_test, Y_o_train, Y_o_test = train_test_split(X, Y, test_size=0.2, random_state=4, stratify=Y)\n",
        "knn_o = KNeighborsClassifier(n_neighbors=150, p=2)  # p=2 for Euclidean distance, k=150 determined earlier\n",
        "# train\n",
        "knn_o.fit(X_o_train, Y_o_train)\n",
        "# test\n",
        "Y_o_pred = knn_o.predict(X_o_test)\n",
        "print(\"kNN with k = 150\")\n",
        "print(classification_report(Y_o_test, Y_o_pred))\n",
        "# score\n",
        "accuracy_o = accuracy_score(Y_o_test, Y_o_pred)\n",
        "precision_o = precision_score(Y_o_test, Y_o_pred)\n",
        "recall_o = recall_score(Y_o_test, Y_o_pred)\n",
        "auc_o = roc_auc_score(Y_o_test, Y_o_pred)\n",
        "balanced_o = balanced_accuracy_score(Y_o_test, Y_o_pred)\n",
        "f1_o = f1_score(Y_o_test, Y_o_pred)\n",
        "fpr_o, tpr_o, _ = roc_curve(Y_o_test, Y_o_pred)\n",
        "p_o, r_o, _ = precision_recall_curve(Y_o_test, Y_o_pred)\n",
        "conf_mat_o = confusion_matrix(Y_o_test, Y_o_pred)   # for confusion matrix later\n",
        "print(conf_mat_o)"
      ],
      "execution_count": 36,
      "outputs": [
        {
          "output_type": "stream",
          "text": [
            "kNN with k = 150\n",
            "              precision    recall  f1-score   support\n",
            "\n",
            "           0       1.00      1.00      1.00     56864\n",
            "           1       0.00      0.00      0.00        98\n",
            "\n",
            "    accuracy                           1.00     56962\n",
            "   macro avg       0.50      0.50      0.50     56962\n",
            "weighted avg       1.00      1.00      1.00     56962\n",
            "\n"
          ],
          "name": "stdout"
        },
        {
          "output_type": "stream",
          "text": [
            "/usr/local/lib/python3.6/dist-packages/sklearn/metrics/_classification.py:1272: UndefinedMetricWarning: Precision and F-score are ill-defined and being set to 0.0 in labels with no predicted samples. Use `zero_division` parameter to control this behavior.\n",
            "  _warn_prf(average, modifier, msg_start, len(result))\n",
            "/usr/local/lib/python3.6/dist-packages/sklearn/metrics/_classification.py:1272: UndefinedMetricWarning: Precision is ill-defined and being set to 0.0 due to no predicted samples. Use `zero_division` parameter to control this behavior.\n",
            "  _warn_prf(average, modifier, msg_start, len(result))\n"
          ],
          "name": "stderr"
        },
        {
          "output_type": "stream",
          "text": [
            "[[56864     0]\n",
            " [   98     0]]\n"
          ],
          "name": "stdout"
        }
      ]
    },
    {
      "cell_type": "code",
      "metadata": {
        "id": "vwXG9o_-27JX",
        "colab_type": "code",
        "colab": {
          "base_uri": "https://localhost:8080/",
          "height": 134
        },
        "outputId": "321e5dc0-12a7-4824-c66b-285952112217"
      },
      "source": [
        "# display results\n",
        "print(\"Basic k-Nearest Neighbors Classifier with k = 150\")\n",
        "print(\"Accuracy score = {}\".format(accuracy_o))\n",
        "print(\"Precision score = {}\".format(precision_o))\n",
        "print(\"Recall score = {}\".format(recall_o))\n",
        "print(\"AUC score = {}\".format(auc_o))\n",
        "print(\"Balanced accuracy score = {}\".format(balanced_o))\n",
        "print(\"F1 score = {}\".format(f1_o))"
      ],
      "execution_count": 37,
      "outputs": [
        {
          "output_type": "stream",
          "text": [
            "Basic k-Nearest Neighbors Classifier with k = 150\n",
            "Accuracy score = 0.9982795547909132\n",
            "Precision score = 0.0\n",
            "Recall score = 0.0\n",
            "AUC score = 0.5\n",
            "Balanced accuracy score = 0.5\n",
            "F1 score = 0.0\n"
          ],
          "name": "stdout"
        }
      ]
    },
    {
      "cell_type": "markdown",
      "metadata": {
        "id": "FwwQF1By9UDb",
        "colab_type": "text"
      },
      "source": [
        "Despite a high accuracy score of 99.8% again, we get a really poor precision and recall. Our balanced accuracy also stands at 50%. Let's look at the ROC and PR curves."
      ]
    },
    {
      "cell_type": "code",
      "metadata": {
        "id": "ecxVsJUW9mRW",
        "colab_type": "code",
        "colab": {
          "base_uri": "https://localhost:8080/",
          "height": 541
        },
        "outputId": "0a1e69d4-6d0d-4970-8876-a266347a371b"
      },
      "source": [
        "# plots\n",
        "plot_roc_curve(knn_o, X_o_test, Y_o_test, name='ROC for basic kNN with k=150')\n",
        "plt.show()\n",
        "plot_precision_recall_curve(knn_o, X_o_test, Y_o_test, name='PR for basic kNN with k=150')\n",
        "plt.show()"
      ],
      "execution_count": 40,
      "outputs": [
        {
          "output_type": "display_data",
          "data": {
            "image/png": "[encoded data removed]",
            "text/plain": [
              "<Figure size 432x288 with 1 Axes>"
            ]
          },
          "metadata": {
            "tags": [],
            "needs_background": "light"
          }
        },
        {
          "output_type": "display_data",
          "data": {
            "image/png": "[encoded data removed]",
            "text/plain": [
              "<Figure size 432x288 with 1 Axes>"
            ]
          },
          "metadata": {
            "tags": [],
            "needs_background": "light"
          }
        }
      ]
    },
    {
      "cell_type": "markdown",
      "metadata": {
        "id": "km6PXxlUiBqt",
        "colab_type": "text"
      },
      "source": [
        "The AUC-ROC is 0.77 which is not too bad, but the AUC-PR has suffered by falling to 0.05."
      ]
    },
    {
      "cell_type": "markdown",
      "metadata": {
        "id": "cKDuv-USBcFQ",
        "colab_type": "text"
      },
      "source": [
        "### 6. Analysis of results\n",
        "\n",
        "We need to analyze the results we have obtained in the notebook above."
      ]
    },
    {
      "cell_type": "code",
      "metadata": {
        "id": "ZUr8jIRCCSoT",
        "colab_type": "code",
        "colab": {
          "base_uri": "https://localhost:8080/",
          "height": 151
        },
        "outputId": "87843753-3ac0-4280-cca5-830f36bf6847"
      },
      "source": [
        "# f: final\n",
        "f_acc = [accuracy[0], accuracy[5], accuracy[6], accuracy_o]\n",
        "f_pre = [precision[0], precision[5], precision[6], precision_o]\n",
        "f_rec = [recall[0], recall[5], recall[6], recall_o]\n",
        "f_auc = [0.95, 0.94, 0.74, 0.77]  # obtained from curves\n",
        "f_ap = [0.48, 0.1, 0.07, 0.05]   # obtained from curves\n",
        "f_bal = [balanced[0], balanced[5], balanced[6], balanced_o]\n",
        "f_f1 = [f1[0], f1[5], f1[6], f1_o]\n",
        "f_names = ['Accuracy', 'Precision', 'Recall', 'AUC-ROC', 'AUC-PR', 'Balanced accuracy', 'F1 score']\n",
        "f_exp = ['k = 5', 'k = 50', 'k = 100', 'k = 150']\n",
        "\n",
        "print(f_exp)\n",
        "print(\"Accuracy: {}\".format(f_acc))\n",
        "print(\"Precision: {}\".format(f_pre))\n",
        "print(\"Recall: {}\".format(f_rec))\n",
        "print(\"AUC-ROC: {}\".format(f_auc))\n",
        "print(\"AUC-PR: {}\".format(f_ap))\n",
        "print(\"Balanced accuracy: {}\".format(f_bal))\n",
        "print(\"F1: {}\".format(f_f1))"
      ],
      "execution_count": 52,
      "outputs": [
        {
          "output_type": "stream",
          "text": [
            "['k = 5', 'k = 50', 'k = 100', 'k = 150']\n",
            "Accuracy: [0.9984024437344194, 0.9982795547909132, 0.9982795547909132, 0.9982795547909132]\n",
            "Precision: [1.0, 0.0, 0.0, 0.0]\n",
            "Recall: [0.07142857142857142, 0.0, 0.0, 0.0]\n",
            "AUC-ROC: [0.95, 0.94, 0.74, 0.77]\n",
            "AUC-PR: [0.48, 0.1, 0.07, 0.05]\n",
            "Balanced accuracy: [0.5357142857142857, 0.5, 0.5, 0.5]\n",
            "F1: [0.13333333333333333, 0.0, 0.0, 0.0]\n"
          ],
          "name": "stdout"
        }
      ]
    },
    {
      "cell_type": "code",
      "metadata": {
        "id": "L3B0SvrSM1x9",
        "colab_type": "code",
        "colab": {
          "base_uri": "https://localhost:8080/",
          "height": 369
        },
        "outputId": "1bc47ede-98ed-4cf1-a2c5-ecf4d1195012"
      },
      "source": [
        "# plot for better visualization\n",
        "x = np.arange(len(f_exp))\n",
        "width = 0.1\n",
        "opacity = 0.8\n",
        "\n",
        "# vertical bar graph\n",
        "plt.figure(figsize=(12, 5))\n",
        "bar1 = plt.bar(x, f_acc, width, alpha=opacity, label=f_names[0])\n",
        "bar2 = plt.bar(x+width, f_pre, width, alpha=opacity, label=f_names[1])\n",
        "bar3 = plt.bar(x+(2*width), f_rec, width, alpha=opacity, label=f_names[2])\n",
        "bar4 = plt.bar(x+(3*width), f_auc, width, alpha=opacity, label=f_names[3])\n",
        "bar5 = plt.bar(x+(4*width), f_ap, width, alpha=opacity, label=f_names[4])\n",
        "bar6 = plt.bar(x+(5*width), f_bal, width, alpha=opacity, label=f_names[5])\n",
        "bar7 = plt.bar(x+(6*width), f_f1, width, alpha=opacity, label=f_names[6])\n",
        "\n",
        "plt.xlabel('K')\n",
        "plt.ylabel('Scores')\n",
        "plt.title('Scores vs K for k-NN Classifier')\n",
        "plt.xticks(x+width, f_exp)\n",
        "plt.legend(bbox_to_anchor=(1.0, 1.0), loc='upper left')\n",
        "\n",
        "plt.tight_layout()\n",
        "plt.show()"
      ],
      "execution_count": 51,
      "outputs": [
        {
          "output_type": "display_data",
          "data": {
            "image/png": "[encoded data removed]",
            "text/plain": [
              "<Figure size 864x360 with 1 Axes>"
            ]
          },
          "metadata": {
            "tags": [],
            "needs_background": "light"
          }
        }
      ]
    },
    {
      "cell_type": "markdown",
      "metadata": {
        "id": "JhAOYlbyiMN7",
        "colab_type": "text"
      },
      "source": [
        "From all the results consolidated above, it looks like k=5 works well with this problem. We also tried k=150 due to a false alarm, but the end result is poor, as per the chart plotted above.\n",
        "\n",
        "It is evident that for this problem, k-Nearest Neighbors at k=5 will work nicely, even though it is not a desired case."
      ]
    }
  ]
}