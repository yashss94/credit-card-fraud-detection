{
  "nbformat": 4,
  "nbformat_minor": 0,
  "metadata": {
    "colab": {
      "name": "SVM.ipynb",
      "provenance": [],
      "collapsed_sections": []
    },
    "kernelspec": {
      "name": "python3",
      "display_name": "Python 3"
    }
  },
  "cells": [
    {
      "cell_type": "code",
      "metadata": {
        "id": "tIzyu8AKCkO1",
        "colab_type": "code",
        "outputId": "53861d0a-f394-4dde-f2f1-418d1a8efd9c",
        "colab": {
          "base_uri": "https://localhost:8080/",
          "height": 238
        }
      },
      "source": [
        "from sklearn.svm import SVC\n",
        "from sklearn.model_selection import train_test_split\n",
        "from sklearn.metrics import confusion_matrix\n",
        "from sklearn.metrics import balanced_accuracy_score\n",
        "import numpy as np\n",
        "from sklearn.metrics import average_precision_score, precision_score, recall_score, f1_score, accuracy_score, roc_auc_score\n",
        "from sklearn.metrics import precision_recall_curve, roc_curve\n",
        "#from sklearn.metrics import plot_precision_recall_curve\n",
        "import matplotlib.pyplot as plt\n",
        "from sklearn.preprocessing import StandardScaler\n",
        "import pandas as pd\n",
        "from sklearn.metrics import recall_score\n",
        "from sklearn.metrics import classification_report\n",
        "\n",
        "dataset = pd.read_csv('creditcard.csv')\n",
        "\n",
        "X_full = dataset.iloc[:, 0:30].values\n",
        "Y_full = dataset.iloc[:, 30].values\n",
        "\n",
        "c = 0.05\n",
        "\n",
        "#X_train, X_test, Y_train, Y_test = train_test_split(X, Y, test_size = 0.25, shuffle=True, random_state = 42,  stratify = None)\n",
        "X_full_train, X_full_test, Y_full_train, Y_full_test = train_test_split(X_full, Y_full, test_size = 0.25, shuffle=True, random_state = 42,  stratify = None)\n",
        "sc = StandardScaler()\n",
        "X_full_train = sc.fit_transform(X_full_train)\n",
        "X_full_test = sc.transform(X_full_test)  \n",
        "\n",
        "model = SVC(C = c, kernel = 'linear')\n",
        "\n",
        "model.fit(X_full_train, Y_full_train)\n",
        "Y_full_pred = model.predict(X_full_test)\n",
        "\n",
        "bal_accuracy = balanced_accuracy_score(Y_full_test, Y_full_pred)\n",
        "\n",
        "print(\"With Linear Kernel\") \n",
        "print(\"The balanced accuracy acheived is: {}\".format(bal_accuracy))\n",
        "print(\"The value of C is: {}\".format(c))\n",
        "print(\"The accuracy of the model is: {}\".format(accuracy_score(Y_full_test,Y_full_pred)))\n",
        "print(classification_report(Y_full_test, Y_full_pred))\n"
      ],
      "execution_count": 0,
      "outputs": [
        {
          "output_type": "stream",
          "text": [
            "With Linear Kernel\n",
            "The balanced accuracy acheived is: 0.8980331522607148\n",
            "The value of C is: 0.05\n",
            "The accuracy of the model is: 0.999283727985169\n",
            "              precision    recall  f1-score   support\n",
            "\n",
            "           0       1.00      1.00      1.00     71089\n",
            "           1       0.76      0.80      0.78       113\n",
            "\n",
            "    accuracy                           1.00     71202\n",
            "   macro avg       0.88      0.90      0.89     71202\n",
            "weighted avg       1.00      1.00      1.00     71202\n",
            "\n"
          ],
          "name": "stdout"
        }
      ]
    },
    {
      "cell_type": "markdown",
      "metadata": {
        "id": "79MDz353RjME",
        "colab_type": "text"
      },
      "source": [
        "The results of the base SVM model are similar to the base Logistic Regression model. The accuracy of the model is almost perfect. \n",
        "\n",
        "This confirms that the high imbalance of data is causing the models to overfit.\n",
        "\n",
        "Hence, there is a need to perform over-sampling or under-sampling technique."
      ]
    },
    {
      "cell_type": "code",
      "metadata": {
        "id": "GiKSAqfVSC3q",
        "colab_type": "code",
        "colab": {}
      },
      "source": [
        ""
      ],
      "execution_count": 0,
      "outputs": []
    }
  ]
}