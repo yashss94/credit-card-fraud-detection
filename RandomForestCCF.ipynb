{
  "nbformat": 4,
  "nbformat_minor": 0,
  "metadata": {
    "colab": {
      "name": "RandomForestCCF.ipynb",
      "provenance": [],
      "collapsed_sections": []
    },
    "kernelspec": {
      "name": "python3",
      "display_name": "Python 3"
    }
  },
  "cells": [
    {
      "cell_type": "markdown",
      "metadata": {
        "id": "4eTB8uWS0m_U",
        "colab_type": "text"
      },
      "source": [
        "# Credit Card Fraud Detection using Random Forest"
      ]
    },
    {
      "cell_type": "markdown",
      "metadata": {
        "id": "7DcHig6t0e3v",
        "colab_type": "text"
      },
      "source": [
        "## Exploratory Data Analysis on Credit Card Fraud Dataset\n",
        "\n",
        "The dataset contains credit card transactions over 2 days by European cardholders. Almost all predictors (features) have been anonymized for obvious reasons. There is a need to understand the data before it can be worked upon.\n",
        "\n"
      ]
    },
    {
      "cell_type": "markdown",
      "metadata": {
        "id": "2dLsFEwIZ1A4",
        "colab_type": "text"
      },
      "source": [
        "### 1. Import Data"
      ]
    },
    {
      "cell_type": "code",
      "metadata": {
        "id": "S77LPRDHaZbA",
        "colab_type": "code",
        "colab": {}
      },
      "source": [
        "# author: Shamli Singh"
      ],
      "execution_count": 0,
      "outputs": []
    },
    {
      "cell_type": "code",
      "metadata": {
        "id": "EVj8ExbyWgKt",
        "colab_type": "code",
        "outputId": "e887cfa1-5634-4153-a5b5-dcef9ddd0940",
        "colab": {
          "base_uri": "https://localhost:8080/",
          "height": 70
        }
      },
      "source": [
        "# import basic libraries\n",
        "import numpy as np\n",
        "import scipy as sp\n",
        "import pandas as pd\n",
        "import matplotlib as mpl\n",
        "import matplotlib.pyplot as plt\n",
        "import seaborn as sns"
      ],
      "execution_count": 1,
      "outputs": [
        {
          "output_type": "stream",
          "text": [
            "/usr/local/lib/python3.6/dist-packages/statsmodels/tools/_testing.py:19: FutureWarning: pandas.util.testing is deprecated. Use the functions in the public API at pandas.testing instead.\n",
            "  import pandas.util.testing as tm\n"
          ],
          "name": "stderr"
        }
      ]
    },
    {
      "cell_type": "code",
      "metadata": {
        "id": "KgfYxZgXYQoF",
        "colab_type": "code",
        "outputId": "0095b5da-f629-4659-d707-29559eed1600",
        "colab": {
          "base_uri": "https://localhost:8080/",
          "height": 121
        }
      },
      "source": [
        "# import dataset\n",
        "from google.colab import drive\n",
        "drive.mount('/content/drive')"
      ],
      "execution_count": 2,
      "outputs": [
        {
          "output_type": "stream",
          "text": [
            "Go to this URL in a browser: https://accounts.google.com/o/oauth2/auth?client_id=947318989803-6bn6qk8qdgf4n4g3pfee6491hc0brc4i.apps.googleusercontent.com&redirect_uri=urn%3aietf%3awg%3aoauth%3a2.0%3aoob&response_type=code&scope=email%20https%3a%2f%2fwww.googleapis.com%2fauth%2fdocs.test%20https%3a%2f%2fwww.googleapis.com%2fauth%2fdrive%20https%3a%2f%2fwww.googleapis.com%2fauth%2fdrive.photos.readonly%20https%3a%2f%2fwww.googleapis.com%2fauth%2fpeopleapi.readonly\n",
            "\n",
            "Enter your authorization code:\n",
            "··········\n",
            "Mounted at /content/drive\n"
          ],
          "name": "stdout"
        }
      ]
    },
    {
      "cell_type": "code",
      "metadata": {
        "id": "6mCwb1-fZKxa",
        "colab_type": "code",
        "colab": {}
      },
      "source": [
        "# store dataset to pandas dataframe\n",
        "path = \"/content/drive/My Drive/CS 271/Project/Data/creditcardfraud/creditcard.csv\"\n",
        "data = pd.read_csv(path)"
      ],
      "execution_count": 0,
      "outputs": []
    },
    {
      "cell_type": "code",
      "metadata": {
        "id": "aIHIMK_5dcR9",
        "colab_type": "code",
        "outputId": "5f5aeeb1-1577-4d8a-ad25-0d953726a4b9",
        "colab": {
          "base_uri": "https://localhost:8080/",
          "height": 215
        }
      },
      "source": [
        "# get to know the data\n",
        "data.sample(5)"
      ],
      "execution_count": 4,
      "outputs": [
        {
          "output_type": "execute_result",
          "data": {
            "text/html": [
              "<div>\n",
              "<style scoped>\n",
              "    .dataframe tbody tr th:only-of-type {\n",
              "        vertical-align: middle;\n",
              "    }\n",
              "\n",
              "    .dataframe tbody tr th {\n",
              "        vertical-align: top;\n",
              "    }\n",
              "\n",
              "    .dataframe thead th {\n",
              "        text-align: right;\n",
              "    }\n",
              "</style>\n",
              "<table border=\"1\" class=\"dataframe\">\n",
              "  <thead>\n",
              "    <tr style=\"text-align: right;\">\n",
              "      <th></th>\n",
              "      <th>Time</th>\n",
              "      <th>V1</th>\n",
              "      <th>V2</th>\n",
              "      <th>V3</th>\n",
              "      <th>V4</th>\n",
              "      <th>V5</th>\n",
              "      <th>V6</th>\n",
              "      <th>V7</th>\n",
              "      <th>V8</th>\n",
              "      <th>V9</th>\n",
              "      <th>V10</th>\n",
              "      <th>V11</th>\n",
              "      <th>V12</th>\n",
              "      <th>V13</th>\n",
              "      <th>V14</th>\n",
              "      <th>V15</th>\n",
              "      <th>V16</th>\n",
              "      <th>V17</th>\n",
              "      <th>V18</th>\n",
              "      <th>V19</th>\n",
              "      <th>V20</th>\n",
              "      <th>V21</th>\n",
              "      <th>V22</th>\n",
              "      <th>V23</th>\n",
              "      <th>V24</th>\n",
              "      <th>V25</th>\n",
              "      <th>V26</th>\n",
              "      <th>V27</th>\n",
              "      <th>V28</th>\n",
              "      <th>Amount</th>\n",
              "      <th>Class</th>\n",
              "    </tr>\n",
              "  </thead>\n",
              "  <tbody>\n",
              "    <tr>\n",
              "      <th>253472</th>\n",
              "      <td>156268.0</td>\n",
              "      <td>0.231856</td>\n",
              "      <td>0.695912</td>\n",
              "      <td>-0.688882</td>\n",
              "      <td>-0.785320</td>\n",
              "      <td>1.280111</td>\n",
              "      <td>-0.221894</td>\n",
              "      <td>1.284531</td>\n",
              "      <td>-0.127088</td>\n",
              "      <td>-0.339893</td>\n",
              "      <td>-0.582055</td>\n",
              "      <td>0.141597</td>\n",
              "      <td>0.702260</td>\n",
              "      <td>-0.052473</td>\n",
              "      <td>0.463116</td>\n",
              "      <td>-1.396182</td>\n",
              "      <td>-0.392908</td>\n",
              "      <td>-0.691062</td>\n",
              "      <td>0.175911</td>\n",
              "      <td>0.501771</td>\n",
              "      <td>-0.115243</td>\n",
              "      <td>0.090533</td>\n",
              "      <td>0.329190</td>\n",
              "      <td>-0.205259</td>\n",
              "      <td>0.215138</td>\n",
              "      <td>0.220058</td>\n",
              "      <td>-0.316000</td>\n",
              "      <td>-0.011560</td>\n",
              "      <td>-0.020776</td>\n",
              "      <td>29.99</td>\n",
              "      <td>0</td>\n",
              "    </tr>\n",
              "    <tr>\n",
              "      <th>242156</th>\n",
              "      <td>151368.0</td>\n",
              "      <td>-6.351294</td>\n",
              "      <td>-3.040894</td>\n",
              "      <td>-4.292993</td>\n",
              "      <td>0.728143</td>\n",
              "      <td>-5.437818</td>\n",
              "      <td>4.549467</td>\n",
              "      <td>4.815985</td>\n",
              "      <td>-1.072058</td>\n",
              "      <td>1.834149</td>\n",
              "      <td>1.386269</td>\n",
              "      <td>1.362192</td>\n",
              "      <td>0.586793</td>\n",
              "      <td>0.923445</td>\n",
              "      <td>-0.748860</td>\n",
              "      <td>1.910356</td>\n",
              "      <td>0.906710</td>\n",
              "      <td>-0.543174</td>\n",
              "      <td>-0.804471</td>\n",
              "      <td>-0.076504</td>\n",
              "      <td>-4.473773</td>\n",
              "      <td>-0.972689</td>\n",
              "      <td>1.253647</td>\n",
              "      <td>-1.107731</td>\n",
              "      <td>-1.256100</td>\n",
              "      <td>-1.197770</td>\n",
              "      <td>0.529113</td>\n",
              "      <td>-2.533043</td>\n",
              "      <td>0.643679</td>\n",
              "      <td>1029.48</td>\n",
              "      <td>0</td>\n",
              "    </tr>\n",
              "    <tr>\n",
              "      <th>240398</th>\n",
              "      <td>150588.0</td>\n",
              "      <td>1.896590</td>\n",
              "      <td>-0.353569</td>\n",
              "      <td>-1.091675</td>\n",
              "      <td>0.495464</td>\n",
              "      <td>-0.272452</td>\n",
              "      <td>-0.458020</td>\n",
              "      <td>-0.422587</td>\n",
              "      <td>0.042800</td>\n",
              "      <td>1.137595</td>\n",
              "      <td>-0.467210</td>\n",
              "      <td>-0.830003</td>\n",
              "      <td>-0.557457</td>\n",
              "      <td>-1.079108</td>\n",
              "      <td>-1.013650</td>\n",
              "      <td>0.822498</td>\n",
              "      <td>0.935233</td>\n",
              "      <td>0.376956</td>\n",
              "      <td>0.301477</td>\n",
              "      <td>-0.171183</td>\n",
              "      <td>-0.078077</td>\n",
              "      <td>-0.319315</td>\n",
              "      <td>-1.038153</td>\n",
              "      <td>0.389603</td>\n",
              "      <td>0.425583</td>\n",
              "      <td>-0.638696</td>\n",
              "      <td>0.092928</td>\n",
              "      <td>-0.040877</td>\n",
              "      <td>-0.002638</td>\n",
              "      <td>69.05</td>\n",
              "      <td>0</td>\n",
              "    </tr>\n",
              "    <tr>\n",
              "      <th>80128</th>\n",
              "      <td>58347.0</td>\n",
              "      <td>-0.674524</td>\n",
              "      <td>-0.389697</td>\n",
              "      <td>1.207910</td>\n",
              "      <td>-1.474302</td>\n",
              "      <td>0.020176</td>\n",
              "      <td>-1.274835</td>\n",
              "      <td>1.244698</td>\n",
              "      <td>-0.817860</td>\n",
              "      <td>0.796046</td>\n",
              "      <td>-0.752953</td>\n",
              "      <td>0.132999</td>\n",
              "      <td>0.495056</td>\n",
              "      <td>0.827905</td>\n",
              "      <td>-0.311911</td>\n",
              "      <td>1.836500</td>\n",
              "      <td>-0.990095</td>\n",
              "      <td>-0.197717</td>\n",
              "      <td>-0.063004</td>\n",
              "      <td>1.537576</td>\n",
              "      <td>0.262594</td>\n",
              "      <td>-0.028613</td>\n",
              "      <td>0.426408</td>\n",
              "      <td>0.227820</td>\n",
              "      <td>0.463189</td>\n",
              "      <td>-0.377577</td>\n",
              "      <td>-0.076221</td>\n",
              "      <td>-0.249203</td>\n",
              "      <td>-0.274188</td>\n",
              "      <td>124.49</td>\n",
              "      <td>0</td>\n",
              "    </tr>\n",
              "    <tr>\n",
              "      <th>139448</th>\n",
              "      <td>83161.0</td>\n",
              "      <td>1.276292</td>\n",
              "      <td>0.109805</td>\n",
              "      <td>0.349824</td>\n",
              "      <td>0.631986</td>\n",
              "      <td>-0.127214</td>\n",
              "      <td>-0.136002</td>\n",
              "      <td>-0.043942</td>\n",
              "      <td>-0.112798</td>\n",
              "      <td>0.402348</td>\n",
              "      <td>-0.245481</td>\n",
              "      <td>-1.191291</td>\n",
              "      <td>0.867311</td>\n",
              "      <td>1.347258</td>\n",
              "      <td>-0.410080</td>\n",
              "      <td>-0.211246</td>\n",
              "      <td>0.001766</td>\n",
              "      <td>-0.377627</td>\n",
              "      <td>-0.600886</td>\n",
              "      <td>0.527993</td>\n",
              "      <td>-0.005345</td>\n",
              "      <td>-0.337823</td>\n",
              "      <td>-0.748705</td>\n",
              "      <td>-0.044079</td>\n",
              "      <td>-0.392447</td>\n",
              "      <td>0.489486</td>\n",
              "      <td>0.227925</td>\n",
              "      <td>-0.009032</td>\n",
              "      <td>0.011893</td>\n",
              "      <td>9.99</td>\n",
              "      <td>0</td>\n",
              "    </tr>\n",
              "  </tbody>\n",
              "</table>\n",
              "</div>"
            ],
            "text/plain": [
              "            Time        V1        V2  ...       V28   Amount  Class\n",
              "253472  156268.0  0.231856  0.695912  ... -0.020776    29.99      0\n",
              "242156  151368.0 -6.351294 -3.040894  ...  0.643679  1029.48      0\n",
              "240398  150588.0  1.896590 -0.353569  ... -0.002638    69.05      0\n",
              "80128    58347.0 -0.674524 -0.389697  ... -0.274188   124.49      0\n",
              "139448   83161.0  1.276292  0.109805  ...  0.011893     9.99      0\n",
              "\n",
              "[5 rows x 31 columns]"
            ]
          },
          "metadata": {
            "tags": []
          },
          "execution_count": 4
        }
      ]
    },
    {
      "cell_type": "code",
      "metadata": {
        "id": "wgOI_ch2d1OL",
        "colab_type": "code",
        "outputId": "242f8ff1-10be-41b9-fda3-b6e08952d7d6",
        "colab": {
          "base_uri": "https://localhost:8080/",
          "height": 34
        }
      },
      "source": [
        "print(data.shape)"
      ],
      "execution_count": 5,
      "outputs": [
        {
          "output_type": "stream",
          "text": [
            "(284807, 31)\n"
          ],
          "name": "stdout"
        }
      ]
    },
    {
      "cell_type": "code",
      "metadata": {
        "id": "kWIk_yCjd_Qh",
        "colab_type": "code",
        "outputId": "b7e54ffb-7583-46dc-fd60-ebb0ab38d6a1",
        "colab": {
          "base_uri": "https://localhost:8080/",
          "height": 202
        }
      },
      "source": [
        "print(data.describe())"
      ],
      "execution_count": 6,
      "outputs": [
        {
          "output_type": "stream",
          "text": [
            "                Time            V1  ...         Amount          Class\n",
            "count  284807.000000  2.848070e+05  ...  284807.000000  284807.000000\n",
            "mean    94813.859575  3.919560e-15  ...      88.349619       0.001727\n",
            "std     47488.145955  1.958696e+00  ...     250.120109       0.041527\n",
            "min         0.000000 -5.640751e+01  ...       0.000000       0.000000\n",
            "25%     54201.500000 -9.203734e-01  ...       5.600000       0.000000\n",
            "50%     84692.000000  1.810880e-02  ...      22.000000       0.000000\n",
            "75%    139320.500000  1.315642e+00  ...      77.165000       0.000000\n",
            "max    172792.000000  2.454930e+00  ...   25691.160000       1.000000\n",
            "\n",
            "[8 rows x 31 columns]\n"
          ],
          "name": "stdout"
        }
      ]
    },
    {
      "cell_type": "markdown",
      "metadata": {
        "id": "guVhhYGneSYA",
        "colab_type": "text"
      },
      "source": [
        "### 2. Verify the imbalance"
      ]
    },
    {
      "cell_type": "code",
      "metadata": {
        "id": "WjGINwmNeHVH",
        "colab_type": "code",
        "outputId": "5216e915-4606-412c-83ed-b54674f80e5f",
        "colab": {
          "base_uri": "https://localhost:8080/",
          "height": 50
        }
      },
      "source": [
        "frauds = data[data['Class'] == 1]\n",
        "valids = data[data['Class'] == 0]\n",
        "fraction = len(frauds) / float(len(valids))\n",
        "print(\"Fraud cases are {}% of total {} cases\".format(fraction*100, len(frauds)+len(valids)))\n",
        "print(\"Fraud cases = {}, Valid transactions = {}\".format(len(frauds), len(valids)))"
      ],
      "execution_count": 7,
      "outputs": [
        {
          "output_type": "stream",
          "text": [
            "Fraud cases are 0.17304750013189596% of total 284807 cases\n",
            "Fraud cases = 492, Valid transactions = 284315\n"
          ],
          "name": "stdout"
        }
      ]
    },
    {
      "cell_type": "markdown",
      "metadata": {
        "id": "H9MlfoO8mC5c",
        "colab_type": "text"
      },
      "source": [
        "### 3. Learn about the data\n"
      ]
    },
    {
      "cell_type": "code",
      "metadata": {
        "id": "x6BWmFglgF4x",
        "colab_type": "code",
        "outputId": "e9292ef4-2718-4b5d-cae6-189344a7d6b0",
        "colab": {
          "base_uri": "https://localhost:8080/",
          "height": 655
        }
      },
      "source": [
        "data.info()"
      ],
      "execution_count": 8,
      "outputs": [
        {
          "output_type": "stream",
          "text": [
            "<class 'pandas.core.frame.DataFrame'>\n",
            "RangeIndex: 284807 entries, 0 to 284806\n",
            "Data columns (total 31 columns):\n",
            " #   Column  Non-Null Count   Dtype  \n",
            "---  ------  --------------   -----  \n",
            " 0   Time    284807 non-null  float64\n",
            " 1   V1      284807 non-null  float64\n",
            " 2   V2      284807 non-null  float64\n",
            " 3   V3      284807 non-null  float64\n",
            " 4   V4      284807 non-null  float64\n",
            " 5   V5      284807 non-null  float64\n",
            " 6   V6      284807 non-null  float64\n",
            " 7   V7      284807 non-null  float64\n",
            " 8   V8      284807 non-null  float64\n",
            " 9   V9      284807 non-null  float64\n",
            " 10  V10     284807 non-null  float64\n",
            " 11  V11     284807 non-null  float64\n",
            " 12  V12     284807 non-null  float64\n",
            " 13  V13     284807 non-null  float64\n",
            " 14  V14     284807 non-null  float64\n",
            " 15  V15     284807 non-null  float64\n",
            " 16  V16     284807 non-null  float64\n",
            " 17  V17     284807 non-null  float64\n",
            " 18  V18     284807 non-null  float64\n",
            " 19  V19     284807 non-null  float64\n",
            " 20  V20     284807 non-null  float64\n",
            " 21  V21     284807 non-null  float64\n",
            " 22  V22     284807 non-null  float64\n",
            " 23  V23     284807 non-null  float64\n",
            " 24  V24     284807 non-null  float64\n",
            " 25  V25     284807 non-null  float64\n",
            " 26  V26     284807 non-null  float64\n",
            " 27  V27     284807 non-null  float64\n",
            " 28  V28     284807 non-null  float64\n",
            " 29  Amount  284807 non-null  float64\n",
            " 30  Class   284807 non-null  int64  \n",
            "dtypes: float64(30), int64(1)\n",
            "memory usage: 67.4 MB\n"
          ],
          "name": "stdout"
        }
      ]
    },
    {
      "cell_type": "code",
      "metadata": {
        "id": "IBYXgiQimNQv",
        "colab_type": "code",
        "outputId": "324c4a00-4764-4941-e2ef-01e7a4880be8",
        "colab": {
          "base_uri": "https://localhost:8080/",
          "height": 34
        }
      },
      "source": [
        "# check if any variables are missing data\n",
        "data.isnull().any().any()"
      ],
      "execution_count": 9,
      "outputs": [
        {
          "output_type": "execute_result",
          "data": {
            "text/plain": [
              "False"
            ]
          },
          "metadata": {
            "tags": []
          },
          "execution_count": 9
        }
      ]
    },
    {
      "cell_type": "code",
      "metadata": {
        "id": "J7KPVxygmYQH",
        "colab_type": "code",
        "outputId": "5e71467d-ae04-4581-9145-369b7afa33c2",
        "colab": {
          "base_uri": "https://localhost:8080/",
          "height": 168
        }
      },
      "source": [
        "# check amounts of valid/invalid transactions\n",
        "valids.Amount.describe()"
      ],
      "execution_count": 10,
      "outputs": [
        {
          "output_type": "execute_result",
          "data": {
            "text/plain": [
              "count    284315.000000\n",
              "mean         88.291022\n",
              "std         250.105092\n",
              "min           0.000000\n",
              "25%           5.650000\n",
              "50%          22.000000\n",
              "75%          77.050000\n",
              "max       25691.160000\n",
              "Name: Amount, dtype: float64"
            ]
          },
          "metadata": {
            "tags": []
          },
          "execution_count": 10
        }
      ]
    },
    {
      "cell_type": "markdown",
      "metadata": {
        "id": "qgWb36Btoyyf",
        "colab_type": "text"
      },
      "source": [
        "The average transaction is around USD 88.29, while the maximum transaction is of USD 25,691.16. It is important to check the distribution of the transactions. At this time, we can assume that the odd larger transactions could be fraudulent."
      ]
    },
    {
      "cell_type": "code",
      "metadata": {
        "id": "9mN59EAIu3w6",
        "colab_type": "code",
        "outputId": "7ecc9454-f402-4183-fcf4-63bab9ad597e",
        "colab": {
          "base_uri": "https://localhost:8080/",
          "height": 530
        }
      },
      "source": [
        "# check the distribution of amount feature\n",
        "plt.figure(figsize=(10, 8))\n",
        "plt.title('Distribution of Amount feature')\n",
        "sns.distplot(data.Amount)"
      ],
      "execution_count": 11,
      "outputs": [
        {
          "output_type": "execute_result",
          "data": {
            "text/plain": [
              "<matplotlib.axes._subplots.AxesSubplot at 0x7f6b150edf28>"
            ]
          },
          "metadata": {
            "tags": []
          },
          "execution_count": 11
        },
        {
          "output_type": "display_data",
          "data": {
            "image/png": "[encoded data removed]",
            "text/plain": [
              "<Figure size 720x576 with 1 Axes>"
            ]
          },
          "metadata": {
            "tags": [],
            "needs_background": "light"
          }
        }
      ]
    },
    {
      "cell_type": "markdown",
      "metadata": {
        "id": "4LcFT-6PwKP8",
        "colab_type": "text"
      },
      "source": [
        "As visible in the plot, the distribution is heavily right-skewed, meaning we can definitely assume that the maximum genuine transactions have low amount."
      ]
    },
    {
      "cell_type": "markdown",
      "metadata": {
        "id": "qRYqpacyzW0C",
        "colab_type": "text"
      },
      "source": [
        "### 4. Correlation matrix\n",
        "Correlation matrix gives a graphical idea of how features are correlate with each other. It can be visualized as a heatmap that can help us deciding which features will be most relevant for prediction."
      ]
    },
    {
      "cell_type": "code",
      "metadata": {
        "id": "6I1nAlrKzUVd",
        "colab_type": "code",
        "outputId": "f5652d8b-4ea5-485a-a02f-2ac8e4c93cfa",
        "colab": {
          "base_uri": "https://localhost:8080/",
          "height": 582
        }
      },
      "source": [
        "corr_matrix = data.corr()\n",
        "plt.figure(figsize=(12, 9))\n",
        "plt.title('Correlation matrix for features')\n",
        "# plot the matrix as a heatmap\n",
        "sns.heatmap(corr_matrix, vmax=0.8, cmap='YlGnBu', square=True)\n",
        "plt.show()"
      ],
      "execution_count": 12,
      "outputs": [
        {
          "output_type": "display_data",
          "data": {
            "image/png": "[encoded data removed]",
            "text/plain": [
              "<Figure size 864x648 with 2 Axes>"
            ]
          },
          "metadata": {
            "tags": [],
            "needs_background": "light"
          }
        }
      ]
    },
    {
      "cell_type": "markdown",
      "metadata": {
        "id": "TxiEVd8x1okt",
        "colab_type": "text"
      },
      "source": [
        "We see that the strongest color is seen along the diagonal, which means the features are highly correlated with themselves; this is an ideal case. Most of the features do not correlate to each other. Some features do have either positive or negative correlations. e.g. features *V2*, *V5*, *V1* and *V3* are highest negatively correlated (in descending order) with the feature *Amount*. Whereas *V7*, *V20* and *V6* are the highest positively correlated (in descending order) features with *Amount*.\n",
        "\n",
        "It is important to note that the correlation is low for so many features. This could be because the features are principal components as the data was prepared using PCA.\n"
      ]
    },
    {
      "cell_type": "markdown",
      "metadata": {
        "id": "MvjEapG6J62L",
        "colab_type": "text"
      },
      "source": [
        "### 5. Experiments with unbalanced dataset without any tuning\n",
        "As part of our experiments, we are first checking how a Random Forest model behaves with a highly imbalanced dataset with no preprocessing.\n",
        "\n",
        "#### a. Train/test split\n",
        "The dataset needs to be divided into training set and testing/validation set. We will test on a range of 10-50% of the data for testing. The dataset will also be stratified on response variable due to the high imbalance.\n",
        "\n",
        "(NOTE: Stratification is ensuring that train and test sets have approx. same percentage of samples of each target class to use as a complete set)"
      ]
    },
    {
      "cell_type": "markdown",
      "metadata": {
        "id": "yF-pcIn9YkXK",
        "colab_type": "text"
      },
      "source": [
        "#### b. Train and test the standard RF model\n",
        "A standard Random Forest classifier is used as our model here. No cross-validation is performed as of now. This model is used to predict on the test set which is reserved."
      ]
    },
    {
      "cell_type": "code",
      "metadata": {
        "id": "wlCkVcB-skli",
        "colab_type": "code",
        "colab": {}
      },
      "source": [
        "# separate features and output of the dataset\n",
        "X = data.drop(labels='Class', axis=1)   # the features\n",
        "Y = data.loc[:, 'Class']    # the classification\n",
        "\n",
        "# library imports\n",
        "from sklearn.model_selection import train_test_split\n",
        "from sklearn.ensemble import RandomForestClassifier\n",
        "from sklearn.metrics import classification_report, accuracy_score, balanced_accuracy_score, precision_score, recall_score, roc_auc_score, f1_score\n",
        "from sklearn.metrics import confusion_matrix, roc_curve, precision_recall_curve, plot_roc_curve, plot_precision_recall_curve, plot_confusion_matrix\n",
        "import datetime as dt"
      ],
      "execution_count": 0,
      "outputs": []
    },
    {
      "cell_type": "code",
      "metadata": {
        "id": "wsn32DTotGvS",
        "colab_type": "code",
        "colab": {
          "base_uri": "https://localhost:8080/",
          "height": 1000
        },
        "outputId": "e1093fdb-8a8e-479c-a5c7-9cd57a06b6e8"
      },
      "source": [
        "# arrays for comparing/plotting results later\n",
        "train_time = []\n",
        "test_time = []\n",
        "accuracy = []\n",
        "precision = []\n",
        "recall = []\n",
        "auc = []\n",
        "balanced = []\n",
        "f1 = []\n",
        "# matthew = []\n",
        "splits = []\n",
        "models = []\n",
        "roc = []\n",
        "pr = []\n",
        "conf_mat = []\n",
        "\n",
        "# for each split percent\n",
        "for split in range(10, 51, 10):\n",
        "    splits.append(split)\n",
        "    X_train, X_test, Y_train, Y_test = train_test_split(X, Y, test_size=split/100, random_state=42, stratify=Y)\n",
        "    # train\n",
        "    start1 = dt.datetime.now()\n",
        "    rfc_model = RandomForestClassifier()\n",
        "    rfc_model.fit(X_train, Y_train)\n",
        "    models.append(rfc_model)\n",
        "    end1 = dt.datetime.now()\n",
        "    # test\n",
        "    start2 = dt.datetime.now()\n",
        "    Y_pred = rfc_model.predict(X_test)\n",
        "    print(\"RF with train/test split = {}\".format(split))\n",
        "    print(classification_report(Y_test, Y_pred))\n",
        "    fpr, tpr, _ = roc_curve(Y_test, Y_pred)\n",
        "    roc.append([tpr, fpr])  # for roc curve\n",
        "    p, r, _ = precision_recall_curve(Y_test, Y_pred)\n",
        "    pr.append([p, r])   # for pr curve\n",
        "    cfm = confusion_matrix(Y_test, Y_pred)\n",
        "    print(cfm)\n",
        "    print(\"----------\")\n",
        "    conf_mat.append(cfm)   # for confusion matrix later\n",
        "    end2 = dt.datetime.now()\n",
        "    # score\n",
        "    train_time.append(end1 - start1)\n",
        "    test_time.append(end2 - start2)\n",
        "    accuracy.append(accuracy_score(Y_test, Y_pred))\n",
        "    precision.append(precision_score(Y_test, Y_pred))\n",
        "    recall.append(recall_score(Y_test, Y_pred))\n",
        "    auc.append(roc_auc_score(Y_test, Y_pred))\n",
        "    balanced.append(balanced_accuracy_score(Y_test, Y_pred))\n",
        "    f1.append(f1_score(Y_test, Y_pred))\n",
        "    # matthew.append(matthews_corrcoef(Y_test, Y_pred))"
      ],
      "execution_count": 14,
      "outputs": [
        {
          "output_type": "stream",
          "text": [
            "RF with train/test split = 10\n",
            "              precision    recall  f1-score   support\n",
            "\n",
            "           0       1.00      1.00      1.00     28432\n",
            "           1       0.95      0.82      0.88        49\n",
            "\n",
            "    accuracy                           1.00     28481\n",
            "   macro avg       0.98      0.91      0.94     28481\n",
            "weighted avg       1.00      1.00      1.00     28481\n",
            "\n",
            "[[28430     2]\n",
            " [    9    40]]\n",
            "----------\n",
            "RF with train/test split = 20\n",
            "              precision    recall  f1-score   support\n",
            "\n",
            "           0       1.00      1.00      1.00     56864\n",
            "           1       0.94      0.81      0.87        98\n",
            "\n",
            "    accuracy                           1.00     56962\n",
            "   macro avg       0.97      0.90      0.93     56962\n",
            "weighted avg       1.00      1.00      1.00     56962\n",
            "\n",
            "[[56859     5]\n",
            " [   19    79]]\n",
            "----------\n",
            "RF with train/test split = 30\n",
            "              precision    recall  f1-score   support\n",
            "\n",
            "           0       1.00      1.00      1.00     85295\n",
            "           1       0.97      0.75      0.84       148\n",
            "\n",
            "    accuracy                           1.00     85443\n",
            "   macro avg       0.98      0.87      0.92     85443\n",
            "weighted avg       1.00      1.00      1.00     85443\n",
            "\n",
            "[[85291     4]\n",
            " [   37   111]]\n",
            "----------\n",
            "RF with train/test split = 40\n",
            "              precision    recall  f1-score   support\n",
            "\n",
            "           0       1.00      1.00      1.00    113726\n",
            "           1       0.94      0.78      0.85       197\n",
            "\n",
            "    accuracy                           1.00    113923\n",
            "   macro avg       0.97      0.89      0.93    113923\n",
            "weighted avg       1.00      1.00      1.00    113923\n",
            "\n",
            "[[113717      9]\n",
            " [    44    153]]\n",
            "----------\n",
            "RF with train/test split = 50\n",
            "              precision    recall  f1-score   support\n",
            "\n",
            "           0       1.00      1.00      1.00    142158\n",
            "           1       0.96      0.74      0.83       246\n",
            "\n",
            "    accuracy                           1.00    142404\n",
            "   macro avg       0.98      0.87      0.92    142404\n",
            "weighted avg       1.00      1.00      1.00    142404\n",
            "\n",
            "[[142150      8]\n",
            " [    65    181]]\n",
            "----------\n"
          ],
          "name": "stdout"
        }
      ]
    },
    {
      "cell_type": "markdown",
      "metadata": {
        "id": "TyKVofsZcC_L",
        "colab_type": "text"
      },
      "source": [
        "#### c. Evaluate the model\n",
        "We need to evaluate this model. But we cannot rely solely on the accuracy score. We will also look at AUC-ROC and PR, and balanced accuracy. To support the findings, we will also look at F1 scoring metric, which is the harmonic mean of precision and recall scores."
      ]
    },
    {
      "cell_type": "code",
      "metadata": {
        "id": "ZuCUN6dJyVbs",
        "colab_type": "code",
        "outputId": "7cdf0e63-d1ef-4e9b-9309-e6c183c0b192",
        "colab": {
          "base_uri": "https://localhost:8080/",
          "height": 689
        }
      },
      "source": [
        "# display results\n",
        "for i in range(len(train_time)):\n",
        "    print(\"----------\")\n",
        "    print(\"Basic Random Forest Classifier at {}% split:\".format(splits[i]))\n",
        "    # print(\"Time taken to train = {}\".format(train_time[i]))\n",
        "    # print(\"Time taken to test = {}\".format(test_time[i]))\n",
        "    print(\"Accuracy score = {}\".format(accuracy[i]))\n",
        "    print(\"Precision score = {}\".format(precision[i]))\n",
        "    print(\"Recall score = {}\".format(recall[i]))\n",
        "    print(\"AUC_ROC score = {}\".format(auc[i]))\n",
        "    print(\"Balanced accuracy score = {}\".format(balanced[i]))\n",
        "    print(\"F1 score = {}\".format(f1[i]))\n",
        "    # print(\"MCC score = {}\".format(matthew[i]))"
      ],
      "execution_count": 15,
      "outputs": [
        {
          "output_type": "stream",
          "text": [
            "----------\n",
            "Basic Random Forest Classifier at 10% split:\n",
            "Accuracy score = 0.9996137776061234\n",
            "Precision score = 0.9523809523809523\n",
            "Recall score = 0.8163265306122449\n",
            "AUC_ROC score = 0.9081280936685311\n",
            "Balanced accuracy score = 0.908128093668531\n",
            "F1 score = 0.8791208791208791\n",
            "----------\n",
            "Basic Random Forest Classifier at 20% split:\n",
            "Accuracy score = 0.9995786664794073\n",
            "Precision score = 0.9404761904761905\n",
            "Recall score = 0.8061224489795918\n",
            "AUC_ROC score = 0.9030172599428067\n",
            "Balanced accuracy score = 0.9030172599428066\n",
            "F1 score = 0.8681318681318683\n",
            "----------\n",
            "Basic Random Forest Classifier at 30% split:\n",
            "Accuracy score = 0.9995201479348805\n",
            "Precision score = 0.9652173913043478\n",
            "Recall score = 0.75\n",
            "AUC_ROC score = 0.8749765519667039\n",
            "Balanced accuracy score = 0.8749765519667039\n",
            "F1 score = 0.8441064638783269\n",
            "----------\n",
            "Basic Random Forest Classifier at 40% split:\n",
            "Accuracy score = 0.9995347734873555\n",
            "Precision score = 0.9444444444444444\n",
            "Recall score = 0.7766497461928934\n",
            "AUC_ROC score = 0.8882853043083068\n",
            "Balanced accuracy score = 0.8882853043083068\n",
            "F1 score = 0.852367688022284\n",
            "----------\n",
            "Basic Random Forest Classifier at 50% split:\n",
            "Accuracy score = 0.99948737395017\n",
            "Precision score = 0.9576719576719577\n",
            "Recall score = 0.7357723577235772\n",
            "AUC_ROC score = 0.8678580411558557\n",
            "Balanced accuracy score = 0.8678580411558557\n",
            "F1 score = 0.8321839080459769\n"
          ],
          "name": "stdout"
        }
      ]
    },
    {
      "cell_type": "code",
      "metadata": {
        "id": "JkT2L-L1PLR3",
        "colab_type": "code",
        "outputId": "2b299a44-9830-457d-c7e6-57d1fed504ae",
        "colab": {
          "base_uri": "https://localhost:8080/",
          "height": 369
        }
      },
      "source": [
        "# plot for better visualization\n",
        "x = np.arange(len(splits))\n",
        "width = 0.1\n",
        "opacity = 0.8\n",
        "# fig, ax = plt.subplots()\n",
        "\n",
        "# vertical bar graph\n",
        "plt.figure(figsize=(15, 5))\n",
        "bar1 = plt.bar(x, accuracy, width, alpha=opacity, label='Accuracy')\n",
        "bar2 = plt.bar(x+width, precision, width, alpha=opacity, label='Precision')\n",
        "bar3 = plt.bar(x+(2*width), recall, width, alpha=opacity, label='Recall')\n",
        "bar4 = plt.bar(x+(3*width), auc, width, alpha=opacity, label='AUC-ROC')\n",
        "bar5 = plt.bar(x+(4*width), balanced, width, alpha=opacity, label='Balanced accuracy')\n",
        "bar5 = plt.bar(x+(5*width), f1, width, alpha=opacity, label='F1 score')\n",
        "\n",
        "plt.xlabel('Split %')\n",
        "plt.ylabel('Scores')\n",
        "plt.title('Scores vs Splits for Basic RF Classifier')\n",
        "plt.xticks(x+width, splits)\n",
        "plt.legend(bbox_to_anchor=(1.0, 1.0), loc='upper left')\n",
        "\n",
        "plt.tight_layout()\n",
        "plt.show()"
      ],
      "execution_count": 16,
      "outputs": [
        {
          "output_type": "display_data",
          "data": {
            "image/png": "[encoded data removed]",
            "text/plain": [
              "<Figure size 1080x360 with 1 Axes>"
            ]
          },
          "metadata": {
            "tags": [],
            "needs_background": "light"
          }
        }
      ]
    },
    {
      "cell_type": "markdown",
      "metadata": {
        "id": "0zjnq4BNd77_",
        "colab_type": "text"
      },
      "source": [
        "Looks like the 10% and 20% split models works better than any other, based on its balanced accuracy. We can check the ROC and PR curves for these splits."
      ]
    },
    {
      "cell_type": "code",
      "metadata": {
        "id": "RgRE52kGdv2u",
        "colab_type": "code",
        "colab": {
          "base_uri": "https://localhost:8080/",
          "height": 541
        },
        "outputId": "f0dcc1dd-f6b0-48bc-bf3e-beef190ebcdc"
      },
      "source": [
        "# plot curves\n",
        "# 1using existing model of 10% split from previous code snippet\n",
        "# roc curve\n",
        "X_train, X_test, Y_train, Y_test = train_test_split(X, Y, test_size=0.1, random_state=42, stratify=Y)\n",
        "plot_roc_curve(models[0], X_test, Y_test, name='ROC for basic RFC with 10% split')\n",
        "plt.show()\n",
        "# pr curve\n",
        "plot_precision_recall_curve(models[0], X_test, Y_test, name='PR for basic RFC with 10% split')\n",
        "plt.show()"
      ],
      "execution_count": 20,
      "outputs": [
        {
          "output_type": "display_data",
          "data": {
            "image/png": "[encoded data removed]",
            "text/plain": [
              "<Figure size 432x288 with 1 Axes>"
            ]
          },
          "metadata": {
            "tags": [],
            "needs_background": "light"
          }
        },
        {
          "output_type": "display_data",
          "data": {
            "image/png": "[encoded data removed]",
            "text/plain": [
              "<Figure size 432x288 with 1 Axes>"
            ]
          },
          "metadata": {
            "tags": [],
            "needs_background": "light"
          }
        }
      ]
    },
    {
      "cell_type": "code",
      "metadata": {
        "id": "IAlKbfkQkoWJ",
        "colab_type": "code",
        "colab": {
          "base_uri": "https://localhost:8080/",
          "height": 541
        },
        "outputId": "004d749e-7398-49a9-b669-ee8c0ead86ed"
      },
      "source": [
        "# using existing model of 20% split from previous code snippet\n",
        "# roc curve\n",
        "X_train, X_test, Y_train, Y_test = train_test_split(X, Y, test_size=0.2, random_state=42, stratify=Y)\n",
        "plot_roc_curve(models[1], X_test, Y_test, name='ROC for basic RFC with 20% split')\n",
        "plt.show()\n",
        "# pr curve\n",
        "plot_precision_recall_curve(models[1], X_test, Y_test, name='PR for basic RFC with 20% split')\n",
        "plt.show()"
      ],
      "execution_count": 21,
      "outputs": [
        {
          "output_type": "display_data",
          "data": {
            "image/png": "[encoded data removed]",
            "text/plain": [
              "<Figure size 432x288 with 1 Axes>"
            ]
          },
          "metadata": {
            "tags": [],
            "needs_background": "light"
          }
        },
        {
          "output_type": "display_data",
          "data": {
            "image/png": "[encoded data removed]",
            "text/plain": [
              "<Figure size 432x288 with 1 Axes>"
            ]
          },
          "metadata": {
            "tags": [],
            "needs_background": "light"
          }
        }
      ]
    },
    {
      "cell_type": "markdown",
      "metadata": {
        "id": "Wpvcdb3iZyLR",
        "colab_type": "text"
      },
      "source": [
        "From results above, we observe that the basic RF classifier works best at 10% and 20% data splits for this problem. Accuracy is always highest, but can be considered a naive element for our problem and hence should not be completely relied on. Also, balanced accuracy and AUC-ROC, AUC-PR scores seem to work optimally."
      ]
    },
    {
      "cell_type": "markdown",
      "metadata": {
        "id": "ENKkSQTkx7_0",
        "colab_type": "text"
      },
      "source": [
        "### 6. Experiments using Cross-validation on dataset\n",
        "We can evaluate the model by partitioning the original sample into *k* folds. 5 folds are being used here, which roughly mean 20% split. 10 folds would be roughly 10%. The train/test split thus is not of our own choosing, but we can choose the folds.\n",
        "\n",
        "K-fold cross-validation divides the data into *k* parts, out of which 1 part is used for test and the rest *k-1* are used for training, and this process is repeated *k* times to obtain a score."
      ]
    },
    {
      "cell_type": "markdown",
      "metadata": {
        "id": "l5qOhslRE6cY",
        "colab_type": "text"
      },
      "source": [
        "#### a. Train and test cross-validated RF model\n",
        "We are using 5-fold cross-validation with this data. "
      ]
    },
    {
      "cell_type": "code",
      "metadata": {
        "id": "lZx9o7tPsRcB",
        "colab_type": "code",
        "colab": {
          "base_uri": "https://localhost:8080/",
          "height": 202
        },
        "outputId": "416b54f1-0089-4e0e-9751-6385a24fdf33"
      },
      "source": [
        "from sklearn.model_selection import cross_val_predict\n",
        "\n",
        "time_cv = 0\n",
        "accuracy_cv = 0\n",
        "precision_cv = 0\n",
        "recall_cv = 0\n",
        "auc_cv = 0\n",
        "f1_cv = 0\n",
        "balanced_cv = 0\n",
        "\n",
        "start = dt.datetime.now()\n",
        "rf = RandomForestClassifier()\n",
        "Y_cf_pred = cross_val_predict(rf, X, Y, cv=5)\n",
        "print(classification_report(Y, Y_cf_pred))\n",
        "accuracy_cv = accuracy_score(Y, Y_cf_pred)\n",
        "precision_cv = precision_score(Y, Y_cf_pred)\n",
        "recall_cv = recall_score(Y, Y_cf_pred)\n",
        "auc_cv = roc_auc_score(Y, Y_cf_pred)\n",
        "balanced_cv = balanced_accuracy_score(Y, Y_cf_pred)\n",
        "f1_cv = f1_score(Y, Y_cf_pred)\n",
        "\n",
        "fpr_cv, tpr_cv, _ = roc_curve(Y, Y_cf_pred)\n",
        "p_cv, r_cv, _ = precision_recall_curve(Y, Y_cf_pred)\n",
        "conf_mat_cv = confusion_matrix(Y, Y_cf_pred)   # for confusion matrix later\n",
        "print(conf_mat_cv)\n",
        "end = dt.datetime.now()"
      ],
      "execution_count": 19,
      "outputs": [
        {
          "output_type": "stream",
          "text": [
            "              precision    recall  f1-score   support\n",
            "\n",
            "           0       1.00      0.80      0.89    284315\n",
            "           1       0.01      0.79      0.01       492\n",
            "\n",
            "    accuracy                           0.80    284807\n",
            "   macro avg       0.50      0.80      0.45    284807\n",
            "weighted avg       1.00      0.80      0.89    284807\n",
            "\n",
            "[[227620  56695]\n",
            " [   102    390]]\n"
          ],
          "name": "stdout"
        }
      ]
    },
    {
      "cell_type": "markdown",
      "metadata": {
        "id": "v3Y1mcL_ErgG",
        "colab_type": "text"
      },
      "source": [
        "#### b. Evaluate the model\n",
        "We need to evaluate the cross-validated model. Again we cannot rely solely on the accuracy score. We will also look at AUC-ROC and PR, balanced accuracy and F1 score."
      ]
    },
    {
      "cell_type": "code",
      "metadata": {
        "id": "JUD7RGRCAfEv",
        "colab_type": "code",
        "outputId": "df2592d6-c31c-417d-d56f-04e8a330ae23",
        "colab": {
          "base_uri": "https://localhost:8080/",
          "height": 134
        }
      },
      "source": [
        "# display results\n",
        "print(\"5-fold Cross-validated Random Forest Classifier\")\n",
        "print(\"Accuracy score = {}\".format(accuracy_cv))\n",
        "print(\"Precision score = {}\".format(precision_cv))\n",
        "print(\"Recall score = {}\".format(recall_cv))\n",
        "print(\"AUC score = {}\".format(auc_cv))\n",
        "print(\"Balanced accuracy score = {}\".format(balanced_cv))\n",
        "print(\"F1 score = {}\".format(f1_cv))"
      ],
      "execution_count": 22,
      "outputs": [
        {
          "output_type": "stream",
          "text": [
            "5-fold Cross-validated Random Forest Classifier\n",
            "Accuracy score = 0.8005772330034023\n",
            "Precision score = 0.006831917316282736\n",
            "Recall score = 0.7926829268292683\n",
            "AUC score = 0.7966369103660789\n",
            "Balanced accuracy score = 0.7966369103660789\n",
            "F1 score = 0.013547076089410701\n"
          ],
          "name": "stdout"
        }
      ]
    },
    {
      "cell_type": "code",
      "metadata": {
        "id": "UeZx48HiENX_",
        "colab_type": "code",
        "colab": {
          "base_uri": "https://localhost:8080/",
          "height": 369
        },
        "outputId": "59aaf115-e15d-424a-fbc2-334318f5e2aa"
      },
      "source": [
        "# plot graph\n",
        "width = 0.1\n",
        "opacity = 0.8\n",
        "\n",
        "# make array\n",
        "scores_cv = []\n",
        "scores_cv.append(accuracy_cv)\n",
        "scores_cv.append(precision_cv)\n",
        "scores_cv.append(recall_cv)\n",
        "scores_cv.append(auc_cv)\n",
        "scores_cv.append(balanced_cv)\n",
        "scores_cv.append(f1_cv)\n",
        "labels_cv = ['Accuracy', 'Precision', 'Recall', 'AUC-ROC', 'Balanced accuracy', 'F1 score']\n",
        "x = np.arange(len(labels_cv))\n",
        "\n",
        "# vertical bar graph\n",
        "plt.figure(figsize=(6, 5))\n",
        "bar1 = plt.bar(x, scores_cv, width, alpha=opacity)\n",
        "\n",
        "plt.xlabel('Types')\n",
        "plt.ylabel('Scores')\n",
        "plt.title('5-fold Cross-validated RF Classifier Scores')\n",
        "plt.xticks(x, labels_cv)\n",
        "\n",
        "plt.tight_layout()\n",
        "plt.show()"
      ],
      "execution_count": 23,
      "outputs": [
        {
          "output_type": "display_data",
          "data": {
            "image/png": "[encoded data removed]",
            "text/plain": [
              "<Figure size 432x360 with 1 Axes>"
            ]
          },
          "metadata": {
            "tags": [],
            "needs_background": "light"
          }
        }
      ]
    },
    {
      "cell_type": "markdown",
      "metadata": {
        "id": "tUX3b0INX2E2",
        "colab_type": "text"
      },
      "source": [
        "The precision seems to be slightly disappointing, but the recall is good. Even balanced accuracy is good at 79.6%. But it is still less than the 90.3% of the basic RF model with 20% data split."
      ]
    },
    {
      "cell_type": "code",
      "metadata": {
        "id": "0IFpFmnAJvvZ",
        "colab_type": "code",
        "colab": {
          "base_uri": "https://localhost:8080/",
          "height": 279
        },
        "outputId": "c8f4a4de-51d6-4db9-b6a1-fbddef311102"
      },
      "source": [
        "from sklearn.metrics import RocCurveDisplay, auc\n",
        "\n",
        "disp = RocCurveDisplay(fpr=fpr_cv, tpr=tpr_cv, roc_auc=auc(fpr_cv, tpr_cv), estimator_name='Random Forest CV')\n",
        "disp.plot()\n",
        "plt.show()"
      ],
      "execution_count": 56,
      "outputs": [
        {
          "output_type": "display_data",
          "data": {
            "image/png": "[encoded data removed]",
            "text/plain": [
              "<Figure size 432x288 with 1 Axes>"
            ]
          },
          "metadata": {
            "tags": [],
            "needs_background": "light"
          }
        }
      ]
    },
    {
      "cell_type": "code",
      "metadata": {
        "id": "NNWT3mCdK7fC",
        "colab_type": "code",
        "colab": {
          "base_uri": "https://localhost:8080/",
          "height": 279
        },
        "outputId": "4afbe330-e7b7-46dc-9f3b-3f1117913ba0"
      },
      "source": [
        "from sklearn.metrics import PrecisionRecallDisplay\n",
        "\n",
        "disp = PrecisionRecallDisplay(precision=p_cv, recall=r_cv, average_precision=precision_cv, estimator_name='Random Forest CV')\n",
        "disp.plot()\n",
        "plt.show()"
      ],
      "execution_count": 57,
      "outputs": [
        {
          "output_type": "display_data",
          "data": {
            "image/png": "[encoded data removed]",
            "text/plain": [
              "<Figure size 432x288 with 1 Axes>"
            ]
          },
          "metadata": {
            "tags": [],
            "needs_background": "light"
          }
        }
      ]
    },
    {
      "cell_type": "markdown",
      "metadata": {
        "id": "4fJGjFbfYg9D",
        "colab_type": "text"
      },
      "source": [
        "The AUC-ROC at 0.8 is quite good, but not that great for AUC-PR (0.01). Overall, it looks like a random 20% train/test split works much better than a 5-fold cross-validated model. We need to experiment further."
      ]
    },
    {
      "cell_type": "markdown",
      "metadata": {
        "id": "6I4dp8nCbh-p",
        "colab_type": "text"
      },
      "source": [
        "### 7. Experiments after balancing the dataset using Undersampling\n",
        "Another good method to try out is balancing the dataset by performing undersampling. This means equalizing the number of non-fraudulent cases with the number of fraudulent cases, by discarding the rest, for training purpose."
      ]
    },
    {
      "cell_type": "code",
      "metadata": {
        "id": "z4oQwgHE2Nnm",
        "colab_type": "code",
        "outputId": "38113a8e-23b8-4fbc-9668-3dff0ce80909",
        "colab": {
          "base_uri": "https://localhost:8080/",
          "height": 215
        }
      },
      "source": [
        "# generate a sub-sample from existing dataset\n",
        "selected_nf = valids.sample(len(frauds))\n",
        "selected_f = frauds\n",
        "\n",
        "# concatenate data into a sub-sample set\n",
        "selected_nf.reset_index(drop=True, inplace=True)\n",
        "selected_f.reset_index(drop=True, inplace=True)\n",
        "subsample_train = pd.concat([selected_nf, selected_f])\n",
        "\n",
        "# shuffle data\n",
        "subsample_train = subsample_train.sample(frac=1).reset_index(drop=True)\n",
        "subsample_train.head()"
      ],
      "execution_count": 24,
      "outputs": [
        {
          "output_type": "execute_result",
          "data": {
            "text/html": [
              "<div>\n",
              "<style scoped>\n",
              "    .dataframe tbody tr th:only-of-type {\n",
              "        vertical-align: middle;\n",
              "    }\n",
              "\n",
              "    .dataframe tbody tr th {\n",
              "        vertical-align: top;\n",
              "    }\n",
              "\n",
              "    .dataframe thead th {\n",
              "        text-align: right;\n",
              "    }\n",
              "</style>\n",
              "<table border=\"1\" class=\"dataframe\">\n",
              "  <thead>\n",
              "    <tr style=\"text-align: right;\">\n",
              "      <th></th>\n",
              "      <th>Time</th>\n",
              "      <th>V1</th>\n",
              "      <th>V2</th>\n",
              "      <th>V3</th>\n",
              "      <th>V4</th>\n",
              "      <th>V5</th>\n",
              "      <th>V6</th>\n",
              "      <th>V7</th>\n",
              "      <th>V8</th>\n",
              "      <th>V9</th>\n",
              "      <th>V10</th>\n",
              "      <th>V11</th>\n",
              "      <th>V12</th>\n",
              "      <th>V13</th>\n",
              "      <th>V14</th>\n",
              "      <th>V15</th>\n",
              "      <th>V16</th>\n",
              "      <th>V17</th>\n",
              "      <th>V18</th>\n",
              "      <th>V19</th>\n",
              "      <th>V20</th>\n",
              "      <th>V21</th>\n",
              "      <th>V22</th>\n",
              "      <th>V23</th>\n",
              "      <th>V24</th>\n",
              "      <th>V25</th>\n",
              "      <th>V26</th>\n",
              "      <th>V27</th>\n",
              "      <th>V28</th>\n",
              "      <th>Amount</th>\n",
              "      <th>Class</th>\n",
              "    </tr>\n",
              "  </thead>\n",
              "  <tbody>\n",
              "    <tr>\n",
              "      <th>0</th>\n",
              "      <td>61021.0</td>\n",
              "      <td>1.199802</td>\n",
              "      <td>0.288080</td>\n",
              "      <td>0.406009</td>\n",
              "      <td>0.627884</td>\n",
              "      <td>-0.440308</td>\n",
              "      <td>-0.872345</td>\n",
              "      <td>-0.033785</td>\n",
              "      <td>-0.051812</td>\n",
              "      <td>-0.193606</td>\n",
              "      <td>-0.104671</td>\n",
              "      <td>1.760868</td>\n",
              "      <td>0.823998</td>\n",
              "      <td>-0.207848</td>\n",
              "      <td>-0.016464</td>\n",
              "      <td>0.412956</td>\n",
              "      <td>0.630317</td>\n",
              "      <td>-0.164246</td>\n",
              "      <td>0.168234</td>\n",
              "      <td>0.016795</td>\n",
              "      <td>-0.097351</td>\n",
              "      <td>-0.226447</td>\n",
              "      <td>-0.705432</td>\n",
              "      <td>0.146230</td>\n",
              "      <td>0.486828</td>\n",
              "      <td>0.148442</td>\n",
              "      <td>0.065454</td>\n",
              "      <td>-0.028580</td>\n",
              "      <td>0.021947</td>\n",
              "      <td>1.29</td>\n",
              "      <td>0</td>\n",
              "    </tr>\n",
              "    <tr>\n",
              "      <th>1</th>\n",
              "      <td>147434.0</td>\n",
              "      <td>1.930606</td>\n",
              "      <td>-0.169885</td>\n",
              "      <td>-1.236238</td>\n",
              "      <td>0.273592</td>\n",
              "      <td>0.587859</td>\n",
              "      <td>0.377462</td>\n",
              "      <td>0.008901</td>\n",
              "      <td>0.070972</td>\n",
              "      <td>0.471078</td>\n",
              "      <td>-0.104083</td>\n",
              "      <td>-0.050988</td>\n",
              "      <td>1.070214</td>\n",
              "      <td>0.629085</td>\n",
              "      <td>0.194486</td>\n",
              "      <td>0.520558</td>\n",
              "      <td>-1.224756</td>\n",
              "      <td>0.653052</td>\n",
              "      <td>-2.414282</td>\n",
              "      <td>-0.935508</td>\n",
              "      <td>-0.290826</td>\n",
              "      <td>-0.157405</td>\n",
              "      <td>-0.126405</td>\n",
              "      <td>0.365230</td>\n",
              "      <td>-0.999933</td>\n",
              "      <td>-0.397616</td>\n",
              "      <td>0.372201</td>\n",
              "      <td>-0.015017</td>\n",
              "      <td>-0.073801</td>\n",
              "      <td>1.00</td>\n",
              "      <td>0</td>\n",
              "    </tr>\n",
              "    <tr>\n",
              "      <th>2</th>\n",
              "      <td>74408.0</td>\n",
              "      <td>-0.651771</td>\n",
              "      <td>1.358729</td>\n",
              "      <td>0.700279</td>\n",
              "      <td>-0.020250</td>\n",
              "      <td>-0.032212</td>\n",
              "      <td>-0.721050</td>\n",
              "      <td>0.365158</td>\n",
              "      <td>0.382942</td>\n",
              "      <td>-0.539096</td>\n",
              "      <td>-0.740891</td>\n",
              "      <td>-0.827294</td>\n",
              "      <td>-0.059189</td>\n",
              "      <td>0.345953</td>\n",
              "      <td>-0.159242</td>\n",
              "      <td>0.886509</td>\n",
              "      <td>0.658782</td>\n",
              "      <td>-0.022769</td>\n",
              "      <td>0.068114</td>\n",
              "      <td>0.104695</td>\n",
              "      <td>0.039080</td>\n",
              "      <td>-0.252485</td>\n",
              "      <td>-0.793731</td>\n",
              "      <td>-0.013174</td>\n",
              "      <td>-0.203836</td>\n",
              "      <td>-0.059932</td>\n",
              "      <td>0.107220</td>\n",
              "      <td>0.118107</td>\n",
              "      <td>0.030467</td>\n",
              "      <td>9.55</td>\n",
              "      <td>0</td>\n",
              "    </tr>\n",
              "    <tr>\n",
              "      <th>3</th>\n",
              "      <td>33775.0</td>\n",
              "      <td>-0.001517</td>\n",
              "      <td>-0.035350</td>\n",
              "      <td>1.538804</td>\n",
              "      <td>-1.661325</td>\n",
              "      <td>-0.216210</td>\n",
              "      <td>-0.842749</td>\n",
              "      <td>0.190364</td>\n",
              "      <td>-0.292265</td>\n",
              "      <td>-1.021620</td>\n",
              "      <td>0.281451</td>\n",
              "      <td>0.214730</td>\n",
              "      <td>-0.081748</td>\n",
              "      <td>1.126118</td>\n",
              "      <td>-0.724777</td>\n",
              "      <td>0.168652</td>\n",
              "      <td>0.902035</td>\n",
              "      <td>0.073108</td>\n",
              "      <td>-1.939974</td>\n",
              "      <td>-0.674173</td>\n",
              "      <td>0.087371</td>\n",
              "      <td>0.308325</td>\n",
              "      <td>1.028844</td>\n",
              "      <td>0.146892</td>\n",
              "      <td>0.422106</td>\n",
              "      <td>-1.237193</td>\n",
              "      <td>-0.661845</td>\n",
              "      <td>0.091304</td>\n",
              "      <td>0.016830</td>\n",
              "      <td>1.00</td>\n",
              "      <td>0</td>\n",
              "    </tr>\n",
              "    <tr>\n",
              "      <th>4</th>\n",
              "      <td>48308.0</td>\n",
              "      <td>-0.598182</td>\n",
              "      <td>1.234220</td>\n",
              "      <td>1.204061</td>\n",
              "      <td>-0.108590</td>\n",
              "      <td>0.000779</td>\n",
              "      <td>-0.686514</td>\n",
              "      <td>0.561331</td>\n",
              "      <td>0.112565</td>\n",
              "      <td>-0.392239</td>\n",
              "      <td>-0.019475</td>\n",
              "      <td>1.426386</td>\n",
              "      <td>0.365064</td>\n",
              "      <td>-0.443453</td>\n",
              "      <td>-0.208621</td>\n",
              "      <td>0.259864</td>\n",
              "      <td>0.580035</td>\n",
              "      <td>-0.224456</td>\n",
              "      <td>0.398816</td>\n",
              "      <td>0.172540</td>\n",
              "      <td>0.218102</td>\n",
              "      <td>-0.248639</td>\n",
              "      <td>-0.637678</td>\n",
              "      <td>-0.016948</td>\n",
              "      <td>0.261262</td>\n",
              "      <td>-0.156451</td>\n",
              "      <td>0.060746</td>\n",
              "      <td>0.345047</td>\n",
              "      <td>0.146577</td>\n",
              "      <td>0.89</td>\n",
              "      <td>0</td>\n",
              "    </tr>\n",
              "  </tbody>\n",
              "</table>\n",
              "</div>"
            ],
            "text/plain": [
              "       Time        V1        V2        V3  ...       V27       V28  Amount  Class\n",
              "0   61021.0  1.199802  0.288080  0.406009  ... -0.028580  0.021947    1.29      0\n",
              "1  147434.0  1.930606 -0.169885 -1.236238  ... -0.015017 -0.073801    1.00      0\n",
              "2   74408.0 -0.651771  1.358729  0.700279  ...  0.118107  0.030467    9.55      0\n",
              "3   33775.0 -0.001517 -0.035350  1.538804  ...  0.091304  0.016830    1.00      0\n",
              "4   48308.0 -0.598182  1.234220  1.204061  ...  0.345047  0.146577    0.89      0\n",
              "\n",
              "[5 rows x 31 columns]"
            ]
          },
          "metadata": {
            "tags": []
          },
          "execution_count": 24
        }
      ]
    },
    {
      "cell_type": "code",
      "metadata": {
        "id": "q8XytqCz8Owy",
        "colab_type": "code",
        "outputId": "0dfe3dfa-58a6-48d4-9288-c0f098cbc755",
        "colab": {
          "base_uri": "https://localhost:8080/",
          "height": 582
        }
      },
      "source": [
        "plt.figure(figsize=(12, 9))\n",
        "plt.title('Correlation matrix for features in sub-sample')\n",
        "# plot the matrix as a heatmap\n",
        "sns.heatmap(subsample_train.corr(), vmax=0.8, cmap='YlGnBu', square=True)\n",
        "plt.show()"
      ],
      "execution_count": 25,
      "outputs": [
        {
          "output_type": "display_data",
          "data": {
            "image/png": "[encoded data removed]",
            "text/plain": [
              "<Figure size 864x648 with 2 Axes>"
            ]
          },
          "metadata": {
            "tags": [],
            "needs_background": "light"
          }
        }
      ]
    },
    {
      "cell_type": "markdown",
      "metadata": {
        "id": "BirJypdQY8i4",
        "colab_type": "text"
      },
      "source": [
        "There is a sudden shift in the correlation matrix once we got rid of a lot of samples. This means there is a lot of dependency between features in such a small dataset, and there is very low chance of discarding variables if needed. We now check how Random Forest works on undersampled data."
      ]
    },
    {
      "cell_type": "code",
      "metadata": {
        "id": "OdJMB5TM_9oc",
        "colab_type": "code",
        "colab": {
          "base_uri": "https://localhost:8080/",
          "height": 454
        },
        "outputId": "63abcd81-d1da-454a-9a23-dfd9254df5d7"
      },
      "source": [
        "# separate features and output of the dataset\n",
        "X_s = subsample_train.drop(labels='Class', axis=1)   # the features\n",
        "Y_s = subsample_train.loc[:, 'Class']    # the classification\n",
        "\n",
        "# arrays for comparing/plotting results later\n",
        "accuracy_us = []\n",
        "precision_us = []\n",
        "recall_us = []\n",
        "auc_us = []\n",
        "balanced_us = []\n",
        "f1_us = []\n",
        "splits_us = []\n",
        "models_us = []\n",
        "roc_us = []\n",
        "pr_us = []\n",
        "conf_mat_us = []\n",
        "\n",
        "# for each split percent\n",
        "for split in range(10, 21, 10):\n",
        "    splits_us.append(split)\n",
        "    X_s_train, X_s_test, Y_s_train, Y_s_test = train_test_split(X_s, Y_s, test_size=split/100, random_state=42, stratify=Y_s)\n",
        "    # train\n",
        "    rfc_model_us = RandomForestClassifier()\n",
        "    rfc_model_us.fit(X_s_train, Y_s_train)\n",
        "    models_us.append(rfc_model_us)\n",
        "    # test\n",
        "    Y_s_pred = rfc_model_us.predict(X_s_test)\n",
        "    print(\"Undersampled RF with split = {}\".format(split))\n",
        "    print(classification_report(Y_s_test, Y_s_pred))\n",
        "    fpr_us, tpr_us, _ = roc_curve(Y_s_test, Y_s_pred)\n",
        "    roc_us.append([tpr_us, fpr_us])  # for roc curve\n",
        "    p_us, r_us, _ = precision_recall_curve(Y_s_test, Y_s_pred)\n",
        "    pr_us.append([p_us, r_us])   # for pr curve\n",
        "    cfm_us = confusion_matrix(Y_s_test, Y_s_pred)\n",
        "    print(cfm_us)\n",
        "    print(\"----------\")\n",
        "    conf_mat_us.append(cfm_us)   # for confusion matrix later\n",
        "    # score\n",
        "    accuracy_us.append(accuracy_score(Y_s_test, Y_s_pred))\n",
        "    precision_us.append(precision_score(Y_s_test, Y_s_pred))\n",
        "    recall_us.append(recall_score(Y_s_test, Y_s_pred))\n",
        "    auc_us.append(roc_auc_score(Y_s_test, Y_s_pred))\n",
        "    balanced_us.append(balanced_accuracy_score(Y_s_test, Y_s_pred))\n",
        "    f1_us.append(f1_score(Y_s_test, Y_s_pred))"
      ],
      "execution_count": 28,
      "outputs": [
        {
          "output_type": "stream",
          "text": [
            "Undersampled RF with split = 10\n",
            "              precision    recall  f1-score   support\n",
            "\n",
            "           0       0.85      0.94      0.90        50\n",
            "           1       0.93      0.84      0.88        49\n",
            "\n",
            "    accuracy                           0.89        99\n",
            "   macro avg       0.89      0.89      0.89        99\n",
            "weighted avg       0.89      0.89      0.89        99\n",
            "\n",
            "[[47  3]\n",
            " [ 8 41]]\n",
            "----------\n",
            "Undersampled RF with split = 20\n",
            "              precision    recall  f1-score   support\n",
            "\n",
            "           0       0.92      0.96      0.94        99\n",
            "           1       0.96      0.92      0.94        98\n",
            "\n",
            "    accuracy                           0.94       197\n",
            "   macro avg       0.94      0.94      0.94       197\n",
            "weighted avg       0.94      0.94      0.94       197\n",
            "\n",
            "[[95  4]\n",
            " [ 8 90]]\n",
            "----------\n"
          ],
          "name": "stdout"
        }
      ]
    },
    {
      "cell_type": "code",
      "metadata": {
        "id": "G6MDlOW-BRx3",
        "colab_type": "code",
        "outputId": "0a6c226a-ede4-43ef-a73b-48198f406847",
        "colab": {
          "base_uri": "https://localhost:8080/",
          "height": 286
        }
      },
      "source": [
        "# display results\n",
        "for i in range(len(splits_us)):\n",
        "    print(\"----------\")\n",
        "    print(\"Random Forest Classifier with Undersampling at {}% split:\".format(splits_us[i]))\n",
        "    print(\"Accuracy score = {}\".format(accuracy_us[i]))\n",
        "    print(\"Precision score = {}\".format(precision_us[i]))\n",
        "    print(\"Recall score = {}\".format(recall_us[i]))\n",
        "    print(\"AUC score = {}\".format(auc_us[i]))\n",
        "    print(\"Balanced accuracy score = {}\".format(balanced_us[i]))\n",
        "    print(\"F1 score = {}\".format(f1_us[i]))"
      ],
      "execution_count": 29,
      "outputs": [
        {
          "output_type": "stream",
          "text": [
            "----------\n",
            "Random Forest Classifier with Undersampling at 10% split:\n",
            "Accuracy score = 0.8888888888888888\n",
            "Precision score = 0.9318181818181818\n",
            "Recall score = 0.8367346938775511\n",
            "AUC score = 0.8883673469387754\n",
            "Balanced accuracy score = 0.8883673469387755\n",
            "F1 score = 0.8817204301075268\n",
            "----------\n",
            "Random Forest Classifier with Undersampling at 20% split:\n",
            "Accuracy score = 0.9390862944162437\n",
            "Precision score = 0.9574468085106383\n",
            "Recall score = 0.9183673469387755\n",
            "AUC score = 0.9389816532673675\n",
            "Balanced accuracy score = 0.9389816532673676\n",
            "F1 score = 0.9375000000000001\n"
          ],
          "name": "stdout"
        }
      ]
    },
    {
      "cell_type": "code",
      "metadata": {
        "id": "FYKhVuFztS30",
        "colab_type": "code",
        "colab": {
          "base_uri": "https://localhost:8080/",
          "height": 541
        },
        "outputId": "de5da162-f688-4bd7-eb89-8471224588b6"
      },
      "source": [
        "# plot curves\n",
        "# using existing model of 10% split from previous code snippet\n",
        "X_s_train, X_s_test, Y_s_train, Y_s_test = train_test_split(X_s, Y_s, test_size=0.1, random_state=42, stratify=Y_s)\n",
        "plot_roc_curve(models_us[0], X_s_test, Y_s_test, name='ROC for undersampled RFC with 10% split')\n",
        "plt.show()\n",
        "plot_precision_recall_curve(models_us[0], X_s_test, Y_s_test, name='PR for undersampled RFC with 10% split')\n",
        "plt.show()"
      ],
      "execution_count": 30,
      "outputs": [
        {
          "output_type": "display_data",
          "data": {
            "image/png": "[encoded data removed]",
            "text/plain": [
              "<Figure size 432x288 with 1 Axes>"
            ]
          },
          "metadata": {
            "tags": [],
            "needs_background": "light"
          }
        },
        {
          "output_type": "display_data",
          "data": {
            "image/png": "[encoded data removed]",
            "text/plain": [
              "<Figure size 432x288 with 1 Axes>"
            ]
          },
          "metadata": {
            "tags": [],
            "needs_background": "light"
          }
        }
      ]
    },
    {
      "cell_type": "code",
      "metadata": {
        "id": "OLW59bOCwdOB",
        "colab_type": "code",
        "colab": {
          "base_uri": "https://localhost:8080/",
          "height": 541
        },
        "outputId": "8f81401c-e329-47ba-ffd7-27e8cfb7036a"
      },
      "source": [
        "# using existing model of 20% split from previous code snippet\n",
        "X_s_train, X_s_test, Y_s_train, Y_s_test = train_test_split(X_s, Y_s, test_size=0.2, random_state=42, stratify=Y_s)\n",
        "plot_roc_curve(models_us[1], X_s_test, Y_s_test, name='ROC for undersampled RFC with 20% split')\n",
        "plt.show()\n",
        "plot_precision_recall_curve(models_us[1], X_s_test, Y_s_test, name='PR for undersampled RFC with 20% split')\n",
        "plt.show()"
      ],
      "execution_count": 31,
      "outputs": [
        {
          "output_type": "display_data",
          "data": {
            "image/png": "[encoded data removed]",
            "text/plain": [
              "<Figure size 432x288 with 1 Axes>"
            ]
          },
          "metadata": {
            "tags": [],
            "needs_background": "light"
          }
        },
        {
          "output_type": "display_data",
          "data": {
            "image/png": "[encoded data removed]",
            "text/plain": [
              "<Figure size 432x288 with 1 Axes>"
            ]
          },
          "metadata": {
            "tags": [],
            "needs_background": "light"
          }
        }
      ]
    },
    {
      "cell_type": "markdown",
      "metadata": {
        "id": "I4rjUYSCZyGm",
        "colab_type": "text"
      },
      "source": [
        "Looks like the basic Random Forest classifier works very well with the undersampled dataset. Looking at the scores of the model with 20% split, we see some good values indeed. Balanced accuracy of 93%, and both AUC-ROC and AUC-PR at 0.98 look amazing. But this also means that the model hasn't been trained enough and might fail at random points. Thus its reliability is questionable."
      ]
    },
    {
      "cell_type": "markdown",
      "metadata": {
        "id": "9hHaJZNAbsQx",
        "colab_type": "text"
      },
      "source": [
        "### 8. Using AdaBoost with Random Forest classifier on the dataset\n",
        "We now look at how AdaBoost can be helpful with our original Random Forest model. Note that AdaBoost is a boosting technique, while Random Forest is a bagging technique of the ensemble learning. Boosting normally works with sequential models (like Decision Trees), while Random Forest works more in parallel. We expect to see competing results. We have stuck to 10% and 20% train/test splits."
      ]
    },
    {
      "cell_type": "markdown",
      "metadata": {
        "id": "IfEAwtjMPRrK",
        "colab_type": "text"
      },
      "source": [
        "#### a. At 20% train/test split"
      ]
    },
    {
      "cell_type": "code",
      "metadata": {
        "id": "McIOiRA2KyGx",
        "colab_type": "code",
        "colab": {
          "base_uri": "https://localhost:8080/",
          "height": 50
        },
        "outputId": "c38e81df-89cd-4d80-b6bc-c8314e4c6939"
      },
      "source": [
        "# imports again\n",
        "from sklearn.ensemble import AdaBoostClassifier\n",
        "\n",
        "# saving adaboost models\n",
        "models_ab = []\n",
        "\n",
        "X_ar_train, X_ar_test, Y_ar_train, Y_ar_test = train_test_split(X, Y, test_size=0.2, random_state=42, stratify=Y)\n",
        "adb_rf = AdaBoostClassifier(RandomForestClassifier(), n_estimators=100)\n",
        "adb_rf.fit(X_ar_train, Y_ar_train)\n",
        "models_ab.append(adb_rf)    # save for later\n",
        "\n",
        "Y_ar_pred = adb_rf.predict(X_ar_test)\n",
        "confusion_matrix(Y_ar_test, Y_ar_pred)"
      ],
      "execution_count": 32,
      "outputs": [
        {
          "output_type": "execute_result",
          "data": {
            "text/plain": [
              "array([[56859,     5],\n",
              "       [   18,    80]])"
            ]
          },
          "metadata": {
            "tags": []
          },
          "execution_count": 32
        }
      ]
    },
    {
      "cell_type": "code",
      "metadata": {
        "id": "OA0fsdRHJ5cu",
        "colab_type": "code",
        "colab": {
          "base_uri": "https://localhost:8080/",
          "height": 134
        },
        "outputId": "c3e2e7b8-3375-43ec-857e-6e7faff0a64e"
      },
      "source": [
        "# scores\n",
        "accuracy_ar = accuracy_score(Y_ar_test, Y_ar_pred)\n",
        "precision_ar = precision_score(Y_ar_test, Y_ar_pred)\n",
        "recall_ar = recall_score(Y_ar_test, Y_ar_pred)\n",
        "auc_ar = roc_auc_score(Y_ar_test, Y_ar_pred)\n",
        "balanced_ar = balanced_accuracy_score(Y_ar_test, Y_ar_pred)\n",
        "f1_ar = f1_score(Y_ar_test, Y_ar_pred)\n",
        "\n",
        "# display results\n",
        "print(\"Random Forest Classifier with AdaBoost at 20% split\")\n",
        "print(\"Accuracy score = {}\".format(accuracy_ar))\n",
        "print(\"Precision score = {}\".format(precision_ar))\n",
        "print(\"Recall score = {}\".format(recall_ar))\n",
        "print(\"AUC score = {}\".format(auc_ar))\n",
        "print(\"Balanced accuracy score = {}\".format(balanced_ar))\n",
        "print(\"F1 score = {}\".format(f1_ar))"
      ],
      "execution_count": 33,
      "outputs": [
        {
          "output_type": "stream",
          "text": [
            "Random Forest Classifier with AdaBoost at 20% split\n",
            "Accuracy score = 0.9995962220427653\n",
            "Precision score = 0.9411764705882353\n",
            "Recall score = 0.8163265306122449\n",
            "AUC score = 0.9081193007591333\n",
            "Balanced accuracy score = 0.9081193007591332\n",
            "F1 score = 0.8743169398907105\n"
          ],
          "name": "stdout"
        }
      ]
    },
    {
      "cell_type": "code",
      "metadata": {
        "id": "AR6QXiHoKaxr",
        "colab_type": "code",
        "colab": {
          "base_uri": "https://localhost:8080/",
          "height": 541
        },
        "outputId": "535a949b-a853-42af-d95a-80b2fda9ff27"
      },
      "source": [
        "# plots\n",
        "plot_roc_curve(models_ab[0], X_ar_test, Y_ar_test, name='ROC for RFC with AdaBoost at 20% split')\n",
        "plt.show()\n",
        "plot_precision_recall_curve(models_ab[0], X_ar_test, Y_ar_test, name='PR for RFC with AdaBoost at 20% split')\n",
        "plt.show()"
      ],
      "execution_count": 34,
      "outputs": [
        {
          "output_type": "display_data",
          "data": {
            "image/png": "[encoded data removed]",
            "text/plain": [
              "<Figure size 432x288 with 1 Axes>"
            ]
          },
          "metadata": {
            "tags": [],
            "needs_background": "light"
          }
        },
        {
          "output_type": "display_data",
          "data": {
            "image/png": "[encoded data removed]",
            "text/plain": [
              "<Figure size 432x288 with 1 Axes>"
            ]
          },
          "metadata": {
            "tags": [],
            "needs_background": "light"
          }
        }
      ]
    },
    {
      "cell_type": "markdown",
      "metadata": {
        "id": "_KxabGSGbwf3",
        "colab_type": "text"
      },
      "source": [
        "We see no change in the scores of the basic Random Forest model after applying AdaBoost with 20%. The accuracies of both before and after are at 99.9%. Same goes for AUC-ROC at roughly 0.95, AUC-PR at 0.86 and balanced accuracy at roughly 90.3%"
      ]
    },
    {
      "cell_type": "markdown",
      "metadata": {
        "id": "xn_vz7emUQK3",
        "colab_type": "text"
      },
      "source": [
        "#### b. At 10% train/test split"
      ]
    },
    {
      "cell_type": "code",
      "metadata": {
        "id": "eHEoPJUcP19V",
        "colab_type": "code",
        "colab": {
          "base_uri": "https://localhost:8080/",
          "height": 50
        },
        "outputId": "2e9439b5-bb11-43db-db0c-4057194a79f5"
      },
      "source": [
        "# similarly for 10% split\n",
        "X_ar_train_1, X_ar_test_1, Y_ar_train_1, Y_ar_test_1 = train_test_split(X, Y, test_size=0.1, random_state=42, stratify=Y)\n",
        "adb_rf_1 = AdaBoostClassifier(RandomForestClassifier(), n_estimators=100)\n",
        "adb_rf_1.fit(X_ar_train_1, Y_ar_train_1)\n",
        "models_ab.append(adb_rf_1)    # save for later\n",
        "\n",
        "Y_ar_pred_1 = adb_rf_1.predict(X_ar_test_1)\n",
        "confusion_matrix(Y_ar_test_1, Y_ar_pred_1)"
      ],
      "execution_count": 35,
      "outputs": [
        {
          "output_type": "execute_result",
          "data": {
            "text/plain": [
              "array([[28430,     2],\n",
              "       [   10,    39]])"
            ]
          },
          "metadata": {
            "tags": []
          },
          "execution_count": 35
        }
      ]
    },
    {
      "cell_type": "code",
      "metadata": {
        "id": "fNoy751LQ40d",
        "colab_type": "code",
        "colab": {
          "base_uri": "https://localhost:8080/",
          "height": 134
        },
        "outputId": "711ebc57-5a5c-458a-9cce-2c9e44d5c32a"
      },
      "source": [
        "# scores\n",
        "accuracy_ar_1 = accuracy_score(Y_ar_test_1, Y_ar_pred_1)\n",
        "precision_ar_1 = precision_score(Y_ar_test_1, Y_ar_pred_1)\n",
        "recall_ar_1 = recall_score(Y_ar_test_1, Y_ar_pred_1)\n",
        "auc_ar_1 = roc_auc_score(Y_ar_test_1, Y_ar_pred_1)\n",
        "balanced_ar_1 = balanced_accuracy_score(Y_ar_test_1, Y_ar_pred_1)\n",
        "f1_ar_1 = f1_score(Y_ar_test_1, Y_ar_pred_1)\n",
        "\n",
        "# display results\n",
        "print(\"Random Forest Classifier with AdaBoost at 10% split\")\n",
        "print(\"Accuracy score = {}\".format(accuracy_ar_1))\n",
        "print(\"Precision score = {}\".format(precision_ar_1))\n",
        "print(\"Recall score = {}\".format(recall_ar_1))\n",
        "print(\"AUC score = {}\".format(auc_ar_1))\n",
        "print(\"Balanced accuracy score = {}\".format(balanced_ar_1))\n",
        "print(\"F1 score = {}\".format(f1_ar_1))"
      ],
      "execution_count": 36,
      "outputs": [
        {
          "output_type": "stream",
          "text": [
            "Random Forest Classifier with AdaBoost at 10% split\n",
            "Accuracy score = 0.9995786664794073\n",
            "Precision score = 0.9512195121951219\n",
            "Recall score = 0.7959183673469388\n",
            "AUC score = 0.897924012035878\n",
            "Balanced accuracy score = 0.897924012035878\n",
            "F1 score = 0.8666666666666666\n"
          ],
          "name": "stdout"
        }
      ]
    },
    {
      "cell_type": "code",
      "metadata": {
        "id": "o0jlBRaxRKp7",
        "colab_type": "code",
        "colab": {
          "base_uri": "https://localhost:8080/",
          "height": 541
        },
        "outputId": "c7ba7fda-3785-4e65-e699-aab83355d499"
      },
      "source": [
        "# plots\n",
        "plot_roc_curve(models_ab[1], X_ar_test_1, Y_ar_test_1, name='ROC for RFC with AdaBoost at 10% split')\n",
        "plt.show()\n",
        "plot_precision_recall_curve(models_ab[1], X_ar_test_1, Y_ar_test_1, name='PR for RFC with AdaBoost at 10% split')\n",
        "plt.show()"
      ],
      "execution_count": 37,
      "outputs": [
        {
          "output_type": "display_data",
          "data": {
            "image/png": "[encoded data removed]",
            "text/plain": [
              "<Figure size 432x288 with 1 Axes>"
            ]
          },
          "metadata": {
            "tags": [],
            "needs_background": "light"
          }
        },
        {
          "output_type": "display_data",
          "data": {
            "image/png": "[encoded data removed]",
            "text/plain": [
              "<Figure size 432x288 with 1 Axes>"
            ]
          },
          "metadata": {
            "tags": [],
            "needs_background": "light"
          }
        }
      ]
    },
    {
      "cell_type": "markdown",
      "metadata": {
        "id": "mRVNnjDYcYUg",
        "colab_type": "text"
      },
      "source": [
        "Similar to the 20% split, there is negligible change in the scores of the basic Random Forest model after applying AdaBoost with 10%. The accuracies of both before and after are at 99.9%. Same goes for AUC-ROC at 0.96 and AUC-PR at 0.88. Only balanced accuracy has a slight change from 90.8% to 89.7%"
      ]
    },
    {
      "cell_type": "markdown",
      "metadata": {
        "id": "gHNXvDL1yKMi",
        "colab_type": "text"
      },
      "source": [
        "### 9. Using AdaBoost with Decision Tree classifier on the dataset\n",
        "As we know that AdaBoost, or boosting in general works well with sequential models like Decision Trees, we also try implementing this method."
      ]
    },
    {
      "cell_type": "markdown",
      "metadata": {
        "id": "oJtvHygRUT4i",
        "colab_type": "text"
      },
      "source": [
        "#### a. At 20% train/test split"
      ]
    },
    {
      "cell_type": "code",
      "metadata": {
        "id": "rfmn30TqRjpe",
        "colab_type": "code",
        "colab": {
          "base_uri": "https://localhost:8080/",
          "height": 50
        },
        "outputId": "a387fde7-baeb-4a61-a0e5-3fecc8781f8c"
      },
      "source": [
        "# more imports\n",
        "from sklearn.tree import DecisionTreeClassifier\n",
        "\n",
        "X_ad_train, X_ad_test, Y_ad_train, Y_ad_test = train_test_split(X, Y, test_size=0.2, random_state=42, stratify=Y)\n",
        "adb_dt = AdaBoostClassifier(DecisionTreeClassifier(), n_estimators=100)\n",
        "adb_dt.fit(X_ad_train, Y_ad_train)\n",
        "models_ab.append(adb_dt)    # save for later\n",
        "\n",
        "Y_ad_pred = adb_dt.predict(X_ad_test)\n",
        "confusion_matrix(Y_ad_test, Y_ad_pred)"
      ],
      "execution_count": 38,
      "outputs": [
        {
          "output_type": "execute_result",
          "data": {
            "text/plain": [
              "array([[56837,    27],\n",
              "       [   26,    72]])"
            ]
          },
          "metadata": {
            "tags": []
          },
          "execution_count": 38
        }
      ]
    },
    {
      "cell_type": "code",
      "metadata": {
        "id": "pYJOtn0KTFCB",
        "colab_type": "code",
        "colab": {
          "base_uri": "https://localhost:8080/",
          "height": 134
        },
        "outputId": "d8f33436-79b7-44f0-ad90-5f517eda4ca3"
      },
      "source": [
        "# scores\n",
        "accuracy_ad = accuracy_score(Y_ad_test, Y_ad_pred)\n",
        "precision_ad = precision_score(Y_ad_test, Y_ad_pred)\n",
        "recall_ad = recall_score(Y_ad_test, Y_ad_pred)\n",
        "auc_ad = roc_auc_score(Y_ad_test, Y_ad_pred)\n",
        "balanced_ad = balanced_accuracy_score(Y_ad_test, Y_ad_pred)\n",
        "f1_ad = f1_score(Y_ad_test, Y_ad_pred)\n",
        "\n",
        "# display results\n",
        "print(\"Decision Tree with AdaBoost at 20% split\")\n",
        "print(\"Accuracy score = {}\".format(accuracy_ad))\n",
        "print(\"Precision score = {}\".format(precision_ad))\n",
        "print(\"Recall score = {}\".format(recall_ad))\n",
        "print(\"AUC score = {}\".format(auc_ad))\n",
        "print(\"Balanced accuracy score = {}\".format(balanced_ad))\n",
        "print(\"F1 score = {}\".format(f1_ad))"
      ],
      "execution_count": 39,
      "outputs": [
        {
          "output_type": "stream",
          "text": [
            "Decision Tree with AdaBoost at 20% split\n",
            "Accuracy score = 0.9990695551420246\n",
            "Precision score = 0.7272727272727273\n",
            "Recall score = 0.7346938775510204\n",
            "AUC score = 0.867109530221768\n",
            "Balanced accuracy score = 0.867109530221768\n",
            "F1 score = 0.730964467005076\n"
          ],
          "name": "stdout"
        }
      ]
    },
    {
      "cell_type": "code",
      "metadata": {
        "id": "VNVXKEAwT17k",
        "colab_type": "code",
        "colab": {
          "base_uri": "https://localhost:8080/",
          "height": 541
        },
        "outputId": "93e6cc79-bd5c-4f2a-8d8f-0ac5ef3ca8b6"
      },
      "source": [
        "# plots\n",
        "plot_roc_curve(models_ab[2], X_ad_test, Y_ad_test, name='ROC for DT with AdaBoost at 20% split')\n",
        "plt.show()\n",
        "plot_precision_recall_curve(models_ab[2], X_ad_test, Y_ad_test, name='PR for DT with AdaBoost at 20% split')\n",
        "plt.show()"
      ],
      "execution_count": 40,
      "outputs": [
        {
          "output_type": "display_data",
          "data": {
            "image/png": "[encoded data removed]",
            "text/plain": [
              "<Figure size 432x288 with 1 Axes>"
            ]
          },
          "metadata": {
            "tags": [],
            "needs_background": "light"
          }
        },
        {
          "output_type": "display_data",
          "data": {
            "image/png": "[encoded data removed]",
            "text/plain": [
              "<Figure size 432x288 with 1 Axes>"
            ]
          },
          "metadata": {
            "tags": [],
            "needs_background": "light"
          }
        }
      ]
    },
    {
      "cell_type": "markdown",
      "metadata": {
        "id": "jy5V6ozDUWoC",
        "colab_type": "text"
      },
      "source": [
        "#### b. At 10% train/test split"
      ]
    },
    {
      "cell_type": "code",
      "metadata": {
        "id": "yO2lucxGUak3",
        "colab_type": "code",
        "colab": {
          "base_uri": "https://localhost:8080/",
          "height": 50
        },
        "outputId": "38ed08c1-203e-4e36-baf8-2bb9885e3f59"
      },
      "source": [
        "X_ad_train_1, X_ad_test_1, Y_ad_train_1, Y_ad_test_1 = train_test_split(X, Y, test_size=0.1, random_state=42, stratify=Y)\n",
        "adb_dt = AdaBoostClassifier(DecisionTreeClassifier(), n_estimators=100)\n",
        "adb_dt.fit(X_ad_train_1, Y_ad_train_1)\n",
        "models_ab.append(adb_dt)    # save for later\n",
        "\n",
        "Y_ad_pred_1 = adb_dt.predict(X_ad_test_1)\n",
        "confusion_matrix(Y_ad_test_1, Y_ad_pred_1)"
      ],
      "execution_count": 41,
      "outputs": [
        {
          "output_type": "execute_result",
          "data": {
            "text/plain": [
              "array([[28416,    16],\n",
              "       [   12,    37]])"
            ]
          },
          "metadata": {
            "tags": []
          },
          "execution_count": 41
        }
      ]
    },
    {
      "cell_type": "code",
      "metadata": {
        "id": "cS8e0GmgUpsU",
        "colab_type": "code",
        "colab": {
          "base_uri": "https://localhost:8080/",
          "height": 134
        },
        "outputId": "f1ddae79-40c4-496c-e02e-66dd62bc3ab4"
      },
      "source": [
        "# scores\n",
        "accuracy_ad_1 = accuracy_score(Y_ad_test_1, Y_ad_pred_1)\n",
        "precision_ad_1 = precision_score(Y_ad_test_1, Y_ad_pred_1)\n",
        "recall_ad_1 = recall_score(Y_ad_test_1, Y_ad_pred_1)\n",
        "auc_ad_1 = roc_auc_score(Y_ad_test_1, Y_ad_pred_1)\n",
        "balanced_ad_1 = balanced_accuracy_score(Y_ad_test_1, Y_ad_pred_1)\n",
        "f1_ad_1 = f1_score(Y_ad_test_1, Y_ad_pred_1)\n",
        "\n",
        "# display results\n",
        "print(\"Decision Tree with AdaBoost at 10% split\")\n",
        "print(\"Accuracy score = {}\".format(accuracy_ad_1))\n",
        "print(\"Precision score = {}\".format(precision_ad_1))\n",
        "print(\"Recall score = {}\".format(recall_ad_1))\n",
        "print(\"AUC score = {}\".format(auc_ad_1))\n",
        "print(\"Balanced accuracy score = {}\".format(balanced_ad_1))\n",
        "print(\"F1 score = {}\".format(f1_ad_1))"
      ],
      "execution_count": 58,
      "outputs": [
        {
          "output_type": "stream",
          "text": [
            "Decision Tree with AdaBoost at 10% split\n",
            "Accuracy score = 0.9990168884519505\n",
            "Precision score = 0.6981132075471698\n",
            "Recall score = 0.7551020408163265\n",
            "AUC score = 0.8772696473074317\n",
            "Balanced accuracy score = 0.8772696473074317\n",
            "F1 score = 0.7254901960784315\n"
          ],
          "name": "stdout"
        }
      ]
    },
    {
      "cell_type": "code",
      "metadata": {
        "id": "sk2gFnYIU98L",
        "colab_type": "code",
        "colab": {
          "base_uri": "https://localhost:8080/",
          "height": 541
        },
        "outputId": "e8adce8f-4311-4090-8900-b9d8380cf238"
      },
      "source": [
        "# plots\n",
        "plot_roc_curve(models_ab[3], X_ad_test_1, Y_ad_test_1, name='ROC for DT with AdaBoost at 10% split')\n",
        "plt.show()\n",
        "plot_precision_recall_curve(models_ab[3], X_ad_test_1, Y_ad_test_1, name='PR for DT with AdaBoost at 10% split')\n",
        "plt.show()"
      ],
      "execution_count": 43,
      "outputs": [
        {
          "output_type": "display_data",
          "data": {
            "image/png": "[encoded data removed]",
            "text/plain": [
              "<Figure size 432x288 with 1 Axes>"
            ]
          },
          "metadata": {
            "tags": [],
            "needs_background": "light"
          }
        },
        {
          "output_type": "display_data",
          "data": {
            "image/png": "[encoded data removed]",
            "text/plain": [
              "<Figure size 432x288 with 1 Axes>"
            ]
          },
          "metadata": {
            "tags": [],
            "needs_background": "light"
          }
        }
      ]
    },
    {
      "cell_type": "markdown",
      "metadata": {
        "id": "KhvI8XhsdC4f",
        "colab_type": "text"
      },
      "source": [
        "There is a sharp decrease in the scores from a basic or a boosted Random Forest model to a boosted Decision Tree. We can safely say that this approach is not suitable for this problem."
      ]
    },
    {
      "cell_type": "markdown",
      "metadata": {
        "id": "MSnmqVtOCLLs",
        "colab_type": "text"
      },
      "source": [
        "### 10. Analysis of results\n",
        "\n",
        "We need to analyze the all results we have obtained in the notebook above."
      ]
    },
    {
      "cell_type": "code",
      "metadata": {
        "id": "2pxuT3v9FVGC",
        "colab_type": "code",
        "colab": {
          "base_uri": "https://localhost:8080/",
          "height": 151
        },
        "outputId": "894db7bb-a888-481d-a416-d71ecad72106"
      },
      "source": [
        "# f: final\n",
        "f_acc = [accuracy[0], accuracy_cv, accuracy_us[1], accuracy_ar, accuracy_ad]\n",
        "f_pre = [precision[0], precision_cv, precision_us[1], precision_ar, precision_ad]\n",
        "f_rec = [recall[0], recall_cv, recall_us[1], recall_ar, recall_ad]\n",
        "f_auc = [0.95, 0.8, 0.98, 0.96, 0.87]  # obtained from curves\n",
        "f_ap = [0.86, 0.01, 0.98, 0.86, 0.53]   # obtained from curves\n",
        "f_bal = [balanced[0], balanced_cv, balanced_us[1], balanced_ar, balanced_ad]\n",
        "f_f1 = [f1[0], f1_cv, f1_us[1], f1_ar, f1_ad]\n",
        "f_names = ['Accuracy', 'Precision', 'Recall', 'AUC-ROC', 'AUC-PR', 'Balanced accuracy', 'F1 score']\n",
        "f_exp = ['Basic RFC', 'CV 5-fold', 'Undersampled', 'RF AdaBoost', 'AdaBoost DT']\n",
        "\n",
        "print(f_exp)\n",
        "print(\"Accuracy: {}\".format(f_acc))\n",
        "print(\"Precision: {}\".format(f_pre))\n",
        "print(\"Recall: {}\".format(f_rec))\n",
        "print(\"AUC-ROC: {}\".format(f_auc))\n",
        "print(\"AUC-PR: {}\".format(f_ap))\n",
        "print(\"Balanced accuracy: {}\".format(f_bal))\n",
        "print(\"F1: {}\".format(f_f1))"
      ],
      "execution_count": 59,
      "outputs": [
        {
          "output_type": "stream",
          "text": [
            "['Basic RFC', 'CV 5-fold', 'Undersampled', 'RF AdaBoost', 'AdaBoost DT']\n",
            "Accuracy: [0.9996137776061234, 0.8005772330034023, 0.9390862944162437, 0.9995962220427653, 0.9990695551420246]\n",
            "Precision: [0.9523809523809523, 0.006831917316282736, 0.9574468085106383, 0.9411764705882353, 0.7272727272727273]\n",
            "Recall: [0.8163265306122449, 0.7926829268292683, 0.9183673469387755, 0.8163265306122449, 0.7346938775510204]\n",
            "AUC-ROC: [0.95, 0.8, 0.98, 0.96, 0.87]\n",
            "AUC-PR: [0.86, 0.01, 0.98, 0.86, 0.53]\n",
            "Balanced accuracy: [0.908128093668531, 0.7966369103660789, 0.9389816532673676, 0.9081193007591332, 0.867109530221768]\n",
            "F1: [0.8791208791208791, 0.013547076089410701, 0.9375000000000001, 0.8743169398907105, 0.730964467005076]\n"
          ],
          "name": "stdout"
        }
      ]
    },
    {
      "cell_type": "code",
      "metadata": {
        "id": "Dnfx9mn1MLJz",
        "colab_type": "code",
        "colab": {
          "base_uri": "https://localhost:8080/",
          "height": 369
        },
        "outputId": "0a972505-118c-4dff-ff00-75f9914dbad5"
      },
      "source": [
        "# plot for better visualization\n",
        "x = np.arange(len(f_exp))\n",
        "width = 0.1\n",
        "opacity = 0.8\n",
        "\n",
        "# vertical bar graph\n",
        "plt.figure(figsize=(15, 5))\n",
        "bar1 = plt.bar(x, f_acc, width, alpha=opacity, label=f_names[0])\n",
        "bar2 = plt.bar(x+width, f_pre, width, alpha=opacity, label=f_names[1])\n",
        "bar3 = plt.bar(x+(2*width), f_rec, width, alpha=opacity, label=f_names[2])\n",
        "bar4 = plt.bar(x+(3*width), f_auc, width, alpha=opacity, label=f_names[3])\n",
        "bar5 = plt.bar(x+(4*width), f_ap, width, alpha=opacity, label=f_names[4])\n",
        "bar6 = plt.bar(x+(5*width), f_bal, width, alpha=opacity, label=f_names[5])\n",
        "bar7 = plt.bar(x+(6*width), f_f1, width, alpha=opacity, label=f_names[6])\n",
        "\n",
        "plt.xlabel('Experiment')\n",
        "plt.ylabel('Score')\n",
        "plt.title('Experiment vs Scores for Random Forest (all 20% splits)')\n",
        "plt.xticks(x+width, f_exp)\n",
        "plt.legend(bbox_to_anchor=(1.0, 1.0), loc='upper left')\n",
        "\n",
        "plt.tight_layout()\n",
        "plt.show()"
      ],
      "execution_count": 60,
      "outputs": [
        {
          "output_type": "display_data",
          "data": {
            "image/png": "[encoded data removed]",
            "text/plain": [
              "<Figure size 1080x360 with 1 Axes>"
            ]
          },
          "metadata": {
            "tags": [],
            "needs_background": "light"
          }
        }
      ]
    },
    {
      "cell_type": "markdown",
      "metadata": {
        "id": "TH-ewvghdkMo",
        "colab_type": "text"
      },
      "source": [
        "From all the results consolidated above, the ones with 20% train/test split of data made more sense than any other percent splits. Thus we plotted the chart above to better understand what is happening at 20% split with each type of model.\n",
        "\n",
        "It is evident that for this problem, both the basic Random Forest and the boosted Random Forest seem to work optimally when data is split at 80:20."
      ]
    }
  ]
}