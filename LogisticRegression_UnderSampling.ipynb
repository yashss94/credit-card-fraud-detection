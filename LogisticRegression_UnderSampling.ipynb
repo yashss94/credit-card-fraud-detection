{
  "nbformat": 4,
  "nbformat_minor": 0,
  "metadata": {
    "colab": {
      "name": "LogisticRegression-UnderSampling.ipynb",
      "provenance": [],
      "collapsed_sections": []
    },
    "kernelspec": {
      "name": "python3",
      "display_name": "Python 3"
    }
  },
  "cells": [
    {
      "cell_type": "markdown",
      "metadata": {
        "id": "HJ8T4By6AOFK",
        "colab_type": "text"
      },
      "source": [
        "As the dataset is highly imbalanced (492 fraud transactions in approximately 250,000 transactions), we have performed Random Undersampling in which random data from the majority dataset is chosen to match the count of data of the minority class. This might be informative or not. A new Logistic Regression model is trained on the new data set, to analyze and understand the effects of UnderSampling."
      ]
    },
    {
      "cell_type": "code",
      "metadata": {
        "id": "xlSXYQy9zLTw",
        "colab_type": "code",
        "outputId": "dd770e04-354a-44b6-d1c0-53382391b211",
        "colab": {
          "base_uri": "https://localhost:8080/",
          "height": 34
        }
      },
      "source": [
        "#!/usr/bin/env python3\n",
        "# -*- coding: utf-8 -*-\n",
        "\"\"\"\n",
        "Created on Tue Apr 28 09:00:31 2020\n",
        "\n",
        "@author: yash\n",
        "\"\"\"\n",
        "\n",
        "#!/usr/bin/env python3\n",
        "# -*- coding: utf-8 -*-\n",
        "\"\"\"\n",
        "Created on Sat Apr 25 20:36:32 2020\n",
        "\n",
        "@author: yash\n",
        "\"\"\"\n",
        "\n",
        "from sklearn.linear_model import LogisticRegression\n",
        "from sklearn.model_selection import train_test_split\n",
        "from sklearn.metrics import confusion_matrix\n",
        "from sklearn.metrics import balanced_accuracy_score\n",
        "import numpy as np\n",
        "from sklearn.metrics import average_precision_score, precision_score, recall_score, f1_score, accuracy_score, roc_auc_score\n",
        "from sklearn.metrics import precision_recall_curve, roc_curve\n",
        "#from sklearn.metrics import plot_precision_recall_curve\n",
        "import matplotlib.pyplot as plt\n",
        "from sklearn.preprocessing import StandardScaler\n",
        "import pandas as pd\n",
        "from sklearn.metrics import recall_score\n",
        "from sklearn.metrics import classification_report\n",
        "\n",
        "dataset = pd.read_csv('creditcard.csv')\n",
        "\n",
        "No_of_frauds= len(dataset[dataset[\"Class\"]==1])\n",
        "normal_index= dataset[dataset[\"Class\"]==0].index\n",
        "random_normal_indices= np.random.choice(normal_index, No_of_frauds, replace= False)\n",
        "random_normal_indices= np.array(random_normal_indices)\n",
        "\n",
        "fraud_index= np.array(dataset[dataset[\"Class\"]==1].index)\n",
        "\n",
        "undersampled_indices= np.concatenate([fraud_index, random_normal_indices])\n",
        "undersampled_data= dataset.iloc[undersampled_indices, :]\n",
        "\n",
        "\n",
        "X = undersampled_data.iloc[:, 0:30].values\n",
        "Y = undersampled_data.iloc[:, 30].values\n",
        "\n",
        "X_full = dataset.iloc[:, 0:30].values\n",
        "Y_full = dataset.iloc[:, 30].values\n",
        "\n",
        "\n",
        "best_c = 0\n",
        "max_bal_accuracy = 0\n",
        "\n",
        "C_values = [0.05, 0.1, 0.25, 0.5]\n",
        "for c in range(len(C_values)):\n",
        "  X_train, X_test, Y_train, Y_test = train_test_split(X, Y, test_size = 0.25, shuffle=True, random_state = 42,  stratify = None)\n",
        "  #X_full_train, X_full_test, Y_full_train, Y_full_test = train_test_split(X_full, Y_full, test_size = , shuffle=True, random_state = 42,  stratify = None)\n",
        "\n",
        "  sc = StandardScaler()\n",
        "  X_train = sc.fit_transform(X_train)\n",
        "  X_test = sc.transform(X_test)\n",
        "  #X_full_test = sc.transform(X_full_test)\n",
        "\n",
        "  model = LogisticRegression(C = C_values[c])\n",
        "\n",
        "  model.fit(X_train, Y_train)\n",
        "  Y_pred = model.predict(X_test)\n",
        "\n",
        "  bal_accuracy = balanced_accuracy_score(Y_test, Y_pred)\n",
        "  \n",
        "  if bal_accuracy > max_bal_accuracy:\n",
        "    max_bal_accuracy = bal_accuracy\n",
        "    best_c = C_values[c]\n",
        "\n",
        "  \n",
        "\n",
        "print(\"The most optimal value of C is: {}\".format(best_c))\n",
        "  \n",
        "\n",
        "\n",
        "    \n",
        "\n",
        "\n",
        "#disp = plot_precision_recall_curve(model, X_test, Y_test)\n",
        "\n",
        "#disp1 = plot_precision_recall_curve(model,X_full_test, Y_full_test)\n",
        "\n",
        "\n"
      ],
      "execution_count": 0,
      "outputs": [
        {
          "output_type": "stream",
          "text": [
            "The most optimal value of C is: 0.1\n"
          ],
          "name": "stdout"
        }
      ]
    },
    {
      "cell_type": "markdown",
      "metadata": {
        "id": "jHUoxptP13Qu",
        "colab_type": "text"
      },
      "source": [
        "C is the regularization parameter. Like we have studied in SVM's, the low values of C support better accuracy of the models as it helps with the overfitting problem in a model. Hence, to choose the best value of C, models were trained on different values of C. The value was chosen on the basis of the highest balanced accuracy acheived by that model. \n",
        "\n",
        "\n",
        "We will now see the behaviour of the recall scores with different splits in the training and testing data with value of C as 0.25."
      ]
    },
    {
      "cell_type": "code",
      "metadata": {
        "id": "jx5atnrH6iv1",
        "colab_type": "code",
        "outputId": "93126f1e-d0dd-4ab3-d0f1-aeaa0520d1c2",
        "colab": {
          "base_uri": "https://localhost:8080/",
          "height": 1000
        }
      },
      "source": [
        "import datetime as dt\n",
        "\n",
        "train_time = []\n",
        "test_time = []\n",
        "accuracy = []\n",
        "precision = []\n",
        "recall = []\n",
        "auc = []\n",
        "balanced = []\n",
        "f1 = []\n",
        "splits = []\n",
        "models = []\n",
        "roc = []\n",
        "pr = []\n",
        "conf_mat = []\n",
        "\n",
        "# for each split percent\n",
        "for split in range(10, 51, 10):\n",
        "    splits.append(split)\n",
        "    X_train, X_test, Y_train, Y_test = train_test_split(X, Y, test_size=split/100, random_state=42, stratify=Y)\n",
        "    # train\n",
        "    start1 = dt.datetime.now()\n",
        "    model = LogisticRegression(max_iter = 500, C = best_c)\n",
        "    model.fit(X_train, Y_train)\n",
        "    models.append(model)\n",
        "    end1 = dt.datetime.now()\n",
        "    # test\n",
        "    start2 = dt.datetime.now()\n",
        "    Y_pred = model.predict(X_test)\n",
        "    print(classification_report(Y_test, Y_pred))\n",
        "    fpr, tpr, _ = roc_curve(Y_test, Y_pred)\n",
        "    roc.append([tpr, fpr])  # for roc curve\n",
        "    p, r, _ = precision_recall_curve(Y_test, Y_pred)\n",
        "    pr.append([p, r])   # for pr curve\n",
        "    cfm = confusion_matrix(Y_test, Y_pred)\n",
        "    print(cfm)\n",
        "    print(\"----------\")\n",
        "    conf_mat.append(cfm)   # for confusion matrix later\n",
        "    end2 = dt.datetime.now()\n",
        "    # score\n",
        "    train_time.append(end1 - start1)\n",
        "    test_time.append(end2 - start2)\n",
        "    accuracy.append(accuracy_score(Y_test, Y_pred))\n",
        "    precision.append(precision_score(Y_test, Y_pred))\n",
        "    recall.append(recall_score(Y_test, Y_pred))\n",
        "    auc.append(roc_auc_score(Y_test, Y_pred))\n",
        "    balanced.append(balanced_accuracy_score(Y_test, Y_pred))\n",
        "    f1.append(f1_score(Y_test, Y_pred))\n",
        "\n",
        "for i in range(len(train_time)):\n",
        "  print(\"----------\")\n",
        "  print(\"Logsitic Regression at {}% split:\".format(splits[i]))\n",
        "  # print(\"Time taken to train = {}\".format(train_time[i]))\n",
        "  # print(\"Time taken to test = {}\".format(test_time[i]))\n",
        "  print(\"Accuracy score = {}\".format(accuracy[i]))\n",
        "  print(\"Precision score = {}\".format(precision[i]))\n",
        "  print(\"Recall score = {}\".format(recall[i]))\n",
        "  print(\"AUC_ROC score = {}\".format(auc[i]))\n",
        "  print(\"Balanced accuracy score = {}\".format(balanced[i]))\n",
        "  print(\"F1 score = {}\".format(f1[i]))\n"
      ],
      "execution_count": 0,
      "outputs": [
        {
          "output_type": "stream",
          "text": [
            "              precision    recall  f1-score   support\n",
            "\n",
            "           0       0.91      0.98      0.94        50\n",
            "           1       0.98      0.90      0.94        49\n",
            "\n",
            "    accuracy                           0.94        99\n",
            "   macro avg       0.94      0.94      0.94        99\n",
            "weighted avg       0.94      0.94      0.94        99\n",
            "\n",
            "[[49  1]\n",
            " [ 5 44]]\n",
            "----------\n",
            "              precision    recall  f1-score   support\n",
            "\n",
            "           0       0.93      0.95      0.94        99\n",
            "           1       0.95      0.93      0.94        98\n",
            "\n",
            "    accuracy                           0.94       197\n",
            "   macro avg       0.94      0.94      0.94       197\n",
            "weighted avg       0.94      0.94      0.94       197\n",
            "\n",
            "[[94  5]\n",
            " [ 7 91]]\n",
            "----------\n",
            "              precision    recall  f1-score   support\n",
            "\n",
            "           0       0.92      0.93      0.92       148\n",
            "           1       0.93      0.92      0.92       148\n",
            "\n",
            "    accuracy                           0.92       296\n",
            "   macro avg       0.92      0.92      0.92       296\n",
            "weighted avg       0.92      0.92      0.92       296\n",
            "\n",
            "[[137  11]\n",
            " [ 12 136]]\n",
            "----------\n",
            "              precision    recall  f1-score   support\n",
            "\n",
            "           0       0.90      0.96      0.93       197\n",
            "           1       0.96      0.89      0.92       197\n",
            "\n",
            "    accuracy                           0.92       394\n",
            "   macro avg       0.93      0.92      0.92       394\n",
            "weighted avg       0.93      0.92      0.92       394\n",
            "\n",
            "[[189   8]\n",
            " [ 22 175]]\n",
            "----------\n",
            "              precision    recall  f1-score   support\n",
            "\n",
            "           0       0.91      0.95      0.93       246\n",
            "           1       0.94      0.90      0.92       246\n",
            "\n",
            "    accuracy                           0.92       492\n",
            "   macro avg       0.93      0.92      0.92       492\n",
            "weighted avg       0.93      0.92      0.92       492\n",
            "\n",
            "[[233  13]\n",
            " [ 24 222]]\n",
            "----------\n",
            "----------\n",
            "Logsitic Regression at 10% split:\n",
            "Accuracy score = 0.9393939393939394\n",
            "Precision score = 0.9777777777777777\n",
            "Recall score = 0.8979591836734694\n",
            "AUC_ROC score = 0.9389795918367347\n",
            "Balanced accuracy score = 0.9389795918367347\n",
            "F1 score = 0.9361702127659575\n",
            "----------\n",
            "Logsitic Regression at 20% split:\n",
            "Accuracy score = 0.9390862944162437\n",
            "Precision score = 0.9479166666666666\n",
            "Recall score = 0.9285714285714286\n",
            "AUC_ROC score = 0.9390331890331891\n",
            "Balanced accuracy score = 0.9390331890331891\n",
            "F1 score = 0.9381443298969072\n",
            "----------\n",
            "Logsitic Regression at 30% split:\n",
            "Accuracy score = 0.9222972972972973\n",
            "Precision score = 0.9251700680272109\n",
            "Recall score = 0.918918918918919\n",
            "AUC_ROC score = 0.9222972972972973\n",
            "Balanced accuracy score = 0.9222972972972974\n",
            "F1 score = 0.9220338983050848\n",
            "----------\n",
            "Logsitic Regression at 40% split:\n",
            "Accuracy score = 0.9238578680203046\n",
            "Precision score = 0.9562841530054644\n",
            "Recall score = 0.8883248730964467\n",
            "AUC_ROC score = 0.9238578680203046\n",
            "Balanced accuracy score = 0.9238578680203046\n",
            "F1 score = 0.9210526315789473\n",
            "----------\n",
            "Logsitic Regression at 50% split:\n",
            "Accuracy score = 0.9247967479674797\n",
            "Precision score = 0.9446808510638298\n",
            "Recall score = 0.9024390243902439\n",
            "AUC_ROC score = 0.9247967479674796\n",
            "Balanced accuracy score = 0.9247967479674797\n",
            "F1 score = 0.9230769230769231\n"
          ],
          "name": "stdout"
        }
      ]
    },
    {
      "cell_type": "markdown",
      "metadata": {
        "id": "r1IOqXLG7XNt",
        "colab_type": "text"
      },
      "source": [
        "The main goal of our model is to detect fradulent transactions. This means, we have to focus more on recall as it will define the ability of the model to correctly classify fradulent transactions.\n",
        "\n",
        "As we can see from the above results, the recall scores are good. We will create a bar graph to ascertain the best data split for Logistic Regression."
      ]
    },
    {
      "cell_type": "code",
      "metadata": {
        "id": "CdJ5MsO78SWc",
        "colab_type": "code",
        "outputId": "47e09097-6d0c-4eeb-c484-eacd8a518f2a",
        "colab": {
          "base_uri": "https://localhost:8080/",
          "height": 312
        }
      },
      "source": [
        "x = np.arange(len(splits))\n",
        "width = 0.1\n",
        "opacity = 0.8\n",
        "# fig, ax = plt.subplots()\n",
        "\n",
        "# vertical bar graph\n",
        "plt.figure(figsize=(15, 5))\n",
        "bar1 = plt.bar(x, accuracy, width, alpha=opacity, label='Accuracy')\n",
        "bar2 = plt.bar(x+width, precision, width, alpha=opacity, label='Precision')\n",
        "bar3 = plt.bar(x+(2*width), recall, width, alpha=opacity, label='Recall')\n",
        "bar4 = plt.bar(x+(3*width), auc, width, alpha=opacity, label='AUC-ROC')\n",
        "bar5 = plt.bar(x+(4*width), balanced, width, alpha=opacity, label='Balanced accuracy')\n",
        "bar5 = plt.bar(x+(5*width), f1, width, alpha=opacity, label='F1 score')\n",
        "\n",
        "plt.xlabel('Split %')\n",
        "plt.ylabel('Scores')\n",
        "plt.title('Scores vs Splits for Logistic Regression UnderSampled')\n",
        "plt.xticks(x+width, splits)\n",
        "plt.legend(bbox_to_anchor=(1.0, 1.0), loc='upper left')\n",
        "\n",
        "plt.tight_layout()\n",
        "plt.show()"
      ],
      "execution_count": 0,
      "outputs": [
        {
          "output_type": "display_data",
          "data": {
            "image/png": "[encoded data removed]",
            "text/plain": [
              "<Figure size 1080x360 with 1 Axes>"
            ]
          },
          "metadata": {
            "tags": [],
            "needs_background": "light"
          }
        }
      ]
    },
    {
      "cell_type": "markdown",
      "metadata": {
        "id": "JaiEgp29BTy5",
        "colab_type": "text"
      },
      "source": [
        "The Undersampled data shows almost identical results for the data split. However, the 20% split looks to be the most optimum. Hence, we will plot the ROC and PR curves and check the AUCs to understand the strength of the prediction."
      ]
    },
    {
      "cell_type": "code",
      "metadata": {
        "id": "SbLJ1csOBqzi",
        "colab_type": "code",
        "outputId": "4cf48dec-c322-4425-a010-720baffdff4b",
        "colab": {
          "base_uri": "https://localhost:8080/",
          "height": 541
        }
      },
      "source": [
        "from sklearn.metrics import plot_roc_curve, plot_precision_recall_curve\n",
        "\n",
        "X_train, X_test, Y_train, Y_test = train_test_split(X, Y, test_size=0.2, shuffle = True, random_state=42, stratify=None)\n",
        "plot_roc_curve(models[0], X_test, Y_test, name='ROC Curve for LR-UdSampld with 20% split')\n",
        "plt.show()\n",
        "\n",
        "# pr curve\n",
        "X_train, X_test, Y_train, Y_test = train_test_split(X, Y, test_size=0.2, shuffle = True, random_state=42, stratify=None)\n",
        "# models[0].fit(X_train, Y_train)\n",
        "plot_precision_recall_curve(models[0], X_test, Y_test, name='PR Curve for LR-UdSampld model with 10% split')\n",
        "plt.show()"
      ],
      "execution_count": 0,
      "outputs": [
        {
          "output_type": "display_data",
          "data": {
            "image/png": "[encoded data removed]",
            "text/plain": [
              "<Figure size 432x288 with 1 Axes>"
            ]
          },
          "metadata": {
            "tags": [],
            "needs_background": "light"
          }
        },
        {
          "output_type": "display_data",
          "data": {
            "image/png": "[encoded data removed]",
            "text/plain": [
              "<Figure size 432x288 with 1 Axes>"
            ]
          },
          "metadata": {
            "tags": [],
            "needs_background": "light"
          }
        }
      ]
    },
    {
      "cell_type": "markdown",
      "metadata": {
        "id": "1qT2OyvGCo_v",
        "colab_type": "text"
      },
      "source": [
        "As we can see, the PR Curve shows that the AUC is 0.98 which is a very good result. Hence, now we will test this trained model for the whole data."
      ]
    },
    {
      "cell_type": "code",
      "metadata": {
        "id": "g-PGz7UYC984",
        "colab_type": "code",
        "outputId": "ca8d7290-10fe-41d7-c11d-25f874505de1",
        "colab": {
          "base_uri": "https://localhost:8080/",
          "height": 374
        }
      },
      "source": [
        "splits.append(split)\n",
        "X_full_train, X_full_test, Y_full_train, Y_full_test = train_test_split(X_full, Y_full, test_size=0.2, shuffle = True, random_state=42, stratify=None)\n",
        "# train\n",
        "sc = StandardScaler()\n",
        "X_full_train = sc.fit_transform(X_full_train)\n",
        "X__full_test = sc.transform(X_full_test)\n",
        "Y_full_pred = model.predict(X_full_test)\n",
        "print(classification_report(Y_full_test, Y_full_pred))\n",
        "fpr, tpr, _ = roc_curve(Y_full_test, Y_full_pred)\n",
        "p, r, _ = precision_recall_curve(Y_full_test, Y_full_pred)\n",
        "cfm = confusion_matrix(Y_full_test, Y_full_pred)\n",
        "acc = accuracy_score(Y_full_test, Y_full_pred)\n",
        "prec_score = precision_score(Y_full_test, Y_full_pred)\n",
        "recall_scr = recall_score(Y_full_test, Y_full_pred)\n",
        "roc_scr = roc_auc_score(Y_full_test, Y_full_pred)\n",
        "bal_acry = balanced_accuracy_score(Y_full_test, Y_full_pred)\n",
        "f1_scry = f1_score(Y_full_test, Y_full_pred)\n",
        "\n",
        "print(\"----------\")\n",
        "\n",
        "\n",
        "print(\"Confusion Matrix for test on whole data:\")\n",
        "print(cfm)\n",
        "    \n",
        "print(\"----------\")\n",
        "print(\"Logistic Regression scores for test on whole data:\")\n",
        "print(\"Accuracy score = {}\".format(acc))\n",
        "print(\"Precision score = {}\".format(prec_score))\n",
        "print(\"Recall score = {}\".format(recall_scr))\n",
        "print(\"AUC_ROC score = {}\".format(roc_scr))\n",
        "print(\"Balanced accuracy score = {}\".format(bal_acry))\n",
        "print(\"F1 score = {}\".format(f1_scry))"
      ],
      "execution_count": 0,
      "outputs": [
        {
          "output_type": "stream",
          "text": [
            "              precision    recall  f1-score   support\n",
            "\n",
            "           0       1.00      0.95      0.98     56864\n",
            "           1       0.03      0.93      0.07        98\n",
            "\n",
            "    accuracy                           0.95     56962\n",
            "   macro avg       0.52      0.94      0.52     56962\n",
            "weighted avg       1.00      0.95      0.98     56962\n",
            "\n",
            "----------\n",
            "Confusion Matrix for test on whole data:\n",
            "[[54272  2592]\n",
            " [    7    91]]\n",
            "----------\n",
            "Logistic Regression scores for test on whole data:\n",
            "Accuracy score = 0.9543730908324848\n",
            "Precision score = 0.033917256802087216\n",
            "Recall score = 0.9285714285714286\n",
            "AUC_ROC score = 0.941494493126457\n",
            "Balanced accuracy score = 0.941494493126457\n",
            "F1 score = 0.06544408486156059\n"
          ],
          "name": "stdout"
        }
      ]
    },
    {
      "cell_type": "markdown",
      "metadata": {
        "id": "32B_2rn4Fqyq",
        "colab_type": "text"
      },
      "source": [
        "From the above results, we find that\n",
        "\n",
        "*   The balanced accuracy scores as well as the recall scores are pretty similar to the test scores for the undersampled data.\n",
        "*   This means that the model shows promising results for a larger set of data too and is not over fitted.\n",
        "*   Another key observation is that the precision score for the test on full data is pretty low. But we can overlook this as the model's aim is to classify fraud transactions. \n",
        "*   This low score means we will have some legit transactions getting misclassified as fradulent. But this is better than classifying a fradulent transaction as legit.\n",
        "\n",
        "\n",
        "We will plot the ROC and PR curves for this test.\n",
        "\n",
        "\n",
        "\n"
      ]
    },
    {
      "cell_type": "code",
      "metadata": {
        "id": "Op3YxsvCG3iK",
        "colab_type": "code",
        "outputId": "ead9c07c-ecd6-4264-aaf2-8df38c321584",
        "colab": {
          "base_uri": "https://localhost:8080/",
          "height": 541
        }
      },
      "source": [
        "X_full_train, X_full_test, Y_full_train, Y_full_test = train_test_split(X_full, Y_full, test_size=0.2, shuffle = True, random_state=42, stratify=None)\n",
        "plot_roc_curve(model, X_full_test, Y_full_test, name='ROC Curve for LR-UdSampld with 20% split')\n",
        "plt.show()\n",
        "\n",
        "# pr curve\n",
        "X_full_train, X_full_test, Y_full_train, Y_full_test = train_test_split(X_full, Y_full, test_size=0.2, shuffle = True, random_state=42, stratify=None)\n",
        "# models[0].fit(X_train, Y_train)\n",
        "plot_precision_recall_curve(model, X_full_test, Y_full_test, name='PR Curve for LR-UdSampld with 10% split')\n",
        "plt.show()"
      ],
      "execution_count": 0,
      "outputs": [
        {
          "output_type": "display_data",
          "data": {
            "image/png": "[encoded data removed]",
            "text/plain": [
              "<Figure size 432x288 with 1 Axes>"
            ]
          },
          "metadata": {
            "tags": [],
            "needs_background": "light"
          }
        },
        {
          "output_type": "display_data",
          "data": {
            "image/png": "[encoded data removed]",
            "text/plain": [
              "<Figure size 432x288 with 1 Axes>"
            ]
          },
          "metadata": {
            "tags": [],
            "needs_background": "light"
          }
        }
      ]
    }
  ]
}