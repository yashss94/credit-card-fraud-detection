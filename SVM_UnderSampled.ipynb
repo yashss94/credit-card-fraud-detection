{
  "nbformat": 4,
  "nbformat_minor": 0,
  "metadata": {
    "colab": {
      "name": "SVM-UnderSampled.ipynb",
      "provenance": [],
      "collapsed_sections": []
    },
    "kernelspec": {
      "name": "python3",
      "display_name": "Python 3"
    }
  },
  "cells": [
    {
      "cell_type": "code",
      "metadata": {
        "id": "N3jo1SwtwvGm",
        "colab_type": "code",
        "outputId": "f1a746df-5b6e-4a06-9219-cc4c9c63bb55",
        "colab": {
          "base_uri": "https://localhost:8080/",
          "height": 119
        }
      },
      "source": [
        "#!/usr/bin/env python3\n",
        "# -*- coding: utf-8 -*-\n",
        "\"\"\"\n",
        "Created on Tue Apr 28 09:00:31 2020\n",
        "\n",
        "@author: yash\n",
        "\"\"\"\n",
        "\n",
        "#!/usr/bin/env python3\n",
        "# -*- coding: utf-8 -*-\n",
        "\"\"\"\n",
        "Created on Sat Apr 25 20:36:32 2020\n",
        "\n",
        "@author: yash\n",
        "\"\"\"\n",
        "\n",
        "from sklearn.svm import SVC\n",
        "from sklearn.model_selection import train_test_split\n",
        "from sklearn.metrics import confusion_matrix\n",
        "from sklearn.metrics import balanced_accuracy_score\n",
        "import numpy as np\n",
        "from sklearn.metrics import average_precision_score, precision_score, recall_score, f1_score, accuracy_score, roc_auc_score\n",
        "from sklearn.metrics import precision_recall_curve, roc_curve\n",
        "#from sklearn.metrics import plot_precision_recall_curve\n",
        "import matplotlib.pyplot as plt\n",
        "from sklearn.preprocessing import StandardScaler\n",
        "import pandas as pd\n",
        "from sklearn.metrics import recall_score\n",
        "from sklearn.metrics import classification_report\n",
        "\n",
        "dataset = pd.read_csv('creditcard.csv')\n",
        "\n",
        "No_of_frauds= len(dataset[dataset[\"Class\"]==1])\n",
        "normal_index= dataset[dataset[\"Class\"]==0].index\n",
        "random_normal_indices= np.random.choice(normal_index, No_of_frauds, replace= False)\n",
        "random_normal_indices= np.array(random_normal_indices)\n",
        "\n",
        "fraud_index= np.array(dataset[dataset[\"Class\"]==1].index)\n",
        "\n",
        "undersampled_indices= np.concatenate([fraud_index, random_normal_indices])\n",
        "undersampled_data= dataset.iloc[undersampled_indices, :]\n",
        "\n",
        "\n",
        "X = undersampled_data.iloc[:, 0:30].values\n",
        "Y = undersampled_data.iloc[:, 30].values\n",
        "\n",
        "X_full = dataset.iloc[:, 0:30].values\n",
        "Y_full = dataset.iloc[:, 30].values\n",
        "\n",
        "\n",
        "best_c = 0\n",
        "max_bal_accuracy = 0\n",
        "\n",
        "C_values = [0.05, 0.1, 0.25, 0.5]\n",
        "for c in range(len(C_values)):\n",
        "  X_train, X_test, Y_train, Y_test = train_test_split(X, Y, test_size = 0.25, shuffle=True, random_state = 42,  stratify = None)\n",
        "  #X_full_train, X_full_test, Y_full_train, Y_full_test = train_test_split(X_full, Y_full, test_size = , shuffle=True, random_state = 42,  stratify = None)\n",
        "\n",
        "  sc = StandardScaler()\n",
        "  X_train = sc.fit_transform(X_train)\n",
        "  X_test = sc.transform(X_test)\n",
        "  #X_full_test = sc.transform(X_full_test)\n",
        "\n",
        "  model = SVC(C = C_values[c], kernel = 'linear')\n",
        "\n",
        "  model.fit(X_train, Y_train)\n",
        "  Y_pred = model.predict(X_test)\n",
        "\n",
        "  bal_accuracy = balanced_accuracy_score(Y_test, Y_pred)\n",
        "  \n",
        "  if bal_accuracy > max_bal_accuracy:\n",
        "    max_bal_accuracy = bal_accuracy\n",
        "    best_c = C_values[c]\n",
        "\n",
        "print(\"With Linear Kernel\") \n",
        "print(\"The maximum balanced accuracy acheived is: {}\".format(max_bal_accuracy))\n",
        "print(\"The most optimal value of C is: {}\".format(best_c))\n",
        "  \n",
        "best_c = 0\n",
        "max_bal_accuracy = 0\n",
        "C_values = [0.05, 0.1, 0.25, 0.5]\n",
        "for c in range(len(C_values)):\n",
        "  X_train, X_test, Y_train, Y_test = train_test_split(X, Y, test_size = 0.25, shuffle=True, random_state = 42,  stratify = None)\n",
        "  #X_full_train, X_full_test, Y_full_train, Y_full_test = train_test_split(X_full, Y_full, test_size = , shuffle=True, random_state = 42,  stratify = None)\n",
        "\n",
        "  sc = StandardScaler()\n",
        "  X_train = sc.fit_transform(X_train)\n",
        "  X_test = sc.transform(X_test)\n",
        "  #X_full_test = sc.transform(X_full_test)\n",
        "\n",
        "  model = SVC(C = C_values[c], kernel = 'rbf')\n",
        "\n",
        "  model.fit(X_train, Y_train)\n",
        "  Y_pred = model.predict(X_test)\n",
        "  \n",
        "  bal_accuracy = balanced_accuracy_score(Y_test, Y_pred)\n",
        "  \n",
        "  if bal_accuracy > max_bal_accuracy:\n",
        "    max_bal_accuracy = bal_accuracy\n",
        "    best_c = C_values[c]\n",
        "\n",
        "print(\"With RBF Kernel\") \n",
        "print(\"The maximum balanced accuracy acheived is: {}\".format(max_bal_accuracy))\n",
        "print(\"The most optimal value of C is: {}\".format(best_c))\n",
        "\n",
        "#disp = plot_precision_recall_curve(model, X_test, Y_test)\n",
        "\n",
        "#disp1 = plot_precision_recall_curve(model,X_full_test, Y_full_test)\n",
        "\n",
        "\n"
      ],
      "execution_count": 0,
      "outputs": [
        {
          "output_type": "stream",
          "text": [
            "With Linear Kernel\n",
            "The maximum balanced accuracy acheived is: 0.9359126984126984\n",
            "The most optimal value of C is: 0.5\n",
            "With RBF Kernel\n",
            "The maximum balanced accuracy acheived is: 0.9200396825396826\n",
            "The most optimal value of C is: 0.5\n"
          ],
          "name": "stdout"
        }
      ]
    },
    {
      "cell_type": "markdown",
      "metadata": {
        "id": "2AraSA7LW8R0",
        "colab_type": "text"
      },
      "source": [
        "Based on the above results, the models will be trained on the acheived best parameters.\n",
        "We will now check for the optimum split of data and their balanced accuracies."
      ]
    },
    {
      "cell_type": "code",
      "metadata": {
        "id": "CCL46WRwXZTE",
        "colab_type": "code",
        "outputId": "f7663053-016b-4a13-acd9-95467bab1bbd",
        "colab": {
          "base_uri": "https://localhost:8080/",
          "height": 1000
        }
      },
      "source": [
        "import datetime as dt\n",
        "train_time = []\n",
        "test_time = []\n",
        "accuracy = []\n",
        "precision = []\n",
        "recall = []\n",
        "auc = []\n",
        "balanced = []\n",
        "f1 = []\n",
        "splits = []\n",
        "models = []\n",
        "roc = []\n",
        "pr = []\n",
        "conf_mat = []\n",
        "\n",
        "# for each split percent\n",
        "for split in range(10, 51, 10):\n",
        "    splits.append(split)\n",
        "    X_train, X_test, Y_train, Y_test = train_test_split(X, Y, test_size=split/100, random_state=42, stratify=Y)\n",
        "    # train\n",
        "    start1 = dt.datetime.now()\n",
        "    model = SVC(C= best_c, kernel = 'linear')\n",
        "    model.fit(X_train, Y_train)\n",
        "    models.append(model)\n",
        "    end1 = dt.datetime.now()\n",
        "    # test\n",
        "    start2 = dt.datetime.now()\n",
        "    Y_pred = model.predict(X_test)\n",
        "    print(classification_report(Y_test, Y_pred))\n",
        "    fpr, tpr, _ = roc_curve(Y_test, Y_pred)\n",
        "    roc.append([tpr, fpr])  # for roc curve\n",
        "    p, r, _ = precision_recall_curve(Y_test, Y_pred)\n",
        "    pr.append([p, r])   # for pr curve\n",
        "    cfm = confusion_matrix(Y_test, Y_pred)\n",
        "    print(cfm)\n",
        "    print(\"----------\")\n",
        "    conf_mat.append(cfm)   # for confusion matrix later\n",
        "    end2 = dt.datetime.now()\n",
        "    # score\n",
        "    train_time.append(end1 - start1)\n",
        "    test_time.append(end2 - start2)\n",
        "    accuracy.append(accuracy_score(Y_test, Y_pred))\n",
        "    precision.append(precision_score(Y_test, Y_pred))\n",
        "    recall.append(recall_score(Y_test, Y_pred))\n",
        "    auc.append(roc_auc_score(Y_test, Y_pred))\n",
        "    balanced.append(balanced_accuracy_score(Y_test, Y_pred))\n",
        "    f1.append(f1_score(Y_test, Y_pred))\n",
        "\n",
        "for i in range(len(train_time)):\n",
        "  print(\"----------\")\n",
        "  print(\"SVM CLassifier at {}% split:\".format(splits[i]))\n",
        "  # print(\"Time taken to train = {}\".format(train_time[i]))\n",
        "  # print(\"Time taken to test = {}\".format(test_time[i]))\n",
        "  print(\"Accuracy score = {}\".format(accuracy[i]))\n",
        "  print(\"Precision score = {}\".format(precision[i]))\n",
        "  print(\"Recall score = {}\".format(recall[i]))\n",
        "  print(\"AUC_ROC score = {}\".format(auc[i]))\n",
        "  print(\"Balanced accuracy score = {}\".format(balanced[i]))\n",
        "  print(\"F1 score = {}\".format(f1[i]))"
      ],
      "execution_count": 0,
      "outputs": [
        {
          "output_type": "stream",
          "text": [
            "              precision    recall  f1-score   support\n",
            "\n",
            "           0       0.83      1.00      0.91        50\n",
            "           1       1.00      0.80      0.89        49\n",
            "\n",
            "    accuracy                           0.90        99\n",
            "   macro avg       0.92      0.90      0.90        99\n",
            "weighted avg       0.92      0.90      0.90        99\n",
            "\n",
            "[[50  0]\n",
            " [10 39]]\n",
            "----------\n",
            "              precision    recall  f1-score   support\n",
            "\n",
            "           0       0.86      0.99      0.92        99\n",
            "           1       0.99      0.84      0.91        98\n",
            "\n",
            "    accuracy                           0.91       197\n",
            "   macro avg       0.92      0.91      0.91       197\n",
            "weighted avg       0.92      0.91      0.91       197\n",
            "\n",
            "[[98  1]\n",
            " [16 82]]\n",
            "----------\n",
            "              precision    recall  f1-score   support\n",
            "\n",
            "           0       0.83      0.99      0.90       148\n",
            "           1       0.98      0.80      0.88       148\n",
            "\n",
            "    accuracy                           0.90       296\n",
            "   macro avg       0.91      0.90      0.89       296\n",
            "weighted avg       0.91      0.90      0.89       296\n",
            "\n",
            "[[146   2]\n",
            " [ 29 119]]\n",
            "----------\n",
            "              precision    recall  f1-score   support\n",
            "\n",
            "           0       0.84      0.98      0.91       197\n",
            "           1       0.98      0.81      0.89       197\n",
            "\n",
            "    accuracy                           0.90       394\n",
            "   macro avg       0.91      0.90      0.90       394\n",
            "weighted avg       0.91      0.90      0.90       394\n",
            "\n",
            "[[194   3]\n",
            " [ 37 160]]\n",
            "----------\n",
            "              precision    recall  f1-score   support\n",
            "\n",
            "           0       0.82      0.99      0.90       246\n",
            "           1       0.98      0.78      0.87       246\n",
            "\n",
            "    accuracy                           0.89       492\n",
            "   macro avg       0.90      0.89      0.88       492\n",
            "weighted avg       0.90      0.89      0.88       492\n",
            "\n",
            "[[243   3]\n",
            " [ 53 193]]\n",
            "----------\n",
            "----------\n",
            "SVM CLassifier at 10% split:\n",
            "Accuracy score = 0.898989898989899\n",
            "Precision score = 1.0\n",
            "Recall score = 0.7959183673469388\n",
            "AUC_ROC score = 0.8979591836734694\n",
            "Balanced accuracy score = 0.8979591836734694\n",
            "F1 score = 0.8863636363636364\n",
            "----------\n",
            "SVM CLassifier at 20% split:\n",
            "Accuracy score = 0.9137055837563451\n",
            "Precision score = 0.9879518072289156\n",
            "Recall score = 0.8367346938775511\n",
            "AUC_ROC score = 0.9133168418882706\n",
            "Balanced accuracy score = 0.9133168418882704\n",
            "F1 score = 0.9060773480662982\n",
            "----------\n",
            "SVM CLassifier at 30% split:\n",
            "Accuracy score = 0.8952702702702703\n",
            "Precision score = 0.9834710743801653\n",
            "Recall score = 0.8040540540540541\n",
            "AUC_ROC score = 0.8952702702702702\n",
            "Balanced accuracy score = 0.8952702702702703\n",
            "F1 score = 0.8847583643122677\n",
            "----------\n",
            "SVM CLassifier at 40% split:\n",
            "Accuracy score = 0.8984771573604061\n",
            "Precision score = 0.9815950920245399\n",
            "Recall score = 0.8121827411167513\n",
            "AUC_ROC score = 0.898477157360406\n",
            "Balanced accuracy score = 0.898477157360406\n",
            "F1 score = 0.888888888888889\n",
            "----------\n",
            "SVM CLassifier at 50% split:\n",
            "Accuracy score = 0.8861788617886179\n",
            "Precision score = 0.9846938775510204\n",
            "Recall score = 0.7845528455284553\n",
            "AUC_ROC score = 0.8861788617886179\n",
            "Balanced accuracy score = 0.8861788617886179\n",
            "F1 score = 0.8733031674208145\n"
          ],
          "name": "stdout"
        }
      ]
    },
    {
      "cell_type": "code",
      "metadata": {
        "id": "5LidLcnYcFDz",
        "colab_type": "code",
        "outputId": "b04b6f13-09a9-4dcc-823c-a4d81beee032",
        "colab": {
          "base_uri": "https://localhost:8080/",
          "height": 312
        }
      },
      "source": [
        "x = np.arange(len(splits))\n",
        "width = 0.1\n",
        "opacity = 0.8\n",
        "# fig, ax = plt.subplots()\n",
        "\n",
        "# vertical bar graph\n",
        "plt.figure(figsize=(15, 5))\n",
        "bar1 = plt.bar(x, accuracy, width, alpha=opacity, label='Accuracy')\n",
        "bar2 = plt.bar(x+width, precision, width, alpha=opacity, label='Precision')\n",
        "bar3 = plt.bar(x+(2*width), recall, width, alpha=opacity, label='Recall')\n",
        "bar4 = plt.bar(x+(3*width), auc, width, alpha=opacity, label='AUC-ROC')\n",
        "bar5 = plt.bar(x+(4*width), balanced, width, alpha=opacity, label='Balanced accuracy')\n",
        "bar5 = plt.bar(x+(5*width), f1, width, alpha=opacity, label='F1 score')\n",
        "\n",
        "plt.xlabel('Split %')\n",
        "plt.ylabel('Scores')\n",
        "plt.title('Scores vs Splits for SVM UnderSampled Data')\n",
        "plt.xticks(x+width, splits)\n",
        "plt.legend(bbox_to_anchor=(1.0, 1.0), loc='upper left')\n",
        "\n",
        "plt.tight_layout()\n",
        "plt.show()"
      ],
      "execution_count": 0,
      "outputs": [
        {
          "output_type": "display_data",
          "data": {
            "image/png": "[encoded data removed]",
            "text/plain": [
              "<Figure size 1080x360 with 1 Axes>"
            ]
          },
          "metadata": {
            "tags": [],
            "needs_background": "light"
          }
        }
      ]
    },
    {
      "cell_type": "markdown",
      "metadata": {
        "id": "bTs-3J6JbKL-",
        "colab_type": "text"
      },
      "source": [
        "As the results are good, that is, high balanced accuracy and recall without any overfitting signs, we will plot the ROC and PR curves for this model at the split with highest balanced accuracy of data."
      ]
    },
    {
      "cell_type": "code",
      "metadata": {
        "id": "HyjWDFX0j5Fr",
        "colab_type": "code",
        "outputId": "61ac5359-296d-4c0c-d976-67b15121f27e",
        "colab": {
          "base_uri": "https://localhost:8080/",
          "height": 541
        }
      },
      "source": [
        "from sklearn.metrics import plot_roc_curve, plot_precision_recall_curve\n",
        "\n",
        "X_train, X_test, Y_train, Y_test = train_test_split(X, Y, test_size=0.25, shuffle = True, random_state=42, stratify=None)\n",
        "plot_roc_curve(models[0], X_test, Y_test, name='ROC Curve for SVM-UdSampld with 20% split')\n",
        "plt.show()\n",
        "\n",
        "# pr curve\n",
        "X_train, X_test, Y_train, Y_test = train_test_split(X, Y, test_size=0.25, shuffle = True, random_state=42, stratify=None)\n",
        "# models[0].fit(X_train, Y_train)\n",
        "plot_precision_recall_curve(models[0], X_test, Y_test, name='PR Curve for SVM-UdSampld model with 20% split')\n",
        "plt.show()"
      ],
      "execution_count": 0,
      "outputs": [
        {
          "output_type": "display_data",
          "data": {
            "image/png": "[encoded data removed]",
            "text/plain": [
              "<Figure size 432x288 with 1 Axes>"
            ]
          },
          "metadata": {
            "tags": [],
            "needs_background": "light"
          }
        },
        {
          "output_type": "display_data",
          "data": {
            "image/png": "[encoded data removed]",
            "text/plain": [
              "<Figure size 432x288 with 1 Axes>"
            ]
          },
          "metadata": {
            "tags": [],
            "needs_background": "light"
          }
        }
      ]
    },
    {
      "cell_type": "markdown",
      "metadata": {
        "id": "h9NbqFjX8seR",
        "colab_type": "text"
      },
      "source": [
        "As we have seen that the model shows good balanced accuracies, we can now test the model on the whole data using the best parameters."
      ]
    },
    {
      "cell_type": "code",
      "metadata": {
        "id": "Z4Dwo3iHcttW",
        "colab_type": "code",
        "outputId": "ca4852bd-b0c5-4b0c-906d-2018269f5d78",
        "colab": {
          "base_uri": "https://localhost:8080/",
          "height": 357
        }
      },
      "source": [
        "X_full_train, X_full_test, Y_full_train, Y_full_test = train_test_split(X_full, Y_full, test_size=0.25, shuffle = True, random_state=42, stratify=None)\n",
        "# train\n",
        "model = SVC(C = best_c, kernel='linear')\n",
        "model.fit(X_train, Y_train)\n",
        "sc = StandardScaler()\n",
        "X_full_train = sc.fit_transform(X_full_train)\n",
        "X__full_test = sc.transform(X_full_test)\n",
        "Y_full_pred = model.predict(X_full_test)\n",
        "\n",
        "print(classification_report(Y_full_test, Y_full_pred))\n",
        "fpr, tpr, _ = roc_curve(Y_full_test, Y_full_pred)\n",
        "p, r, _ = precision_recall_curve(Y_full_test, Y_full_pred)\n",
        "cfm = confusion_matrix(Y_full_test, Y_full_pred)\n",
        "acc = accuracy_score(Y_full_test, Y_full_pred)\n",
        "prec_score = precision_score(Y_full_test, Y_full_pred)\n",
        "recall_scr = recall_score(Y_full_test, Y_full_pred)\n",
        "roc_scr = roc_auc_score(Y_full_test, Y_full_pred)\n",
        "bal_acry = balanced_accuracy_score(Y_full_test, Y_full_pred)\n",
        "f1_scry = f1_score(Y_full_test, Y_full_pred)\n",
        "\n",
        "\n",
        "print(\"Confusion Matrix for test on whole data:\")\n",
        "print(cfm)\n",
        "    \n",
        "print(\"----------\")\n",
        "print(\"SVM scores for test on whole data:\")\n",
        "print(\"Accuracy score = {}\".format(acc))\n",
        "print(\"Precision score = {}\".format(prec_score))\n",
        "print(\"Recall score = {}\".format(recall_scr))\n",
        "print(\"AUC_ROC score = {}\".format(roc_scr))\n",
        "print(\"Balanced accuracy score = {}\".format(bal_acry))\n",
        "print(\"F1 score = {}\".format(f1_scry))"
      ],
      "execution_count": 0,
      "outputs": [
        {
          "output_type": "stream",
          "text": [
            "              precision    recall  f1-score   support\n",
            "\n",
            "           0       1.00      0.99      1.00     71089\n",
            "           1       0.15      0.78      0.26       113\n",
            "\n",
            "    accuracy                           0.99     71202\n",
            "   macro avg       0.58      0.89      0.63     71202\n",
            "weighted avg       1.00      0.99      1.00     71202\n",
            "\n",
            "Confusion Matrix for test on whole data:\n",
            "[[70604   485]\n",
            " [   25    88]]\n",
            "----------\n",
            "SVM scores for test on whole data:\n",
            "Accuracy score = 0.9928372798516896\n",
            "Precision score = 0.15357766143106458\n",
            "Recall score = 0.7787610619469026\n",
            "AUC_ROC score = 0.8859693140481886\n",
            "Balanced accuracy score = 0.8859693140481886\n",
            "F1 score = 0.2565597667638484\n"
          ],
          "name": "stdout"
        }
      ]
    },
    {
      "cell_type": "markdown",
      "metadata": {
        "id": "LUpwSD3s7Rjq",
        "colab_type": "text"
      },
      "source": [
        "The accuracy of the model is high, but the recall is low. This means that due to the imbalance in data, the accuracy is high, but as the focus should be on the recall scores, as they define the number of fradulent transactions getting classified correctly. \n",
        "\n",
        "We will now plot the ROC and PR curves for the model."
      ]
    },
    {
      "cell_type": "code",
      "metadata": {
        "id": "3wEZIyiz9z28",
        "colab_type": "code",
        "outputId": "3d6dffbf-684f-4582-a812-6982d3ad7ed2",
        "colab": {
          "base_uri": "https://localhost:8080/",
          "height": 541
        }
      },
      "source": [
        "X_full_train, X_full_test, Y_full_train, Y_full_test = train_test_split(X_full, Y_full, test_size=0.25, shuffle = True, random_state=42, stratify=None)\n",
        "plot_roc_curve(model, X_full_test, Y_full_test, name='ROC Curve for SVM-UdSampld with 20% split')\n",
        "plt.show()\n",
        "\n",
        "# pr curve\n",
        "X_full_train, X_full_test, Y_full_train, Y_full_test = train_test_split(X_full, Y_full, test_size=0.25, shuffle = True, random_state=42, stratify=None)\n",
        "# models[0].fit(X_train, Y_train)\n",
        "plot_precision_recall_curve(model, X_full_test, Y_full_test, name='PR Curve for SVM-UdSampld with 10% split')\n",
        "plt.show()"
      ],
      "execution_count": 0,
      "outputs": [
        {
          "output_type": "display_data",
          "data": {
            "image/png": "[encoded data removed]",
            "text/plain": [
              "<Figure size 432x288 with 1 Axes>"
            ]
          },
          "metadata": {
            "tags": [],
            "needs_background": "light"
          }
        },
        {
          "output_type": "display_data",
          "data": {
            "image/png": "[encoded data removed]",
            "text/plain": [
              "<Figure size 432x288 with 1 Axes>"
            ]
          },
          "metadata": {
            "tags": [],
            "needs_background": "light"
          }
        }
      ]
    },
    {
      "cell_type": "markdown",
      "metadata": {
        "id": "lWHktaM199OG",
        "colab_type": "text"
      },
      "source": [
        "The results are promising, but as we have seen the results from Logistic Regression before, the accuracies are lower when compared.\n",
        "\n",
        "This shows that for the problem of Credit Card Fraud Detection, Logic Regression performs better than SVMs."
      ]
    }
  ]
}